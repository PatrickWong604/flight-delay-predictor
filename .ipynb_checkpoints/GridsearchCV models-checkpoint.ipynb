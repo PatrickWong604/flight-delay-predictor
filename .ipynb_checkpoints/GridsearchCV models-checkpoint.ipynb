{
 "cells": [
  {
   "cell_type": "code",
   "execution_count": 149,
   "id": "extra-invitation",
   "metadata": {},
   "outputs": [],
   "source": [
    "import pandas as pd\n",
    "import numpy as np\n",
    "pd.set_option('display.max_columns',False)\n",
    "import seaborn as sns\n",
    "import matplotlib.pyplot as plt\n",
    "from matplotlib import pyplot\n",
    "from sklearn.metrics import recall_score, precision_score, r2_score, accuracy_score, mean_absolute_error\n",
    "import pickle\n",
    "from sklearn.model_selection import train_test_split\n",
    "from sklearn.ensemble import RandomForestRegressor\n",
    "from sklearn.preprocessing import StandardScaler\n",
    "from sklearn import metrics\n",
    "from sklearn.metrics import mean_squared_error\n",
    "from sklearn.model_selection import GridSearchCV\n",
    "from sklearn.preprocessing import LabelEncoder\n",
    "sns.set_style(\"darkgrid\")"
   ]
  },
  {
   "cell_type": "code",
   "execution_count": 2,
   "id": "selective-doubt",
   "metadata": {},
   "outputs": [],
   "source": [
    "df_flights = pd.read_csv('cleaned_flights_300000sample1.csv')"
   ]
  },
  {
   "cell_type": "code",
   "execution_count": 3,
   "id": "passive-stake",
   "metadata": {},
   "outputs": [],
   "source": [
    "one_hot = pd.get_dummies(df_flights[['crs_dep_bin','crs_arr_bin']])\n",
    "df_flights = pd.concat([df_flights,one_hot],axis=1)"
   ]
  },
  {
   "cell_type": "code",
   "execution_count": 4,
   "id": "burning-denmark",
   "metadata": {},
   "outputs": [],
   "source": [
    "df_flights = df_flights.drop(['op_unique_carrier','origin','dest','origin','dest','fl_date','date_time','location','crs_dep_bin','crs_arr_bin'],axis=1)"
   ]
  },
  {
   "cell_type": "code",
   "execution_count": 5,
   "id": "exotic-composer",
   "metadata": {},
   "outputs": [
    {
     "data": {
      "text/html": [
       "<div>\n",
       "<style scoped>\n",
       "    .dataframe tbody tr th:only-of-type {\n",
       "        vertical-align: middle;\n",
       "    }\n",
       "\n",
       "    .dataframe tbody tr th {\n",
       "        vertical-align: top;\n",
       "    }\n",
       "\n",
       "    .dataframe thead th {\n",
       "        text-align: right;\n",
       "    }\n",
       "</style>\n",
       "<table border=\"1\" class=\"dataframe\">\n",
       "  <thead>\n",
       "    <tr style=\"text-align: right;\">\n",
       "      <th></th>\n",
       "      <th>crs_dep_time</th>\n",
       "      <th>crs_arr_time</th>\n",
       "      <th>arr_delay</th>\n",
       "      <th>crs_elapsed_time</th>\n",
       "      <th>distance</th>\n",
       "      <th>month</th>\n",
       "      <th>weekday</th>\n",
       "      <th>totalSnow_cm</th>\n",
       "      <th>precipMM</th>\n",
       "      <th>visibility</th>\n",
       "      <th>windspeedKmph</th>\n",
       "      <th>crs_dep_bin_Afternoon</th>\n",
       "      <th>crs_dep_bin_Evening</th>\n",
       "      <th>crs_dep_bin_Morning</th>\n",
       "      <th>crs_dep_bin_Night</th>\n",
       "      <th>crs_arr_bin_Afternoon</th>\n",
       "      <th>crs_arr_bin_Evening</th>\n",
       "      <th>crs_arr_bin_Morning</th>\n",
       "      <th>crs_arr_bin_Night</th>\n",
       "    </tr>\n",
       "  </thead>\n",
       "  <tbody>\n",
       "    <tr>\n",
       "      <th>0</th>\n",
       "      <td>20</td>\n",
       "      <td>21</td>\n",
       "      <td>106.0</td>\n",
       "      <td>72.0</td>\n",
       "      <td>243.0</td>\n",
       "      <td>6</td>\n",
       "      <td>1</td>\n",
       "      <td>0.0</td>\n",
       "      <td>0.4</td>\n",
       "      <td>10</td>\n",
       "      <td>8</td>\n",
       "      <td>0</td>\n",
       "      <td>0</td>\n",
       "      <td>0</td>\n",
       "      <td>1</td>\n",
       "      <td>0</td>\n",
       "      <td>0</td>\n",
       "      <td>0</td>\n",
       "      <td>1</td>\n",
       "    </tr>\n",
       "    <tr>\n",
       "      <th>1</th>\n",
       "      <td>8</td>\n",
       "      <td>9</td>\n",
       "      <td>46.0</td>\n",
       "      <td>71.0</td>\n",
       "      <td>282.0</td>\n",
       "      <td>7</td>\n",
       "      <td>1</td>\n",
       "      <td>0.0</td>\n",
       "      <td>6.5</td>\n",
       "      <td>9</td>\n",
       "      <td>18</td>\n",
       "      <td>1</td>\n",
       "      <td>0</td>\n",
       "      <td>0</td>\n",
       "      <td>0</td>\n",
       "      <td>1</td>\n",
       "      <td>0</td>\n",
       "      <td>0</td>\n",
       "      <td>0</td>\n",
       "    </tr>\n",
       "    <tr>\n",
       "      <th>2</th>\n",
       "      <td>7</td>\n",
       "      <td>9</td>\n",
       "      <td>19.0</td>\n",
       "      <td>154.0</td>\n",
       "      <td>773.0</td>\n",
       "      <td>10</td>\n",
       "      <td>4</td>\n",
       "      <td>0.0</td>\n",
       "      <td>0.1</td>\n",
       "      <td>10</td>\n",
       "      <td>8</td>\n",
       "      <td>1</td>\n",
       "      <td>0</td>\n",
       "      <td>0</td>\n",
       "      <td>0</td>\n",
       "      <td>1</td>\n",
       "      <td>0</td>\n",
       "      <td>0</td>\n",
       "      <td>0</td>\n",
       "    </tr>\n",
       "    <tr>\n",
       "      <th>3</th>\n",
       "      <td>22</td>\n",
       "      <td>0</td>\n",
       "      <td>8.0</td>\n",
       "      <td>156.0</td>\n",
       "      <td>815.0</td>\n",
       "      <td>10</td>\n",
       "      <td>0</td>\n",
       "      <td>0.0</td>\n",
       "      <td>0.7</td>\n",
       "      <td>8</td>\n",
       "      <td>5</td>\n",
       "      <td>0</td>\n",
       "      <td>0</td>\n",
       "      <td>0</td>\n",
       "      <td>1</td>\n",
       "      <td>0</td>\n",
       "      <td>0</td>\n",
       "      <td>1</td>\n",
       "      <td>0</td>\n",
       "    </tr>\n",
       "    <tr>\n",
       "      <th>4</th>\n",
       "      <td>6</td>\n",
       "      <td>10</td>\n",
       "      <td>-25.0</td>\n",
       "      <td>318.0</td>\n",
       "      <td>1990.0</td>\n",
       "      <td>10</td>\n",
       "      <td>5</td>\n",
       "      <td>0.0</td>\n",
       "      <td>0.1</td>\n",
       "      <td>10</td>\n",
       "      <td>14</td>\n",
       "      <td>1</td>\n",
       "      <td>0</td>\n",
       "      <td>0</td>\n",
       "      <td>0</td>\n",
       "      <td>1</td>\n",
       "      <td>0</td>\n",
       "      <td>0</td>\n",
       "      <td>0</td>\n",
       "    </tr>\n",
       "    <tr>\n",
       "      <th>...</th>\n",
       "      <td>...</td>\n",
       "      <td>...</td>\n",
       "      <td>...</td>\n",
       "      <td>...</td>\n",
       "      <td>...</td>\n",
       "      <td>...</td>\n",
       "      <td>...</td>\n",
       "      <td>...</td>\n",
       "      <td>...</td>\n",
       "      <td>...</td>\n",
       "      <td>...</td>\n",
       "      <td>...</td>\n",
       "      <td>...</td>\n",
       "      <td>...</td>\n",
       "      <td>...</td>\n",
       "      <td>...</td>\n",
       "      <td>...</td>\n",
       "      <td>...</td>\n",
       "      <td>...</td>\n",
       "    </tr>\n",
       "    <tr>\n",
       "      <th>288587</th>\n",
       "      <td>7</td>\n",
       "      <td>7</td>\n",
       "      <td>-8.0</td>\n",
       "      <td>115.0</td>\n",
       "      <td>411.0</td>\n",
       "      <td>4</td>\n",
       "      <td>3</td>\n",
       "      <td>0.0</td>\n",
       "      <td>3.3</td>\n",
       "      <td>10</td>\n",
       "      <td>7</td>\n",
       "      <td>1</td>\n",
       "      <td>0</td>\n",
       "      <td>0</td>\n",
       "      <td>0</td>\n",
       "      <td>1</td>\n",
       "      <td>0</td>\n",
       "      <td>0</td>\n",
       "      <td>0</td>\n",
       "    </tr>\n",
       "    <tr>\n",
       "      <th>288588</th>\n",
       "      <td>6</td>\n",
       "      <td>8</td>\n",
       "      <td>4.0</td>\n",
       "      <td>127.0</td>\n",
       "      <td>585.0</td>\n",
       "      <td>3</td>\n",
       "      <td>5</td>\n",
       "      <td>0.0</td>\n",
       "      <td>21.7</td>\n",
       "      <td>9</td>\n",
       "      <td>20</td>\n",
       "      <td>1</td>\n",
       "      <td>0</td>\n",
       "      <td>0</td>\n",
       "      <td>0</td>\n",
       "      <td>1</td>\n",
       "      <td>0</td>\n",
       "      <td>0</td>\n",
       "      <td>0</td>\n",
       "    </tr>\n",
       "    <tr>\n",
       "      <th>288589</th>\n",
       "      <td>6</td>\n",
       "      <td>10</td>\n",
       "      <td>19.0</td>\n",
       "      <td>227.0</td>\n",
       "      <td>1249.0</td>\n",
       "      <td>1</td>\n",
       "      <td>0</td>\n",
       "      <td>0.1</td>\n",
       "      <td>0.2</td>\n",
       "      <td>9</td>\n",
       "      <td>30</td>\n",
       "      <td>1</td>\n",
       "      <td>0</td>\n",
       "      <td>0</td>\n",
       "      <td>0</td>\n",
       "      <td>1</td>\n",
       "      <td>0</td>\n",
       "      <td>0</td>\n",
       "      <td>0</td>\n",
       "    </tr>\n",
       "    <tr>\n",
       "      <th>288590</th>\n",
       "      <td>15</td>\n",
       "      <td>18</td>\n",
       "      <td>-16.0</td>\n",
       "      <td>120.0</td>\n",
       "      <td>755.0</td>\n",
       "      <td>1</td>\n",
       "      <td>2</td>\n",
       "      <td>0.0</td>\n",
       "      <td>0.0</td>\n",
       "      <td>10</td>\n",
       "      <td>10</td>\n",
       "      <td>0</td>\n",
       "      <td>1</td>\n",
       "      <td>0</td>\n",
       "      <td>0</td>\n",
       "      <td>0</td>\n",
       "      <td>0</td>\n",
       "      <td>0</td>\n",
       "      <td>1</td>\n",
       "    </tr>\n",
       "    <tr>\n",
       "      <th>288591</th>\n",
       "      <td>10</td>\n",
       "      <td>11</td>\n",
       "      <td>-16.0</td>\n",
       "      <td>68.0</td>\n",
       "      <td>199.0</td>\n",
       "      <td>10</td>\n",
       "      <td>3</td>\n",
       "      <td>0.0</td>\n",
       "      <td>0.0</td>\n",
       "      <td>10</td>\n",
       "      <td>6</td>\n",
       "      <td>1</td>\n",
       "      <td>0</td>\n",
       "      <td>0</td>\n",
       "      <td>0</td>\n",
       "      <td>1</td>\n",
       "      <td>0</td>\n",
       "      <td>0</td>\n",
       "      <td>0</td>\n",
       "    </tr>\n",
       "  </tbody>\n",
       "</table>\n",
       "<p>288592 rows × 19 columns</p>\n",
       "</div>"
      ],
      "text/plain": [
       "        crs_dep_time  crs_arr_time  ...  crs_arr_bin_Morning  crs_arr_bin_Night\n",
       "0                 20            21  ...                    0                  1\n",
       "1                  8             9  ...                    0                  0\n",
       "2                  7             9  ...                    0                  0\n",
       "3                 22             0  ...                    1                  0\n",
       "4                  6            10  ...                    0                  0\n",
       "...              ...           ...  ...                  ...                ...\n",
       "288587             7             7  ...                    0                  0\n",
       "288588             6             8  ...                    0                  0\n",
       "288589             6            10  ...                    0                  0\n",
       "288590            15            18  ...                    0                  1\n",
       "288591            10            11  ...                    0                  0\n",
       "\n",
       "[288592 rows x 19 columns]"
      ]
     },
     "execution_count": 5,
     "metadata": {},
     "output_type": "execute_result"
    }
   ],
   "source": [
    "df_flights"
   ]
  },
  {
   "cell_type": "code",
   "execution_count": 6,
   "id": "proprietary-surveillance",
   "metadata": {},
   "outputs": [],
   "source": [
    "X = df_flights.drop(['arr_delay'],axis=1)\n",
    "y = df_flights['arr_delay']"
   ]
  },
  {
   "cell_type": "code",
   "execution_count": 7,
   "id": "senior-ability",
   "metadata": {},
   "outputs": [],
   "source": [
    "scaler = StandardScaler()\n",
    "X_scale = scaler.fit_transform(X)\n",
    "X_scale = pd.DataFrame(X_scale,columns=X.columns)"
   ]
  },
  {
   "cell_type": "code",
   "execution_count": 8,
   "id": "daily-provincial",
   "metadata": {},
   "outputs": [],
   "source": [
    "X_train, X_test, y_train, y_test = train_test_split(X_scale,y,test_size=0.25,random_state=65)"
   ]
  },
  {
   "cell_type": "code",
   "execution_count": 9,
   "id": "through-france",
   "metadata": {},
   "outputs": [],
   "source": [
    "params = {\n",
    "    'n_estimators': [50,100,150,200,250,300],\n",
    "    'max_depth': [1,3,5,7,9]\n",
    "}\n",
    "n=5"
   ]
  },
  {
   "cell_type": "code",
   "execution_count": 10,
   "id": "harmful-pierce",
   "metadata": {},
   "outputs": [],
   "source": [
    "rf = RandomForestRegressor()\n",
    "grid = GridSearchCV(estimator=rf,param_grid=params,cv=n,scoring='r2',verbose=1,n_jobs=-1)"
   ]
  },
  {
   "cell_type": "code",
   "execution_count": null,
   "id": "victorian-extreme",
   "metadata": {},
   "outputs": [],
   "source": [
    "grid_results = grid.fit(X_train,y_train)"
   ]
  },
  {
   "cell_type": "code",
   "execution_count": null,
   "id": "floppy-shopper",
   "metadata": {},
   "outputs": [],
   "source": [
    "#save model with pickle\n",
    "# filename = 'gridsearchcv.sav'\n",
    "# pickle.dump(grid,open(filename,'wb'))"
   ]
  },
  {
   "cell_type": "code",
   "execution_count": 11,
   "id": "irish-campus",
   "metadata": {},
   "outputs": [],
   "source": [
    "#load model with pickle\n",
    "grid_results = pickle.load(open('gridsearchcv.sav','rb'))"
   ]
  },
  {
   "cell_type": "code",
   "execution_count": 12,
   "id": "outer-hawaiian",
   "metadata": {},
   "outputs": [],
   "source": [
    "grid_pred = grid_results.predict(X_test)"
   ]
  },
  {
   "cell_type": "code",
   "execution_count": 13,
   "id": "initial-identifier",
   "metadata": {},
   "outputs": [
    {
     "name": "stdout",
     "output_type": "stream",
     "text": [
      "Best Score: 0.06357993643265733\n",
      "Best Params: {'max_depth': 9, 'n_estimators': 250}\n"
     ]
    }
   ],
   "source": [
    "best_score = grid_results.best_score_\n",
    "best_params = grid_results.best_params_\n",
    "print('Best Score:',best_score)\n",
    "print('Best Params:',best_params)"
   ]
  },
  {
   "cell_type": "code",
   "execution_count": 16,
   "id": "environmental-prague",
   "metadata": {},
   "outputs": [
    {
     "name": "stdout",
     "output_type": "stream",
     "text": [
      "Root Mean Square Error: 27.94893875436077\n"
     ]
    }
   ],
   "source": [
    "rf_rmse = np.sqrt(mean_squared_error(y_test,grid_pred))\n",
    "print(f'Root Mean Square Error: {rf_rmse}')"
   ]
  },
  {
   "cell_type": "code",
   "execution_count": 17,
   "id": "revised-association",
   "metadata": {},
   "outputs": [
    {
     "name": "stdout",
     "output_type": "stream",
     "text": [
      "Mean Absolute Error: 18.440732992903133\n"
     ]
    }
   ],
   "source": [
    "rf_mae = mean_absolute_error(y_test,grid_pred)\n",
    "print(f'Mean Absolute Error: {rf_mae}')"
   ]
  },
  {
   "cell_type": "code",
   "execution_count": 124,
   "id": "military-conflict",
   "metadata": {},
   "outputs": [],
   "source": [
    "grid_diff = grid_pred-y_test\n",
    "\n",
    "grid_df = pd.DataFrame({'grid_pred':grid_pred,\n",
    "                       'y_test':y_test,\n",
    "                       'difference':grid_diff})"
   ]
  },
  {
   "cell_type": "code",
   "execution_count": 125,
   "id": "filled-richardson",
   "metadata": {},
   "outputs": [
    {
     "data": {
      "text/html": [
       "<div>\n",
       "<style scoped>\n",
       "    .dataframe tbody tr th:only-of-type {\n",
       "        vertical-align: middle;\n",
       "    }\n",
       "\n",
       "    .dataframe tbody tr th {\n",
       "        vertical-align: top;\n",
       "    }\n",
       "\n",
       "    .dataframe thead th {\n",
       "        text-align: right;\n",
       "    }\n",
       "</style>\n",
       "<table border=\"1\" class=\"dataframe\">\n",
       "  <thead>\n",
       "    <tr style=\"text-align: right;\">\n",
       "      <th></th>\n",
       "      <th>grid_pred</th>\n",
       "      <th>y_test</th>\n",
       "      <th>difference</th>\n",
       "    </tr>\n",
       "  </thead>\n",
       "  <tbody>\n",
       "    <tr>\n",
       "      <th>279780</th>\n",
       "      <td>-3.968011</td>\n",
       "      <td>-22.0</td>\n",
       "      <td>18.031989</td>\n",
       "    </tr>\n",
       "    <tr>\n",
       "      <th>224850</th>\n",
       "      <td>1.531644</td>\n",
       "      <td>7.0</td>\n",
       "      <td>-5.468356</td>\n",
       "    </tr>\n",
       "    <tr>\n",
       "      <th>169042</th>\n",
       "      <td>-4.001614</td>\n",
       "      <td>-13.0</td>\n",
       "      <td>8.998386</td>\n",
       "    </tr>\n",
       "    <tr>\n",
       "      <th>168470</th>\n",
       "      <td>-4.513008</td>\n",
       "      <td>-2.0</td>\n",
       "      <td>-2.513008</td>\n",
       "    </tr>\n",
       "    <tr>\n",
       "      <th>260180</th>\n",
       "      <td>-3.657757</td>\n",
       "      <td>-17.0</td>\n",
       "      <td>13.342243</td>\n",
       "    </tr>\n",
       "  </tbody>\n",
       "</table>\n",
       "</div>"
      ],
      "text/plain": [
       "        grid_pred  y_test  difference\n",
       "279780  -3.968011   -22.0   18.031989\n",
       "224850   1.531644     7.0   -5.468356\n",
       "169042  -4.001614   -13.0    8.998386\n",
       "168470  -4.513008    -2.0   -2.513008\n",
       "260180  -3.657757   -17.0   13.342243"
      ]
     },
     "execution_count": 125,
     "metadata": {},
     "output_type": "execute_result"
    }
   ],
   "source": [
    "grid_df.head()"
   ]
  },
  {
   "cell_type": "code",
   "execution_count": 126,
   "id": "billion-rapid",
   "metadata": {},
   "outputs": [
    {
     "data": {
      "text/html": [
       "<div>\n",
       "<style scoped>\n",
       "    .dataframe tbody tr th:only-of-type {\n",
       "        vertical-align: middle;\n",
       "    }\n",
       "\n",
       "    .dataframe tbody tr th {\n",
       "        vertical-align: top;\n",
       "    }\n",
       "\n",
       "    .dataframe thead th {\n",
       "        text-align: right;\n",
       "    }\n",
       "</style>\n",
       "<table border=\"1\" class=\"dataframe\">\n",
       "  <thead>\n",
       "    <tr style=\"text-align: right;\">\n",
       "      <th></th>\n",
       "      <th>grid_pred</th>\n",
       "      <th>y_test</th>\n",
       "      <th>difference</th>\n",
       "    </tr>\n",
       "  </thead>\n",
       "  <tbody>\n",
       "    <tr>\n",
       "      <th>count</th>\n",
       "      <td>72148.000000</td>\n",
       "      <td>72148.000000</td>\n",
       "      <td>72148.000000</td>\n",
       "    </tr>\n",
       "    <tr>\n",
       "      <th>mean</th>\n",
       "      <td>1.129299</td>\n",
       "      <td>1.066433</td>\n",
       "      <td>0.062867</td>\n",
       "    </tr>\n",
       "    <tr>\n",
       "      <th>std</th>\n",
       "      <td>7.195519</td>\n",
       "      <td>28.999379</td>\n",
       "      <td>27.725786</td>\n",
       "    </tr>\n",
       "    <tr>\n",
       "      <th>min</th>\n",
       "      <td>-23.095260</td>\n",
       "      <td>-77.000000</td>\n",
       "      <td>-165.332762</td>\n",
       "    </tr>\n",
       "    <tr>\n",
       "      <th>25%</th>\n",
       "      <td>-3.635497</td>\n",
       "      <td>-15.000000</td>\n",
       "      <td>-5.907077</td>\n",
       "    </tr>\n",
       "    <tr>\n",
       "      <th>50%</th>\n",
       "      <td>-0.677188</td>\n",
       "      <td>-7.000000</td>\n",
       "      <td>6.359009</td>\n",
       "    </tr>\n",
       "    <tr>\n",
       "      <th>75%</th>\n",
       "      <td>3.302286</td>\n",
       "      <td>6.000000</td>\n",
       "      <td>15.490964</td>\n",
       "    </tr>\n",
       "    <tr>\n",
       "      <th>max</th>\n",
       "      <td>100.484829</td>\n",
       "      <td>162.000000</td>\n",
       "      <td>90.948889</td>\n",
       "    </tr>\n",
       "  </tbody>\n",
       "</table>\n",
       "</div>"
      ],
      "text/plain": [
       "          grid_pred        y_test    difference\n",
       "count  72148.000000  72148.000000  72148.000000\n",
       "mean       1.129299      1.066433      0.062867\n",
       "std        7.195519     28.999379     27.725786\n",
       "min      -23.095260    -77.000000   -165.332762\n",
       "25%       -3.635497    -15.000000     -5.907077\n",
       "50%       -0.677188     -7.000000      6.359009\n",
       "75%        3.302286      6.000000     15.490964\n",
       "max      100.484829    162.000000     90.948889"
      ]
     },
     "execution_count": 126,
     "metadata": {},
     "output_type": "execute_result"
    }
   ],
   "source": [
    "grid_df.describe()"
   ]
  },
  {
   "cell_type": "code",
   "execution_count": 88,
   "id": "dominican-trace",
   "metadata": {},
   "outputs": [],
   "source": [
    "feature_importances = grid_results.best_estimator_.feature_importances_"
   ]
  },
  {
   "cell_type": "code",
   "execution_count": 89,
   "id": "capable-swedish",
   "metadata": {},
   "outputs": [],
   "source": [
    "feature_importances = {'feature_importance':feature_importances}\n",
    "features_df = pd.DataFrame(feature_importances,index=X_test.columns)"
   ]
  },
  {
   "cell_type": "code",
   "execution_count": 90,
   "id": "boolean-anxiety",
   "metadata": {},
   "outputs": [
    {
     "data": {
      "text/html": [
       "<div>\n",
       "<style scoped>\n",
       "    .dataframe tbody tr th:only-of-type {\n",
       "        vertical-align: middle;\n",
       "    }\n",
       "\n",
       "    .dataframe tbody tr th {\n",
       "        vertical-align: top;\n",
       "    }\n",
       "\n",
       "    .dataframe thead th {\n",
       "        text-align: right;\n",
       "    }\n",
       "</style>\n",
       "<table border=\"1\" class=\"dataframe\">\n",
       "  <thead>\n",
       "    <tr style=\"text-align: right;\">\n",
       "      <th></th>\n",
       "      <th>feature_importance</th>\n",
       "    </tr>\n",
       "  </thead>\n",
       "  <tbody>\n",
       "    <tr>\n",
       "      <th>crs_dep_time</th>\n",
       "      <td>0.236666</td>\n",
       "    </tr>\n",
       "    <tr>\n",
       "      <th>crs_arr_time</th>\n",
       "      <td>0.035858</td>\n",
       "    </tr>\n",
       "    <tr>\n",
       "      <th>crs_elapsed_time</th>\n",
       "      <td>0.056273</td>\n",
       "    </tr>\n",
       "    <tr>\n",
       "      <th>distance</th>\n",
       "      <td>0.065887</td>\n",
       "    </tr>\n",
       "    <tr>\n",
       "      <th>month</th>\n",
       "      <td>0.088156</td>\n",
       "    </tr>\n",
       "    <tr>\n",
       "      <th>weekday</th>\n",
       "      <td>0.032652</td>\n",
       "    </tr>\n",
       "    <tr>\n",
       "      <th>totalSnow_cm</th>\n",
       "      <td>0.080580</td>\n",
       "    </tr>\n",
       "    <tr>\n",
       "      <th>precipMM</th>\n",
       "      <td>0.296498</td>\n",
       "    </tr>\n",
       "    <tr>\n",
       "      <th>visibility</th>\n",
       "      <td>0.030117</td>\n",
       "    </tr>\n",
       "    <tr>\n",
       "      <th>windspeedKmph</th>\n",
       "      <td>0.067514</td>\n",
       "    </tr>\n",
       "    <tr>\n",
       "      <th>crs_dep_bin_Afternoon</th>\n",
       "      <td>0.000880</td>\n",
       "    </tr>\n",
       "    <tr>\n",
       "      <th>crs_dep_bin_Evening</th>\n",
       "      <td>0.002354</td>\n",
       "    </tr>\n",
       "    <tr>\n",
       "      <th>crs_dep_bin_Morning</th>\n",
       "      <td>0.000268</td>\n",
       "    </tr>\n",
       "    <tr>\n",
       "      <th>crs_dep_bin_Night</th>\n",
       "      <td>0.001515</td>\n",
       "    </tr>\n",
       "    <tr>\n",
       "      <th>crs_arr_bin_Afternoon</th>\n",
       "      <td>0.000784</td>\n",
       "    </tr>\n",
       "    <tr>\n",
       "      <th>crs_arr_bin_Evening</th>\n",
       "      <td>0.001954</td>\n",
       "    </tr>\n",
       "    <tr>\n",
       "      <th>crs_arr_bin_Morning</th>\n",
       "      <td>0.000558</td>\n",
       "    </tr>\n",
       "    <tr>\n",
       "      <th>crs_arr_bin_Night</th>\n",
       "      <td>0.001485</td>\n",
       "    </tr>\n",
       "  </tbody>\n",
       "</table>\n",
       "</div>"
      ],
      "text/plain": [
       "                       feature_importance\n",
       "crs_dep_time                     0.236666\n",
       "crs_arr_time                     0.035858\n",
       "crs_elapsed_time                 0.056273\n",
       "distance                         0.065887\n",
       "month                            0.088156\n",
       "weekday                          0.032652\n",
       "totalSnow_cm                     0.080580\n",
       "precipMM                         0.296498\n",
       "visibility                       0.030117\n",
       "windspeedKmph                    0.067514\n",
       "crs_dep_bin_Afternoon            0.000880\n",
       "crs_dep_bin_Evening              0.002354\n",
       "crs_dep_bin_Morning              0.000268\n",
       "crs_dep_bin_Night                0.001515\n",
       "crs_arr_bin_Afternoon            0.000784\n",
       "crs_arr_bin_Evening              0.001954\n",
       "crs_arr_bin_Morning              0.000558\n",
       "crs_arr_bin_Night                0.001485"
      ]
     },
     "execution_count": 90,
     "metadata": {},
     "output_type": "execute_result"
    }
   ],
   "source": [
    "features_df"
   ]
  },
  {
   "cell_type": "code",
   "execution_count": 94,
   "id": "german-reflection",
   "metadata": {},
   "outputs": [
    {
     "data": {
      "image/png": "[encoded data removed]",
      "text/plain": [
       "<Figure size 432x288 with 1 Axes>"
      ]
     },
     "metadata": {
      "needs_background": "light"
     },
     "output_type": "display_data"
    }
   ],
   "source": [
    "pyplot.bar(features_df.index,features_df['feature_importance'])\n",
    "plt.xticks(rotation=70)\n",
    "pyplot.show()"
   ]
  },
  {
   "cell_type": "markdown",
   "id": "configured-tuner",
   "metadata": {},
   "source": []
  },
  {
   "cell_type": "markdown",
   "id": "fundamental-soccer",
   "metadata": {},
   "source": []
  },
  {
   "cell_type": "markdown",
   "id": "verbal-reasoning",
   "metadata": {},
   "source": [
    "### Test GridSearchCV without the departure and arrival bins."
   ]
  },
  {
   "cell_type": "code",
   "execution_count": 3,
   "id": "legitimate-heath",
   "metadata": {},
   "outputs": [],
   "source": [
    "#reload dataset\n",
    "df_flights = pd.read_csv('cleaned_flights_300000sample1.csv')"
   ]
  },
  {
   "cell_type": "code",
   "execution_count": 4,
   "id": "union-speaking",
   "metadata": {},
   "outputs": [],
   "source": [
    "df_flights = df_flights.drop(['op_unique_carrier','origin','dest','origin','dest','fl_date','date_time','location','crs_dep_bin','crs_arr_bin'],axis=1)"
   ]
  },
  {
   "cell_type": "code",
   "execution_count": 5,
   "id": "cathedral-renewal",
   "metadata": {},
   "outputs": [
    {
     "data": {
      "text/html": [
       "<div>\n",
       "<style scoped>\n",
       "    .dataframe tbody tr th:only-of-type {\n",
       "        vertical-align: middle;\n",
       "    }\n",
       "\n",
       "    .dataframe tbody tr th {\n",
       "        vertical-align: top;\n",
       "    }\n",
       "\n",
       "    .dataframe thead th {\n",
       "        text-align: right;\n",
       "    }\n",
       "</style>\n",
       "<table border=\"1\" class=\"dataframe\">\n",
       "  <thead>\n",
       "    <tr style=\"text-align: right;\">\n",
       "      <th></th>\n",
       "      <th>crs_dep_time</th>\n",
       "      <th>crs_arr_time</th>\n",
       "      <th>arr_delay</th>\n",
       "      <th>crs_elapsed_time</th>\n",
       "      <th>distance</th>\n",
       "      <th>month</th>\n",
       "      <th>weekday</th>\n",
       "      <th>totalSnow_cm</th>\n",
       "      <th>precipMM</th>\n",
       "      <th>visibility</th>\n",
       "      <th>windspeedKmph</th>\n",
       "    </tr>\n",
       "  </thead>\n",
       "  <tbody>\n",
       "    <tr>\n",
       "      <th>0</th>\n",
       "      <td>20</td>\n",
       "      <td>21</td>\n",
       "      <td>106.0</td>\n",
       "      <td>72.0</td>\n",
       "      <td>243.0</td>\n",
       "      <td>6</td>\n",
       "      <td>1</td>\n",
       "      <td>0.0</td>\n",
       "      <td>0.4</td>\n",
       "      <td>10</td>\n",
       "      <td>8</td>\n",
       "    </tr>\n",
       "    <tr>\n",
       "      <th>1</th>\n",
       "      <td>8</td>\n",
       "      <td>9</td>\n",
       "      <td>46.0</td>\n",
       "      <td>71.0</td>\n",
       "      <td>282.0</td>\n",
       "      <td>7</td>\n",
       "      <td>1</td>\n",
       "      <td>0.0</td>\n",
       "      <td>6.5</td>\n",
       "      <td>9</td>\n",
       "      <td>18</td>\n",
       "    </tr>\n",
       "    <tr>\n",
       "      <th>2</th>\n",
       "      <td>7</td>\n",
       "      <td>9</td>\n",
       "      <td>19.0</td>\n",
       "      <td>154.0</td>\n",
       "      <td>773.0</td>\n",
       "      <td>10</td>\n",
       "      <td>4</td>\n",
       "      <td>0.0</td>\n",
       "      <td>0.1</td>\n",
       "      <td>10</td>\n",
       "      <td>8</td>\n",
       "    </tr>\n",
       "    <tr>\n",
       "      <th>3</th>\n",
       "      <td>22</td>\n",
       "      <td>0</td>\n",
       "      <td>8.0</td>\n",
       "      <td>156.0</td>\n",
       "      <td>815.0</td>\n",
       "      <td>10</td>\n",
       "      <td>0</td>\n",
       "      <td>0.0</td>\n",
       "      <td>0.7</td>\n",
       "      <td>8</td>\n",
       "      <td>5</td>\n",
       "    </tr>\n",
       "    <tr>\n",
       "      <th>4</th>\n",
       "      <td>6</td>\n",
       "      <td>10</td>\n",
       "      <td>-25.0</td>\n",
       "      <td>318.0</td>\n",
       "      <td>1990.0</td>\n",
       "      <td>10</td>\n",
       "      <td>5</td>\n",
       "      <td>0.0</td>\n",
       "      <td>0.1</td>\n",
       "      <td>10</td>\n",
       "      <td>14</td>\n",
       "    </tr>\n",
       "  </tbody>\n",
       "</table>\n",
       "</div>"
      ],
      "text/plain": [
       "   crs_dep_time  crs_arr_time  arr_delay  ...  precipMM  visibility  windspeedKmph\n",
       "0            20            21      106.0  ...       0.4          10              8\n",
       "1             8             9       46.0  ...       6.5           9             18\n",
       "2             7             9       19.0  ...       0.1          10              8\n",
       "3            22             0        8.0  ...       0.7           8              5\n",
       "4             6            10      -25.0  ...       0.1          10             14\n",
       "\n",
       "[5 rows x 11 columns]"
      ]
     },
     "execution_count": 5,
     "metadata": {},
     "output_type": "execute_result"
    }
   ],
   "source": [
    "df_flights.head()"
   ]
  },
  {
   "cell_type": "code",
   "execution_count": 6,
   "id": "negative-lawsuit",
   "metadata": {},
   "outputs": [],
   "source": [
    "X2 = df_flights.drop(['arr_delay'],axis=1)\n",
    "y2 = df_flights['arr_delay']"
   ]
  },
  {
   "cell_type": "code",
   "execution_count": 7,
   "id": "formal-graph",
   "metadata": {},
   "outputs": [],
   "source": [
    "scaler = StandardScaler()\n",
    "X_scale2 = scaler.fit_transform(X2)\n",
    "X_scale2 = pd.DataFrame(X_scale2,columns=X2.columns)"
   ]
  },
  {
   "cell_type": "code",
   "execution_count": 8,
   "id": "minimal-twenty",
   "metadata": {},
   "outputs": [],
   "source": [
    "X_train2, X_test2, y_train2, y_test2 = train_test_split(X_scale2,y2,test_size=0.25,random_state=65)"
   ]
  },
  {
   "cell_type": "code",
   "execution_count": 9,
   "id": "proud-planner",
   "metadata": {},
   "outputs": [],
   "source": [
    "params = {\n",
    "    'n_estimators': [50,100,150,200,250,300],\n",
    "    'max_depth': [1,3,5,7,9]\n",
    "}\n",
    "n=5"
   ]
  },
  {
   "cell_type": "code",
   "execution_count": 10,
   "id": "polish-findings",
   "metadata": {},
   "outputs": [],
   "source": [
    "rf = RandomForestRegressor()\n",
    "grid2 = GridSearchCV(estimator=rf,param_grid=params,cv=n,scoring='r2',verbose=1,n_jobs=-1)"
   ]
  },
  {
   "cell_type": "code",
   "execution_count": 11,
   "id": "tested-omaha",
   "metadata": {},
   "outputs": [
    {
     "name": "stdout",
     "output_type": "stream",
     "text": [
      "Fitting 5 folds for each of 30 candidates, totalling 150 fits\n"
     ]
    }
   ],
   "source": [
    "grid_results2 = grid2.fit(X_train2,y_train2)"
   ]
  },
  {
   "cell_type": "code",
   "execution_count": 12,
   "id": "matched-empty",
   "metadata": {},
   "outputs": [],
   "source": [
    "#save model with pickle\n",
    "# filename2 = 'GridSearchCV_nobins.sav'\n",
    "# pickle.dump(grid2,open(filename2,'wb'))"
   ]
  },
  {
   "cell_type": "code",
   "execution_count": 3,
   "id": "heard-maldives",
   "metadata": {},
   "outputs": [],
   "source": [
    "#load model with pickle\n",
    "grid_results2 = pickle.load(open('gridsearchcv_nobins.sav','rb'))"
   ]
  },
  {
   "cell_type": "code",
   "execution_count": 13,
   "id": "numeric-electron",
   "metadata": {},
   "outputs": [],
   "source": [
    "grid_pred2 = grid_results2.predict(X_test2)"
   ]
  },
  {
   "cell_type": "code",
   "execution_count": 49,
   "id": "going-connectivity",
   "metadata": {},
   "outputs": [
    {
     "name": "stdout",
     "output_type": "stream",
     "text": [
      "Root Mean Square Error: 28.26187118693062\n"
     ]
    }
   ],
   "source": [
    "rf_rmse2 = np.sqrt(mean_squared_error(y_test2,grid_pred2))\n",
    "print(f'Root Mean Square Error: {rf_rmse2}')"
   ]
  },
  {
   "cell_type": "code",
   "execution_count": 50,
   "id": "quiet-instrument",
   "metadata": {},
   "outputs": [
    {
     "name": "stdout",
     "output_type": "stream",
     "text": [
      "Mean Absolute Error: 18.594549491955583\n"
     ]
    }
   ],
   "source": [
    "rf_mae2 = mean_absolute_error(y_test2,grid_pred2)\n",
    "print(f'Mean Absolute Error: {rf_mae2}')"
   ]
  },
  {
   "cell_type": "code",
   "execution_count": 43,
   "id": "august-warner",
   "metadata": {},
   "outputs": [
    {
     "name": "stdout",
     "output_type": "stream",
     "text": [
      "Best Score: 0.06352145408002144\n",
      "Best Params: {'max_depth': 9, 'n_estimators': 300}\n"
     ]
    }
   ],
   "source": [
    "best_score2 = grid_results2.best_score_\n",
    "best_params2 = grid_results2.best_params_\n",
    "print('Best Score:',best_score2)\n",
    "print('Best Params:',best_params2)"
   ]
  },
  {
   "cell_type": "code",
   "execution_count": 17,
   "id": "likely-hearts",
   "metadata": {},
   "outputs": [],
   "source": [
    "grid_diff2 = grid_pred2-y_test2\n",
    "\n",
    "grid_df2 = pd.DataFrame({'grid_pred':grid_pred2,\n",
    "                       'y_test':y_test2,\n",
    "                       'difference':grid_diff2})"
   ]
  },
  {
   "cell_type": "code",
   "execution_count": 18,
   "id": "extensive-attitude",
   "metadata": {},
   "outputs": [
    {
     "data": {
      "text/html": [
       "<div>\n",
       "<style scoped>\n",
       "    .dataframe tbody tr th:only-of-type {\n",
       "        vertical-align: middle;\n",
       "    }\n",
       "\n",
       "    .dataframe tbody tr th {\n",
       "        vertical-align: top;\n",
       "    }\n",
       "\n",
       "    .dataframe thead th {\n",
       "        text-align: right;\n",
       "    }\n",
       "</style>\n",
       "<table border=\"1\" class=\"dataframe\">\n",
       "  <thead>\n",
       "    <tr style=\"text-align: right;\">\n",
       "      <th></th>\n",
       "      <th>grid_pred</th>\n",
       "      <th>y_test</th>\n",
       "      <th>difference</th>\n",
       "    </tr>\n",
       "  </thead>\n",
       "  <tbody>\n",
       "    <tr>\n",
       "      <th>273581</th>\n",
       "      <td>15.964173</td>\n",
       "      <td>-39.0</td>\n",
       "      <td>54.964173</td>\n",
       "    </tr>\n",
       "    <tr>\n",
       "      <th>127522</th>\n",
       "      <td>-6.352822</td>\n",
       "      <td>25.0</td>\n",
       "      <td>-31.352822</td>\n",
       "    </tr>\n",
       "    <tr>\n",
       "      <th>95246</th>\n",
       "      <td>-3.425939</td>\n",
       "      <td>7.0</td>\n",
       "      <td>-10.425939</td>\n",
       "    </tr>\n",
       "    <tr>\n",
       "      <th>184353</th>\n",
       "      <td>0.866370</td>\n",
       "      <td>-10.0</td>\n",
       "      <td>10.866370</td>\n",
       "    </tr>\n",
       "    <tr>\n",
       "      <th>269943</th>\n",
       "      <td>-5.256001</td>\n",
       "      <td>-6.0</td>\n",
       "      <td>0.743999</td>\n",
       "    </tr>\n",
       "  </tbody>\n",
       "</table>\n",
       "</div>"
      ],
      "text/plain": [
       "        grid_pred  y_test  difference\n",
       "273581  15.964173   -39.0   54.964173\n",
       "127522  -6.352822    25.0  -31.352822\n",
       "95246   -3.425939     7.0  -10.425939\n",
       "184353   0.866370   -10.0   10.866370\n",
       "269943  -5.256001    -6.0    0.743999"
      ]
     },
     "execution_count": 18,
     "metadata": {},
     "output_type": "execute_result"
    }
   ],
   "source": [
    "grid_df2.head()"
   ]
  },
  {
   "cell_type": "code",
   "execution_count": 19,
   "id": "frozen-memorabilia",
   "metadata": {},
   "outputs": [
    {
     "data": {
      "text/html": [
       "<div>\n",
       "<style scoped>\n",
       "    .dataframe tbody tr th:only-of-type {\n",
       "        vertical-align: middle;\n",
       "    }\n",
       "\n",
       "    .dataframe tbody tr th {\n",
       "        vertical-align: top;\n",
       "    }\n",
       "\n",
       "    .dataframe thead th {\n",
       "        text-align: right;\n",
       "    }\n",
       "</style>\n",
       "<table border=\"1\" class=\"dataframe\">\n",
       "  <thead>\n",
       "    <tr style=\"text-align: right;\">\n",
       "      <th></th>\n",
       "      <th>grid_pred</th>\n",
       "      <th>y_test</th>\n",
       "      <th>difference</th>\n",
       "    </tr>\n",
       "  </thead>\n",
       "  <tbody>\n",
       "    <tr>\n",
       "      <th>count</th>\n",
       "      <td>72148.000000</td>\n",
       "      <td>72148.000000</td>\n",
       "      <td>72148.000000</td>\n",
       "    </tr>\n",
       "    <tr>\n",
       "      <th>mean</th>\n",
       "      <td>1.075163</td>\n",
       "      <td>1.142014</td>\n",
       "      <td>-0.066851</td>\n",
       "    </tr>\n",
       "    <tr>\n",
       "      <th>std</th>\n",
       "      <td>7.056536</td>\n",
       "      <td>29.233868</td>\n",
       "      <td>28.261988</td>\n",
       "    </tr>\n",
       "    <tr>\n",
       "      <th>min</th>\n",
       "      <td>-20.232534</td>\n",
       "      <td>-80.000000</td>\n",
       "      <td>-169.148891</td>\n",
       "    </tr>\n",
       "    <tr>\n",
       "      <th>25%</th>\n",
       "      <td>-3.548678</td>\n",
       "      <td>-15.000000</td>\n",
       "      <td>-6.110427</td>\n",
       "    </tr>\n",
       "    <tr>\n",
       "      <th>50%</th>\n",
       "      <td>-0.529017</td>\n",
       "      <td>-7.000000</td>\n",
       "      <td>6.459047</td>\n",
       "    </tr>\n",
       "    <tr>\n",
       "      <th>75%</th>\n",
       "      <td>3.072221</td>\n",
       "      <td>6.000000</td>\n",
       "      <td>15.619772</td>\n",
       "    </tr>\n",
       "    <tr>\n",
       "      <th>max</th>\n",
       "      <td>93.829828</td>\n",
       "      <td>162.000000</td>\n",
       "      <td>81.561984</td>\n",
       "    </tr>\n",
       "  </tbody>\n",
       "</table>\n",
       "</div>"
      ],
      "text/plain": [
       "          grid_pred        y_test    difference\n",
       "count  72148.000000  72148.000000  72148.000000\n",
       "mean       1.075163      1.142014     -0.066851\n",
       "std        7.056536     29.233868     28.261988\n",
       "min      -20.232534    -80.000000   -169.148891\n",
       "25%       -3.548678    -15.000000     -6.110427\n",
       "50%       -0.529017     -7.000000      6.459047\n",
       "75%        3.072221      6.000000     15.619772\n",
       "max       93.829828    162.000000     81.561984"
      ]
     },
     "execution_count": 19,
     "metadata": {},
     "output_type": "execute_result"
    }
   ],
   "source": [
    "grid_df2.describe()"
   ]
  },
  {
   "cell_type": "code",
   "execution_count": 20,
   "id": "front-corruption",
   "metadata": {},
   "outputs": [],
   "source": [
    "feature_importances2 = grid_results2.best_estimator_.feature_importances_"
   ]
  },
  {
   "cell_type": "code",
   "execution_count": 21,
   "id": "focal-password",
   "metadata": {},
   "outputs": [
    {
     "data": {
      "text/plain": [
       "array([0.24381119, 0.04342759, 0.0586053 , 0.0656693 , 0.08280067,\n",
       "       0.03408807, 0.08344982, 0.2910812 , 0.03179229, 0.06527458])"
      ]
     },
     "execution_count": 21,
     "metadata": {},
     "output_type": "execute_result"
    }
   ],
   "source": [
    "feature_importances2"
   ]
  },
  {
   "cell_type": "code",
   "execution_count": 22,
   "id": "recovered-fault",
   "metadata": {},
   "outputs": [],
   "source": [
    "feature_importances2 = {'feature_importance':feature_importances2}\n",
    "features_df2 = pd.DataFrame(feature_importances2,index=X_test2.columns)"
   ]
  },
  {
   "cell_type": "code",
   "execution_count": 23,
   "id": "funded-authentication",
   "metadata": {},
   "outputs": [
    {
     "data": {
      "text/html": [
       "<div>\n",
       "<style scoped>\n",
       "    .dataframe tbody tr th:only-of-type {\n",
       "        vertical-align: middle;\n",
       "    }\n",
       "\n",
       "    .dataframe tbody tr th {\n",
       "        vertical-align: top;\n",
       "    }\n",
       "\n",
       "    .dataframe thead th {\n",
       "        text-align: right;\n",
       "    }\n",
       "</style>\n",
       "<table border=\"1\" class=\"dataframe\">\n",
       "  <thead>\n",
       "    <tr style=\"text-align: right;\">\n",
       "      <th></th>\n",
       "      <th>feature_importance</th>\n",
       "    </tr>\n",
       "  </thead>\n",
       "  <tbody>\n",
       "    <tr>\n",
       "      <th>crs_dep_time</th>\n",
       "      <td>0.243811</td>\n",
       "    </tr>\n",
       "    <tr>\n",
       "      <th>crs_arr_time</th>\n",
       "      <td>0.043428</td>\n",
       "    </tr>\n",
       "    <tr>\n",
       "      <th>crs_elapsed_time</th>\n",
       "      <td>0.058605</td>\n",
       "    </tr>\n",
       "    <tr>\n",
       "      <th>distance</th>\n",
       "      <td>0.065669</td>\n",
       "    </tr>\n",
       "    <tr>\n",
       "      <th>month</th>\n",
       "      <td>0.082801</td>\n",
       "    </tr>\n",
       "    <tr>\n",
       "      <th>weekday</th>\n",
       "      <td>0.034088</td>\n",
       "    </tr>\n",
       "    <tr>\n",
       "      <th>totalSnow_cm</th>\n",
       "      <td>0.083450</td>\n",
       "    </tr>\n",
       "    <tr>\n",
       "      <th>precipMM</th>\n",
       "      <td>0.291081</td>\n",
       "    </tr>\n",
       "    <tr>\n",
       "      <th>visibility</th>\n",
       "      <td>0.031792</td>\n",
       "    </tr>\n",
       "    <tr>\n",
       "      <th>windspeedKmph</th>\n",
       "      <td>0.065275</td>\n",
       "    </tr>\n",
       "  </tbody>\n",
       "</table>\n",
       "</div>"
      ],
      "text/plain": [
       "                  feature_importance\n",
       "crs_dep_time                0.243811\n",
       "crs_arr_time                0.043428\n",
       "crs_elapsed_time            0.058605\n",
       "distance                    0.065669\n",
       "month                       0.082801\n",
       "weekday                     0.034088\n",
       "totalSnow_cm                0.083450\n",
       "precipMM                    0.291081\n",
       "visibility                  0.031792\n",
       "windspeedKmph               0.065275"
      ]
     },
     "execution_count": 23,
     "metadata": {},
     "output_type": "execute_result"
    }
   ],
   "source": [
    "features_df2"
   ]
  },
  {
   "cell_type": "code",
   "execution_count": 24,
   "id": "closing-scheme",
   "metadata": {},
   "outputs": [
    {
     "data": {
      "image/png": "[encoded data removed]",
      "text/plain": [
       "<Figure size 432x288 with 1 Axes>"
      ]
     },
     "metadata": {
      "needs_background": "light"
     },
     "output_type": "display_data"
    }
   ],
   "source": [
    "pyplot.bar(features_df2.index,features_df2['feature_importance'])\n",
    "plt.xticks(rotation=70)\n",
    "pyplot.show()"
   ]
  },
  {
   "cell_type": "markdown",
   "id": "compact-substance",
   "metadata": {},
   "source": []
  },
  {
   "cell_type": "markdown",
   "id": "judicial-simple",
   "metadata": {},
   "source": [
    "### Trying with new passengers features. First with no crs bins"
   ]
  },
  {
   "cell_type": "code",
   "execution_count": 25,
   "id": "facial-advice",
   "metadata": {},
   "outputs": [],
   "source": [
    "df_flights2 = pd.read_csv('cleaned_flights_sample2.csv')"
   ]
  },
  {
   "cell_type": "code",
   "execution_count": 26,
   "id": "hungry-instruction",
   "metadata": {},
   "outputs": [
    {
     "data": {
      "text/html": [
       "<div>\n",
       "<style scoped>\n",
       "    .dataframe tbody tr th:only-of-type {\n",
       "        vertical-align: middle;\n",
       "    }\n",
       "\n",
       "    .dataframe tbody tr th {\n",
       "        vertical-align: top;\n",
       "    }\n",
       "\n",
       "    .dataframe thead th {\n",
       "        text-align: right;\n",
       "    }\n",
       "</style>\n",
       "<table border=\"1\" class=\"dataframe\">\n",
       "  <thead>\n",
       "    <tr style=\"text-align: right;\">\n",
       "      <th></th>\n",
       "      <th>fl_date</th>\n",
       "      <th>op_unique_carrier</th>\n",
       "      <th>origin</th>\n",
       "      <th>dest</th>\n",
       "      <th>crs_dep_time</th>\n",
       "      <th>crs_arr_time</th>\n",
       "      <th>arr_delay</th>\n",
       "      <th>crs_elapsed_time</th>\n",
       "      <th>distance</th>\n",
       "      <th>month</th>\n",
       "      <th>weekday</th>\n",
       "      <th>crs_dep_bin</th>\n",
       "      <th>crs_arr_bin</th>\n",
       "      <th>totalSnow_cm</th>\n",
       "      <th>precipMM</th>\n",
       "      <th>visibility</th>\n",
       "      <th>windspeedKmph</th>\n",
       "      <th>departures_performed</th>\n",
       "      <th>payload</th>\n",
       "      <th>seats</th>\n",
       "      <th>passengers</th>\n",
       "      <th>freight</th>\n",
       "      <th>mail</th>\n",
       "      <th>ramp_to_ramp</th>\n",
       "      <th>avg_passengers</th>\n",
       "      <th>avg_percent_capacity</th>\n",
       "    </tr>\n",
       "  </thead>\n",
       "  <tbody>\n",
       "    <tr>\n",
       "      <th>0</th>\n",
       "      <td>2019-06-18</td>\n",
       "      <td>OO</td>\n",
       "      <td>DTW</td>\n",
       "      <td>PLN</td>\n",
       "      <td>20</td>\n",
       "      <td>21</td>\n",
       "      <td>106.0</td>\n",
       "      <td>72.0</td>\n",
       "      <td>243.0</td>\n",
       "      <td>6</td>\n",
       "      <td>1</td>\n",
       "      <td>Night</td>\n",
       "      <td>Night</td>\n",
       "      <td>0.0</td>\n",
       "      <td>0.4</td>\n",
       "      <td>10</td>\n",
       "      <td>8</td>\n",
       "      <td>100.0</td>\n",
       "      <td>1238000.0</td>\n",
       "      <td>5000.0</td>\n",
       "      <td>3868.0</td>\n",
       "      <td>0.0</td>\n",
       "      <td>0.0</td>\n",
       "      <td>6429.0</td>\n",
       "      <td>39.0</td>\n",
       "      <td>0.77</td>\n",
       "    </tr>\n",
       "    <tr>\n",
       "      <th>1</th>\n",
       "      <td>2019-07-02</td>\n",
       "      <td>YV</td>\n",
       "      <td>DFW</td>\n",
       "      <td>LBB</td>\n",
       "      <td>8</td>\n",
       "      <td>9</td>\n",
       "      <td>46.0</td>\n",
       "      <td>71.0</td>\n",
       "      <td>282.0</td>\n",
       "      <td>7</td>\n",
       "      <td>1</td>\n",
       "      <td>Afternoon</td>\n",
       "      <td>Afternoon</td>\n",
       "      <td>0.0</td>\n",
       "      <td>6.5</td>\n",
       "      <td>9</td>\n",
       "      <td>18</td>\n",
       "      <td>169.0</td>\n",
       "      <td>3415490.0</td>\n",
       "      <td>13150.0</td>\n",
       "      <td>9361.0</td>\n",
       "      <td>1346.0</td>\n",
       "      <td>1260.0</td>\n",
       "      <td>10863.0</td>\n",
       "      <td>55.0</td>\n",
       "      <td>0.71</td>\n",
       "    </tr>\n",
       "    <tr>\n",
       "      <th>2</th>\n",
       "      <td>2019-10-11</td>\n",
       "      <td>ZW</td>\n",
       "      <td>SAV</td>\n",
       "      <td>ORD</td>\n",
       "      <td>7</td>\n",
       "      <td>9</td>\n",
       "      <td>19.0</td>\n",
       "      <td>154.0</td>\n",
       "      <td>773.0</td>\n",
       "      <td>10</td>\n",
       "      <td>4</td>\n",
       "      <td>Afternoon</td>\n",
       "      <td>Afternoon</td>\n",
       "      <td>0.0</td>\n",
       "      <td>0.1</td>\n",
       "      <td>10</td>\n",
       "      <td>8</td>\n",
       "      <td>26.0</td>\n",
       "      <td>626600.0</td>\n",
       "      <td>1300.0</td>\n",
       "      <td>1058.0</td>\n",
       "      <td>0.0</td>\n",
       "      <td>0.0</td>\n",
       "      <td>3796.0</td>\n",
       "      <td>41.0</td>\n",
       "      <td>0.81</td>\n",
       "    </tr>\n",
       "    <tr>\n",
       "      <th>3</th>\n",
       "      <td>2019-10-14</td>\n",
       "      <td>OH</td>\n",
       "      <td>CLT</td>\n",
       "      <td>DSM</td>\n",
       "      <td>22</td>\n",
       "      <td>0</td>\n",
       "      <td>8.0</td>\n",
       "      <td>156.0</td>\n",
       "      <td>815.0</td>\n",
       "      <td>10</td>\n",
       "      <td>0</td>\n",
       "      <td>Night</td>\n",
       "      <td>Morning</td>\n",
       "      <td>0.0</td>\n",
       "      <td>0.7</td>\n",
       "      <td>8</td>\n",
       "      <td>5</td>\n",
       "      <td>92.0</td>\n",
       "      <td>1746550.0</td>\n",
       "      <td>6343.0</td>\n",
       "      <td>4891.0</td>\n",
       "      <td>42.0</td>\n",
       "      <td>0.0</td>\n",
       "      <td>14307.0</td>\n",
       "      <td>53.0</td>\n",
       "      <td>0.77</td>\n",
       "    </tr>\n",
       "    <tr>\n",
       "      <th>4</th>\n",
       "      <td>2019-10-26</td>\n",
       "      <td>DL</td>\n",
       "      <td>JFK</td>\n",
       "      <td>SLC</td>\n",
       "      <td>6</td>\n",
       "      <td>10</td>\n",
       "      <td>-25.0</td>\n",
       "      <td>318.0</td>\n",
       "      <td>1990.0</td>\n",
       "      <td>10</td>\n",
       "      <td>5</td>\n",
       "      <td>Afternoon</td>\n",
       "      <td>Afternoon</td>\n",
       "      <td>0.0</td>\n",
       "      <td>0.1</td>\n",
       "      <td>10</td>\n",
       "      <td>14</td>\n",
       "      <td>115.0</td>\n",
       "      <td>5919710.0</td>\n",
       "      <td>20844.0</td>\n",
       "      <td>18457.0</td>\n",
       "      <td>49708.0</td>\n",
       "      <td>93985.0</td>\n",
       "      <td>35621.0</td>\n",
       "      <td>160.0</td>\n",
       "      <td>0.89</td>\n",
       "    </tr>\n",
       "  </tbody>\n",
       "</table>\n",
       "</div>"
      ],
      "text/plain": [
       "      fl_date op_unique_carrier  ... avg_passengers avg_percent_capacity\n",
       "0  2019-06-18                OO  ...           39.0                 0.77\n",
       "1  2019-07-02                YV  ...           55.0                 0.71\n",
       "2  2019-10-11                ZW  ...           41.0                 0.81\n",
       "3  2019-10-14                OH  ...           53.0                 0.77\n",
       "4  2019-10-26                DL  ...          160.0                 0.89\n",
       "\n",
       "[5 rows x 26 columns]"
      ]
     },
     "execution_count": 26,
     "metadata": {},
     "output_type": "execute_result"
    }
   ],
   "source": [
    "df_flights2.head()"
   ]
  },
  {
   "cell_type": "code",
   "execution_count": 27,
   "id": "funny-carter",
   "metadata": {},
   "outputs": [],
   "source": [
    "# Trying with no bins as they dont seem to have much importance from above.\n",
    "df_flights2 = df_flights2.drop(['fl_date','op_unique_carrier','origin','dest','crs_dep_bin','crs_arr_bin','departures_performed','payload','seats','passengers','freight','mail','ramp_to_ramp'],axis=1)"
   ]
  },
  {
   "cell_type": "code",
   "execution_count": 28,
   "id": "chief-crazy",
   "metadata": {},
   "outputs": [],
   "source": [
    "months = ['Jan','Feb','Mar','Apr','May','June','July','Aug','Sep','Oct','Nov','Dec']\n",
    "days = ['Mon','Tue','Wed','Thu','Fri','Sat','Sun']"
   ]
  },
  {
   "cell_type": "code",
   "execution_count": 29,
   "id": "lyric-soccer",
   "metadata": {},
   "outputs": [],
   "source": [
    "# One hot encode months and weekday\n",
    "one_month = pd.get_dummies(df_flights2['month'],columns=months)\n",
    "one_month.columns=[months]\n",
    "one_days = pd.get_dummies(df_flights2['weekday'],columns=months)\n",
    "one_days.columns=[days]"
   ]
  },
  {
   "cell_type": "code",
   "execution_count": 30,
   "id": "smaller-auditor",
   "metadata": {},
   "outputs": [],
   "source": [
    "df_flights2 = pd.concat([df_flights2,one_month,one_days],axis=1)"
   ]
  },
  {
   "cell_type": "code",
   "execution_count": 31,
   "id": "planned-tokyo",
   "metadata": {},
   "outputs": [],
   "source": [
    "# Drop original date columns\n",
    "df_flights2 = df_flights2.drop(['month','weekday'],axis=1)"
   ]
  },
  {
   "cell_type": "code",
   "execution_count": 32,
   "id": "homeless-review",
   "metadata": {},
   "outputs": [
    {
     "data": {
      "text/html": [
       "<div>\n",
       "<style scoped>\n",
       "    .dataframe tbody tr th:only-of-type {\n",
       "        vertical-align: middle;\n",
       "    }\n",
       "\n",
       "    .dataframe tbody tr th {\n",
       "        vertical-align: top;\n",
       "    }\n",
       "\n",
       "    .dataframe thead th {\n",
       "        text-align: right;\n",
       "    }\n",
       "</style>\n",
       "<table border=\"1\" class=\"dataframe\">\n",
       "  <thead>\n",
       "    <tr style=\"text-align: right;\">\n",
       "      <th></th>\n",
       "      <th>crs_dep_time</th>\n",
       "      <th>crs_arr_time</th>\n",
       "      <th>arr_delay</th>\n",
       "      <th>crs_elapsed_time</th>\n",
       "      <th>distance</th>\n",
       "      <th>totalSnow_cm</th>\n",
       "      <th>precipMM</th>\n",
       "      <th>visibility</th>\n",
       "      <th>windspeedKmph</th>\n",
       "      <th>avg_passengers</th>\n",
       "      <th>avg_percent_capacity</th>\n",
       "      <th>(Jan,)</th>\n",
       "      <th>(Feb,)</th>\n",
       "      <th>(Mar,)</th>\n",
       "      <th>(Apr,)</th>\n",
       "      <th>(May,)</th>\n",
       "      <th>(June,)</th>\n",
       "      <th>(July,)</th>\n",
       "      <th>(Aug,)</th>\n",
       "      <th>(Sep,)</th>\n",
       "      <th>(Oct,)</th>\n",
       "      <th>(Nov,)</th>\n",
       "      <th>(Dec,)</th>\n",
       "      <th>(Mon,)</th>\n",
       "      <th>(Tue,)</th>\n",
       "      <th>(Wed,)</th>\n",
       "      <th>(Thu,)</th>\n",
       "      <th>(Fri,)</th>\n",
       "      <th>(Sat,)</th>\n",
       "      <th>(Sun,)</th>\n",
       "    </tr>\n",
       "  </thead>\n",
       "  <tbody>\n",
       "    <tr>\n",
       "      <th>0</th>\n",
       "      <td>20</td>\n",
       "      <td>21</td>\n",
       "      <td>106.0</td>\n",
       "      <td>72.0</td>\n",
       "      <td>243.0</td>\n",
       "      <td>0.0</td>\n",
       "      <td>0.4</td>\n",
       "      <td>10</td>\n",
       "      <td>8</td>\n",
       "      <td>39.0</td>\n",
       "      <td>0.77</td>\n",
       "      <td>0</td>\n",
       "      <td>0</td>\n",
       "      <td>0</td>\n",
       "      <td>0</td>\n",
       "      <td>0</td>\n",
       "      <td>1</td>\n",
       "      <td>0</td>\n",
       "      <td>0</td>\n",
       "      <td>0</td>\n",
       "      <td>0</td>\n",
       "      <td>0</td>\n",
       "      <td>0</td>\n",
       "      <td>0</td>\n",
       "      <td>1</td>\n",
       "      <td>0</td>\n",
       "      <td>0</td>\n",
       "      <td>0</td>\n",
       "      <td>0</td>\n",
       "      <td>0</td>\n",
       "    </tr>\n",
       "    <tr>\n",
       "      <th>1</th>\n",
       "      <td>8</td>\n",
       "      <td>9</td>\n",
       "      <td>46.0</td>\n",
       "      <td>71.0</td>\n",
       "      <td>282.0</td>\n",
       "      <td>0.0</td>\n",
       "      <td>6.5</td>\n",
       "      <td>9</td>\n",
       "      <td>18</td>\n",
       "      <td>55.0</td>\n",
       "      <td>0.71</td>\n",
       "      <td>0</td>\n",
       "      <td>0</td>\n",
       "      <td>0</td>\n",
       "      <td>0</td>\n",
       "      <td>0</td>\n",
       "      <td>0</td>\n",
       "      <td>1</td>\n",
       "      <td>0</td>\n",
       "      <td>0</td>\n",
       "      <td>0</td>\n",
       "      <td>0</td>\n",
       "      <td>0</td>\n",
       "      <td>0</td>\n",
       "      <td>1</td>\n",
       "      <td>0</td>\n",
       "      <td>0</td>\n",
       "      <td>0</td>\n",
       "      <td>0</td>\n",
       "      <td>0</td>\n",
       "    </tr>\n",
       "    <tr>\n",
       "      <th>2</th>\n",
       "      <td>7</td>\n",
       "      <td>9</td>\n",
       "      <td>19.0</td>\n",
       "      <td>154.0</td>\n",
       "      <td>773.0</td>\n",
       "      <td>0.0</td>\n",
       "      <td>0.1</td>\n",
       "      <td>10</td>\n",
       "      <td>8</td>\n",
       "      <td>41.0</td>\n",
       "      <td>0.81</td>\n",
       "      <td>0</td>\n",
       "      <td>0</td>\n",
       "      <td>0</td>\n",
       "      <td>0</td>\n",
       "      <td>0</td>\n",
       "      <td>0</td>\n",
       "      <td>0</td>\n",
       "      <td>0</td>\n",
       "      <td>0</td>\n",
       "      <td>1</td>\n",
       "      <td>0</td>\n",
       "      <td>0</td>\n",
       "      <td>0</td>\n",
       "      <td>0</td>\n",
       "      <td>0</td>\n",
       "      <td>0</td>\n",
       "      <td>1</td>\n",
       "      <td>0</td>\n",
       "      <td>0</td>\n",
       "    </tr>\n",
       "    <tr>\n",
       "      <th>3</th>\n",
       "      <td>22</td>\n",
       "      <td>0</td>\n",
       "      <td>8.0</td>\n",
       "      <td>156.0</td>\n",
       "      <td>815.0</td>\n",
       "      <td>0.0</td>\n",
       "      <td>0.7</td>\n",
       "      <td>8</td>\n",
       "      <td>5</td>\n",
       "      <td>53.0</td>\n",
       "      <td>0.77</td>\n",
       "      <td>0</td>\n",
       "      <td>0</td>\n",
       "      <td>0</td>\n",
       "      <td>0</td>\n",
       "      <td>0</td>\n",
       "      <td>0</td>\n",
       "      <td>0</td>\n",
       "      <td>0</td>\n",
       "      <td>0</td>\n",
       "      <td>1</td>\n",
       "      <td>0</td>\n",
       "      <td>0</td>\n",
       "      <td>1</td>\n",
       "      <td>0</td>\n",
       "      <td>0</td>\n",
       "      <td>0</td>\n",
       "      <td>0</td>\n",
       "      <td>0</td>\n",
       "      <td>0</td>\n",
       "    </tr>\n",
       "    <tr>\n",
       "      <th>4</th>\n",
       "      <td>6</td>\n",
       "      <td>10</td>\n",
       "      <td>-25.0</td>\n",
       "      <td>318.0</td>\n",
       "      <td>1990.0</td>\n",
       "      <td>0.0</td>\n",
       "      <td>0.1</td>\n",
       "      <td>10</td>\n",
       "      <td>14</td>\n",
       "      <td>160.0</td>\n",
       "      <td>0.89</td>\n",
       "      <td>0</td>\n",
       "      <td>0</td>\n",
       "      <td>0</td>\n",
       "      <td>0</td>\n",
       "      <td>0</td>\n",
       "      <td>0</td>\n",
       "      <td>0</td>\n",
       "      <td>0</td>\n",
       "      <td>0</td>\n",
       "      <td>1</td>\n",
       "      <td>0</td>\n",
       "      <td>0</td>\n",
       "      <td>0</td>\n",
       "      <td>0</td>\n",
       "      <td>0</td>\n",
       "      <td>0</td>\n",
       "      <td>0</td>\n",
       "      <td>1</td>\n",
       "      <td>0</td>\n",
       "    </tr>\n",
       "    <tr>\n",
       "      <th>...</th>\n",
       "      <td>...</td>\n",
       "      <td>...</td>\n",
       "      <td>...</td>\n",
       "      <td>...</td>\n",
       "      <td>...</td>\n",
       "      <td>...</td>\n",
       "      <td>...</td>\n",
       "      <td>...</td>\n",
       "      <td>...</td>\n",
       "      <td>...</td>\n",
       "      <td>...</td>\n",
       "      <td>...</td>\n",
       "      <td>...</td>\n",
       "      <td>...</td>\n",
       "      <td>...</td>\n",
       "      <td>...</td>\n",
       "      <td>...</td>\n",
       "      <td>...</td>\n",
       "      <td>...</td>\n",
       "      <td>...</td>\n",
       "      <td>...</td>\n",
       "      <td>...</td>\n",
       "      <td>...</td>\n",
       "      <td>...</td>\n",
       "      <td>...</td>\n",
       "      <td>...</td>\n",
       "      <td>...</td>\n",
       "      <td>...</td>\n",
       "      <td>...</td>\n",
       "      <td>...</td>\n",
       "    </tr>\n",
       "    <tr>\n",
       "      <th>288553</th>\n",
       "      <td>7</td>\n",
       "      <td>7</td>\n",
       "      <td>-8.0</td>\n",
       "      <td>115.0</td>\n",
       "      <td>411.0</td>\n",
       "      <td>0.0</td>\n",
       "      <td>3.3</td>\n",
       "      <td>10</td>\n",
       "      <td>7</td>\n",
       "      <td>43.0</td>\n",
       "      <td>0.85</td>\n",
       "      <td>0</td>\n",
       "      <td>0</td>\n",
       "      <td>0</td>\n",
       "      <td>1</td>\n",
       "      <td>0</td>\n",
       "      <td>0</td>\n",
       "      <td>0</td>\n",
       "      <td>0</td>\n",
       "      <td>0</td>\n",
       "      <td>0</td>\n",
       "      <td>0</td>\n",
       "      <td>0</td>\n",
       "      <td>0</td>\n",
       "      <td>0</td>\n",
       "      <td>0</td>\n",
       "      <td>1</td>\n",
       "      <td>0</td>\n",
       "      <td>0</td>\n",
       "      <td>0</td>\n",
       "    </tr>\n",
       "    <tr>\n",
       "      <th>288554</th>\n",
       "      <td>6</td>\n",
       "      <td>8</td>\n",
       "      <td>4.0</td>\n",
       "      <td>127.0</td>\n",
       "      <td>585.0</td>\n",
       "      <td>0.0</td>\n",
       "      <td>21.7</td>\n",
       "      <td>9</td>\n",
       "      <td>20</td>\n",
       "      <td>42.0</td>\n",
       "      <td>0.84</td>\n",
       "      <td>0</td>\n",
       "      <td>0</td>\n",
       "      <td>1</td>\n",
       "      <td>0</td>\n",
       "      <td>0</td>\n",
       "      <td>0</td>\n",
       "      <td>0</td>\n",
       "      <td>0</td>\n",
       "      <td>0</td>\n",
       "      <td>0</td>\n",
       "      <td>0</td>\n",
       "      <td>0</td>\n",
       "      <td>0</td>\n",
       "      <td>0</td>\n",
       "      <td>0</td>\n",
       "      <td>0</td>\n",
       "      <td>0</td>\n",
       "      <td>1</td>\n",
       "      <td>0</td>\n",
       "    </tr>\n",
       "    <tr>\n",
       "      <th>288555</th>\n",
       "      <td>6</td>\n",
       "      <td>10</td>\n",
       "      <td>19.0</td>\n",
       "      <td>227.0</td>\n",
       "      <td>1249.0</td>\n",
       "      <td>0.1</td>\n",
       "      <td>0.2</td>\n",
       "      <td>9</td>\n",
       "      <td>30</td>\n",
       "      <td>119.0</td>\n",
       "      <td>0.66</td>\n",
       "      <td>1</td>\n",
       "      <td>0</td>\n",
       "      <td>0</td>\n",
       "      <td>0</td>\n",
       "      <td>0</td>\n",
       "      <td>0</td>\n",
       "      <td>0</td>\n",
       "      <td>0</td>\n",
       "      <td>0</td>\n",
       "      <td>0</td>\n",
       "      <td>0</td>\n",
       "      <td>0</td>\n",
       "      <td>1</td>\n",
       "      <td>0</td>\n",
       "      <td>0</td>\n",
       "      <td>0</td>\n",
       "      <td>0</td>\n",
       "      <td>0</td>\n",
       "      <td>0</td>\n",
       "    </tr>\n",
       "    <tr>\n",
       "      <th>288556</th>\n",
       "      <td>15</td>\n",
       "      <td>18</td>\n",
       "      <td>-16.0</td>\n",
       "      <td>120.0</td>\n",
       "      <td>755.0</td>\n",
       "      <td>0.0</td>\n",
       "      <td>0.0</td>\n",
       "      <td>10</td>\n",
       "      <td>10</td>\n",
       "      <td>122.0</td>\n",
       "      <td>0.75</td>\n",
       "      <td>1</td>\n",
       "      <td>0</td>\n",
       "      <td>0</td>\n",
       "      <td>0</td>\n",
       "      <td>0</td>\n",
       "      <td>0</td>\n",
       "      <td>0</td>\n",
       "      <td>0</td>\n",
       "      <td>0</td>\n",
       "      <td>0</td>\n",
       "      <td>0</td>\n",
       "      <td>0</td>\n",
       "      <td>0</td>\n",
       "      <td>0</td>\n",
       "      <td>1</td>\n",
       "      <td>0</td>\n",
       "      <td>0</td>\n",
       "      <td>0</td>\n",
       "      <td>0</td>\n",
       "    </tr>\n",
       "    <tr>\n",
       "      <th>288557</th>\n",
       "      <td>10</td>\n",
       "      <td>11</td>\n",
       "      <td>-16.0</td>\n",
       "      <td>68.0</td>\n",
       "      <td>199.0</td>\n",
       "      <td>0.0</td>\n",
       "      <td>0.0</td>\n",
       "      <td>10</td>\n",
       "      <td>6</td>\n",
       "      <td>41.0</td>\n",
       "      <td>0.82</td>\n",
       "      <td>0</td>\n",
       "      <td>0</td>\n",
       "      <td>0</td>\n",
       "      <td>0</td>\n",
       "      <td>0</td>\n",
       "      <td>0</td>\n",
       "      <td>0</td>\n",
       "      <td>0</td>\n",
       "      <td>0</td>\n",
       "      <td>1</td>\n",
       "      <td>0</td>\n",
       "      <td>0</td>\n",
       "      <td>0</td>\n",
       "      <td>0</td>\n",
       "      <td>0</td>\n",
       "      <td>1</td>\n",
       "      <td>0</td>\n",
       "      <td>0</td>\n",
       "      <td>0</td>\n",
       "    </tr>\n",
       "  </tbody>\n",
       "</table>\n",
       "<p>288558 rows × 30 columns</p>\n",
       "</div>"
      ],
      "text/plain": [
       "        crs_dep_time  crs_arr_time  arr_delay  ...  (Fri,)  (Sat,)  (Sun,)\n",
       "0                 20            21      106.0  ...       0       0       0\n",
       "1                  8             9       46.0  ...       0       0       0\n",
       "2                  7             9       19.0  ...       1       0       0\n",
       "3                 22             0        8.0  ...       0       0       0\n",
       "4                  6            10      -25.0  ...       0       1       0\n",
       "...              ...           ...        ...  ...     ...     ...     ...\n",
       "288553             7             7       -8.0  ...       0       0       0\n",
       "288554             6             8        4.0  ...       0       1       0\n",
       "288555             6            10       19.0  ...       0       0       0\n",
       "288556            15            18      -16.0  ...       0       0       0\n",
       "288557            10            11      -16.0  ...       0       0       0\n",
       "\n",
       "[288558 rows x 30 columns]"
      ]
     },
     "execution_count": 32,
     "metadata": {},
     "output_type": "execute_result"
    }
   ],
   "source": [
    "df_flights2"
   ]
  },
  {
   "cell_type": "code",
   "execution_count": 33,
   "id": "controlling-metadata",
   "metadata": {},
   "outputs": [],
   "source": [
    "X3 = df_flights2.drop(['arr_delay'],axis=1)\n",
    "y3 = df_flights2['arr_delay']"
   ]
  },
  {
   "cell_type": "code",
   "execution_count": 34,
   "id": "respected-niger",
   "metadata": {},
   "outputs": [],
   "source": [
    "scaler = StandardScaler()\n",
    "X_scale3 = scaler.fit_transform(X3)\n",
    "X_scale3 = pd.DataFrame(X_scale3,columns=X3.columns)"
   ]
  },
  {
   "cell_type": "code",
   "execution_count": 35,
   "id": "first-lafayette",
   "metadata": {},
   "outputs": [],
   "source": [
    "X_train3, X_test3, y_train3, y_test3 = train_test_split(X_scale3,y3,test_size=0.25)"
   ]
  },
  {
   "cell_type": "code",
   "execution_count": 36,
   "id": "unusual-instrumentation",
   "metadata": {},
   "outputs": [],
   "source": [
    "params = {\n",
    "    'n_estimators': [50,100,150,200,250,300],\n",
    "    'max_depth': [1,3,5,7,9]\n",
    "}\n",
    "n=5"
   ]
  },
  {
   "cell_type": "code",
   "execution_count": 37,
   "id": "specified-smile",
   "metadata": {},
   "outputs": [],
   "source": [
    "rf = RandomForestRegressor()\n",
    "grid3 = GridSearchCV(estimator=rf,param_grid=params,cv=n,scoring='r2',verbose=1,n_jobs=-1)"
   ]
  },
  {
   "cell_type": "code",
   "execution_count": 39,
   "id": "apart-guyana",
   "metadata": {},
   "outputs": [
    {
     "name": "stdout",
     "output_type": "stream",
     "text": [
      "Fitting 5 folds for each of 30 candidates, totalling 150 fits\n"
     ]
    }
   ],
   "source": [
    "grid_results3 = grid3.fit(X_train3,y_train3)"
   ]
  },
  {
   "cell_type": "code",
   "execution_count": 40,
   "id": "colonial-infrared",
   "metadata": {},
   "outputs": [],
   "source": [
    "#save model with pickle\n",
    "# filename3 = 'GridSearchCV3.sav'\n",
    "# pickle.dump(grid3,open(filename3,'wb'))"
   ]
  },
  {
   "cell_type": "code",
   "execution_count": 27,
   "id": "organized-criterion",
   "metadata": {},
   "outputs": [],
   "source": [
    "#load model with pickle\n",
    "grid_results3 = pickle.load(open('GridSearchCV3.sav','rb'))"
   ]
  },
  {
   "cell_type": "code",
   "execution_count": 41,
   "id": "responsible-powell",
   "metadata": {},
   "outputs": [],
   "source": [
    "grid_pred3 = grid_results3.predict(X_test3)"
   ]
  },
  {
   "cell_type": "code",
   "execution_count": 46,
   "id": "integrated-hammer",
   "metadata": {},
   "outputs": [
    {
     "name": "stdout",
     "output_type": "stream",
     "text": [
      "28.302535287598822\n"
     ]
    }
   ],
   "source": [
    "rf_rmse = np.sqrt(mean_squared_error(y_test3,grid_pred3))\n",
    "print(rf_rmse)"
   ]
  },
  {
   "cell_type": "code",
   "execution_count": 51,
   "id": "exempt-mortgage",
   "metadata": {},
   "outputs": [
    {
     "name": "stdout",
     "output_type": "stream",
     "text": [
      "Mean Absolute Error: 18.584210823039875\n"
     ]
    }
   ],
   "source": [
    "rf_mae3 = mean_absolute_error(y_test3,grid_pred3)\n",
    "print(f'Mean Absolute Error: {rf_mae3}')"
   ]
  },
  {
   "cell_type": "code",
   "execution_count": 45,
   "id": "important-addition",
   "metadata": {},
   "outputs": [
    {
     "name": "stdout",
     "output_type": "stream",
     "text": [
      "Best Score: 0.061539314278358084\n",
      "Best Params: {'max_depth': 9, 'n_estimators': 250}\n"
     ]
    }
   ],
   "source": [
    "best_score3 = grid_results3.best_score_\n",
    "best_params3 = grid_results3.best_params_\n",
    "print('Best Score:',best_score3)\n",
    "print('Best Params:',best_params3)"
   ]
  },
  {
   "cell_type": "code",
   "execution_count": 47,
   "id": "angry-medline",
   "metadata": {},
   "outputs": [],
   "source": [
    "grid_diff3 = grid_pred3-y_test3\n",
    "\n",
    "grid_df3 = pd.DataFrame({'grid_pred':grid_pred3,\n",
    "                       'y_test':y_test3,\n",
    "                       'difference':grid_diff3})"
   ]
  },
  {
   "cell_type": "code",
   "execution_count": 52,
   "id": "confirmed-slovenia",
   "metadata": {},
   "outputs": [
    {
     "data": {
      "text/html": [
       "<div>\n",
       "<style scoped>\n",
       "    .dataframe tbody tr th:only-of-type {\n",
       "        vertical-align: middle;\n",
       "    }\n",
       "\n",
       "    .dataframe tbody tr th {\n",
       "        vertical-align: top;\n",
       "    }\n",
       "\n",
       "    .dataframe thead th {\n",
       "        text-align: right;\n",
       "    }\n",
       "</style>\n",
       "<table border=\"1\" class=\"dataframe\">\n",
       "  <thead>\n",
       "    <tr style=\"text-align: right;\">\n",
       "      <th></th>\n",
       "      <th>grid_pred</th>\n",
       "      <th>y_test</th>\n",
       "      <th>difference</th>\n",
       "    </tr>\n",
       "  </thead>\n",
       "  <tbody>\n",
       "    <tr>\n",
       "      <th>287575</th>\n",
       "      <td>16.354151</td>\n",
       "      <td>-9.0</td>\n",
       "      <td>25.354151</td>\n",
       "    </tr>\n",
       "    <tr>\n",
       "      <th>225398</th>\n",
       "      <td>7.995925</td>\n",
       "      <td>42.0</td>\n",
       "      <td>-34.004075</td>\n",
       "    </tr>\n",
       "    <tr>\n",
       "      <th>19177</th>\n",
       "      <td>13.547439</td>\n",
       "      <td>-8.0</td>\n",
       "      <td>21.547439</td>\n",
       "    </tr>\n",
       "    <tr>\n",
       "      <th>287600</th>\n",
       "      <td>13.625482</td>\n",
       "      <td>-1.0</td>\n",
       "      <td>14.625482</td>\n",
       "    </tr>\n",
       "    <tr>\n",
       "      <th>216568</th>\n",
       "      <td>3.027325</td>\n",
       "      <td>-10.0</td>\n",
       "      <td>13.027325</td>\n",
       "    </tr>\n",
       "  </tbody>\n",
       "</table>\n",
       "</div>"
      ],
      "text/plain": [
       "        grid_pred  y_test  difference\n",
       "287575  16.354151    -9.0   25.354151\n",
       "225398   7.995925    42.0  -34.004075\n",
       "19177   13.547439    -8.0   21.547439\n",
       "287600  13.625482    -1.0   14.625482\n",
       "216568   3.027325   -10.0   13.027325"
      ]
     },
     "execution_count": 52,
     "metadata": {},
     "output_type": "execute_result"
    }
   ],
   "source": [
    "grid_df3.head()"
   ]
  },
  {
   "cell_type": "code",
   "execution_count": 53,
   "id": "wound-nicholas",
   "metadata": {},
   "outputs": [
    {
     "data": {
      "text/html": [
       "<div>\n",
       "<style scoped>\n",
       "    .dataframe tbody tr th:only-of-type {\n",
       "        vertical-align: middle;\n",
       "    }\n",
       "\n",
       "    .dataframe tbody tr th {\n",
       "        vertical-align: top;\n",
       "    }\n",
       "\n",
       "    .dataframe thead th {\n",
       "        text-align: right;\n",
       "    }\n",
       "</style>\n",
       "<table border=\"1\" class=\"dataframe\">\n",
       "  <thead>\n",
       "    <tr style=\"text-align: right;\">\n",
       "      <th></th>\n",
       "      <th>grid_pred</th>\n",
       "      <th>y_test</th>\n",
       "      <th>difference</th>\n",
       "    </tr>\n",
       "  </thead>\n",
       "  <tbody>\n",
       "    <tr>\n",
       "      <th>count</th>\n",
       "      <td>72140.000000</td>\n",
       "      <td>72140.000000</td>\n",
       "      <td>72140.000000</td>\n",
       "    </tr>\n",
       "    <tr>\n",
       "      <th>mean</th>\n",
       "      <td>1.007750</td>\n",
       "      <td>1.193734</td>\n",
       "      <td>-0.185985</td>\n",
       "    </tr>\n",
       "    <tr>\n",
       "      <th>std</th>\n",
       "      <td>6.813547</td>\n",
       "      <td>29.287013</td>\n",
       "      <td>28.302120</td>\n",
       "    </tr>\n",
       "    <tr>\n",
       "      <th>min</th>\n",
       "      <td>-17.223882</td>\n",
       "      <td>-68.000000</td>\n",
       "      <td>-168.788446</td>\n",
       "    </tr>\n",
       "    <tr>\n",
       "      <th>25%</th>\n",
       "      <td>-3.529938</td>\n",
       "      <td>-15.000000</td>\n",
       "      <td>-5.988773</td>\n",
       "    </tr>\n",
       "    <tr>\n",
       "      <th>50%</th>\n",
       "      <td>-0.845501</td>\n",
       "      <td>-7.000000</td>\n",
       "      <td>6.437426</td>\n",
       "    </tr>\n",
       "    <tr>\n",
       "      <th>75%</th>\n",
       "      <td>3.231524</td>\n",
       "      <td>6.000000</td>\n",
       "      <td>15.483374</td>\n",
       "    </tr>\n",
       "    <tr>\n",
       "      <th>max</th>\n",
       "      <td>95.204616</td>\n",
       "      <td>162.000000</td>\n",
       "      <td>100.976174</td>\n",
       "    </tr>\n",
       "  </tbody>\n",
       "</table>\n",
       "</div>"
      ],
      "text/plain": [
       "          grid_pred        y_test    difference\n",
       "count  72140.000000  72140.000000  72140.000000\n",
       "mean       1.007750      1.193734     -0.185985\n",
       "std        6.813547     29.287013     28.302120\n",
       "min      -17.223882    -68.000000   -168.788446\n",
       "25%       -3.529938    -15.000000     -5.988773\n",
       "50%       -0.845501     -7.000000      6.437426\n",
       "75%        3.231524      6.000000     15.483374\n",
       "max       95.204616    162.000000    100.976174"
      ]
     },
     "execution_count": 53,
     "metadata": {},
     "output_type": "execute_result"
    }
   ],
   "source": [
    "grid_df3.describe()"
   ]
  },
  {
   "cell_type": "code",
   "execution_count": 54,
   "id": "animated-matthew",
   "metadata": {},
   "outputs": [],
   "source": [
    "feature_importances3 = grid_results3.best_estimator_.feature_importances_"
   ]
  },
  {
   "cell_type": "code",
   "execution_count": 55,
   "id": "precise-password",
   "metadata": {},
   "outputs": [],
   "source": [
    "feature_importances3 = {'feature_importance':feature_importances3}\n",
    "features_df3 = pd.DataFrame(feature_importances3,index=X_test3.columns)"
   ]
  },
  {
   "cell_type": "code",
   "execution_count": 56,
   "id": "demonstrated-blast",
   "metadata": {},
   "outputs": [
    {
     "data": {
      "text/html": [
       "<div>\n",
       "<style scoped>\n",
       "    .dataframe tbody tr th:only-of-type {\n",
       "        vertical-align: middle;\n",
       "    }\n",
       "\n",
       "    .dataframe tbody tr th {\n",
       "        vertical-align: top;\n",
       "    }\n",
       "\n",
       "    .dataframe thead th {\n",
       "        text-align: right;\n",
       "    }\n",
       "</style>\n",
       "<table border=\"1\" class=\"dataframe\">\n",
       "  <thead>\n",
       "    <tr style=\"text-align: right;\">\n",
       "      <th></th>\n",
       "      <th>feature_importance</th>\n",
       "    </tr>\n",
       "  </thead>\n",
       "  <tbody>\n",
       "    <tr>\n",
       "      <th>crs_dep_time</th>\n",
       "      <td>0.238591</td>\n",
       "    </tr>\n",
       "    <tr>\n",
       "      <th>crs_arr_time</th>\n",
       "      <td>0.035712</td>\n",
       "    </tr>\n",
       "    <tr>\n",
       "      <th>crs_elapsed_time</th>\n",
       "      <td>0.043336</td>\n",
       "    </tr>\n",
       "    <tr>\n",
       "      <th>distance</th>\n",
       "      <td>0.048050</td>\n",
       "    </tr>\n",
       "    <tr>\n",
       "      <th>totalSnow_cm</th>\n",
       "      <td>0.079339</td>\n",
       "    </tr>\n",
       "    <tr>\n",
       "      <th>precipMM</th>\n",
       "      <td>0.275334</td>\n",
       "    </tr>\n",
       "    <tr>\n",
       "      <th>visibility</th>\n",
       "      <td>0.023988</td>\n",
       "    </tr>\n",
       "    <tr>\n",
       "      <th>windspeedKmph</th>\n",
       "      <td>0.054740</td>\n",
       "    </tr>\n",
       "    <tr>\n",
       "      <th>avg_passengers</th>\n",
       "      <td>0.051606</td>\n",
       "    </tr>\n",
       "    <tr>\n",
       "      <th>avg_percent_capacity</th>\n",
       "      <td>0.033773</td>\n",
       "    </tr>\n",
       "    <tr>\n",
       "      <th>(Jan,)</th>\n",
       "      <td>0.002803</td>\n",
       "    </tr>\n",
       "    <tr>\n",
       "      <th>(Feb,)</th>\n",
       "      <td>0.005233</td>\n",
       "    </tr>\n",
       "    <tr>\n",
       "      <th>(Mar,)</th>\n",
       "      <td>0.002670</td>\n",
       "    </tr>\n",
       "    <tr>\n",
       "      <th>(Apr,)</th>\n",
       "      <td>0.002185</td>\n",
       "    </tr>\n",
       "    <tr>\n",
       "      <th>(May,)</th>\n",
       "      <td>0.003636</td>\n",
       "    </tr>\n",
       "    <tr>\n",
       "      <th>(June,)</th>\n",
       "      <td>0.029873</td>\n",
       "    </tr>\n",
       "    <tr>\n",
       "      <th>(July,)</th>\n",
       "      <td>0.008048</td>\n",
       "    </tr>\n",
       "    <tr>\n",
       "      <th>(Aug,)</th>\n",
       "      <td>0.002396</td>\n",
       "    </tr>\n",
       "    <tr>\n",
       "      <th>(Sep,)</th>\n",
       "      <td>0.007081</td>\n",
       "    </tr>\n",
       "    <tr>\n",
       "      <th>(Oct,)</th>\n",
       "      <td>0.002786</td>\n",
       "    </tr>\n",
       "    <tr>\n",
       "      <th>(Nov,)</th>\n",
       "      <td>0.007461</td>\n",
       "    </tr>\n",
       "    <tr>\n",
       "      <th>(Dec,)</th>\n",
       "      <td>0.003039</td>\n",
       "    </tr>\n",
       "    <tr>\n",
       "      <th>(Mon,)</th>\n",
       "      <td>0.005422</td>\n",
       "    </tr>\n",
       "    <tr>\n",
       "      <th>(Tue,)</th>\n",
       "      <td>0.003782</td>\n",
       "    </tr>\n",
       "    <tr>\n",
       "      <th>(Wed,)</th>\n",
       "      <td>0.003143</td>\n",
       "    </tr>\n",
       "    <tr>\n",
       "      <th>(Thu,)</th>\n",
       "      <td>0.007503</td>\n",
       "    </tr>\n",
       "    <tr>\n",
       "      <th>(Fri,)</th>\n",
       "      <td>0.004045</td>\n",
       "    </tr>\n",
       "    <tr>\n",
       "      <th>(Sat,)</th>\n",
       "      <td>0.010157</td>\n",
       "    </tr>\n",
       "    <tr>\n",
       "      <th>(Sun,)</th>\n",
       "      <td>0.004271</td>\n",
       "    </tr>\n",
       "  </tbody>\n",
       "</table>\n",
       "</div>"
      ],
      "text/plain": [
       "                      feature_importance\n",
       "crs_dep_time                    0.238591\n",
       "crs_arr_time                    0.035712\n",
       "crs_elapsed_time                0.043336\n",
       "distance                        0.048050\n",
       "totalSnow_cm                    0.079339\n",
       "precipMM                        0.275334\n",
       "visibility                      0.023988\n",
       "windspeedKmph                   0.054740\n",
       "avg_passengers                  0.051606\n",
       "avg_percent_capacity            0.033773\n",
       "(Jan,)                          0.002803\n",
       "(Feb,)                          0.005233\n",
       "(Mar,)                          0.002670\n",
       "(Apr,)                          0.002185\n",
       "(May,)                          0.003636\n",
       "(June,)                         0.029873\n",
       "(July,)                         0.008048\n",
       "(Aug,)                          0.002396\n",
       "(Sep,)                          0.007081\n",
       "(Oct,)                          0.002786\n",
       "(Nov,)                          0.007461\n",
       "(Dec,)                          0.003039\n",
       "(Mon,)                          0.005422\n",
       "(Tue,)                          0.003782\n",
       "(Wed,)                          0.003143\n",
       "(Thu,)                          0.007503\n",
       "(Fri,)                          0.004045\n",
       "(Sat,)                          0.010157\n",
       "(Sun,)                          0.004271"
      ]
     },
     "execution_count": 56,
     "metadata": {},
     "output_type": "execute_result"
    }
   ],
   "source": [
    "features_df3"
   ]
  },
  {
   "cell_type": "code",
   "execution_count": 57,
   "id": "incident-minority",
   "metadata": {},
   "outputs": [],
   "source": [
    "features = ['crs_dep_time','crs_arr_time','crs_elapsed_time','distance','totalSnow_cm','precipMM','visibility','windspeedKmph','avg_passengers','avg_percent_capacity','Jan','Feb','Mar','Apr',\n",
    "            'May','June','July','Aug','Sep','Oct','Nov','Dec','Mon','Tue','Wed','Thu','Fri','Sat','Sun']"
   ]
  },
  {
   "cell_type": "code",
   "execution_count": 58,
   "id": "statistical-internship",
   "metadata": {},
   "outputs": [],
   "source": [
    "features_df3 = features_df3.set_axis(features,axis=0)"
   ]
  },
  {
   "cell_type": "code",
   "execution_count": 59,
   "id": "palestinian-schedule",
   "metadata": {},
   "outputs": [
    {
     "data": {
      "image/png": "[encoded data removed]",
      "text/plain": [
       "<Figure size 864x576 with 1 Axes>"
      ]
     },
     "metadata": {
      "needs_background": "light"
     },
     "output_type": "display_data"
    }
   ],
   "source": [
    "plt.subplots(figsize=(12,8))\n",
    "pyplot.bar(features_df3.index,features_df3['feature_importance'])\n",
    "plt.xticks(rotation=80)\n",
    "\n",
    "pyplot.show()"
   ]
  },
  {
   "cell_type": "markdown",
   "id": "veterinary-argentina",
   "metadata": {},
   "source": [
    "\n"
   ]
  },
  {
   "cell_type": "markdown",
   "id": "atomic-reach",
   "metadata": {},
   "source": [
    "### Try GridSearch with no bins on new data"
   ]
  },
  {
   "cell_type": "code",
   "execution_count": 60,
   "id": "polyphonic-attribute",
   "metadata": {},
   "outputs": [],
   "source": [
    "df_flights3 = pd.read_csv('cleaned_flights_sample2.csv')"
   ]
  },
  {
   "cell_type": "code",
   "execution_count": 64,
   "id": "geographic-wisdom",
   "metadata": {},
   "outputs": [
    {
     "data": {
      "text/html": [
       "<div>\n",
       "<style scoped>\n",
       "    .dataframe tbody tr th:only-of-type {\n",
       "        vertical-align: middle;\n",
       "    }\n",
       "\n",
       "    .dataframe tbody tr th {\n",
       "        vertical-align: top;\n",
       "    }\n",
       "\n",
       "    .dataframe thead th {\n",
       "        text-align: right;\n",
       "    }\n",
       "</style>\n",
       "<table border=\"1\" class=\"dataframe\">\n",
       "  <thead>\n",
       "    <tr style=\"text-align: right;\">\n",
       "      <th></th>\n",
       "      <th>crs_dep_time</th>\n",
       "      <th>crs_arr_time</th>\n",
       "      <th>arr_delay</th>\n",
       "      <th>crs_elapsed_time</th>\n",
       "      <th>distance</th>\n",
       "      <th>month</th>\n",
       "      <th>weekday</th>\n",
       "      <th>totalSnow_cm</th>\n",
       "      <th>precipMM</th>\n",
       "      <th>visibility</th>\n",
       "      <th>windspeedKmph</th>\n",
       "      <th>avg_passengers</th>\n",
       "      <th>avg_percent_capacity</th>\n",
       "    </tr>\n",
       "  </thead>\n",
       "  <tbody>\n",
       "    <tr>\n",
       "      <th>0</th>\n",
       "      <td>20</td>\n",
       "      <td>21</td>\n",
       "      <td>106.0</td>\n",
       "      <td>72.0</td>\n",
       "      <td>243.0</td>\n",
       "      <td>6</td>\n",
       "      <td>1</td>\n",
       "      <td>0.0</td>\n",
       "      <td>0.4</td>\n",
       "      <td>10</td>\n",
       "      <td>8</td>\n",
       "      <td>39.0</td>\n",
       "      <td>0.77</td>\n",
       "    </tr>\n",
       "    <tr>\n",
       "      <th>1</th>\n",
       "      <td>8</td>\n",
       "      <td>9</td>\n",
       "      <td>46.0</td>\n",
       "      <td>71.0</td>\n",
       "      <td>282.0</td>\n",
       "      <td>7</td>\n",
       "      <td>1</td>\n",
       "      <td>0.0</td>\n",
       "      <td>6.5</td>\n",
       "      <td>9</td>\n",
       "      <td>18</td>\n",
       "      <td>55.0</td>\n",
       "      <td>0.71</td>\n",
       "    </tr>\n",
       "    <tr>\n",
       "      <th>2</th>\n",
       "      <td>7</td>\n",
       "      <td>9</td>\n",
       "      <td>19.0</td>\n",
       "      <td>154.0</td>\n",
       "      <td>773.0</td>\n",
       "      <td>10</td>\n",
       "      <td>4</td>\n",
       "      <td>0.0</td>\n",
       "      <td>0.1</td>\n",
       "      <td>10</td>\n",
       "      <td>8</td>\n",
       "      <td>41.0</td>\n",
       "      <td>0.81</td>\n",
       "    </tr>\n",
       "    <tr>\n",
       "      <th>3</th>\n",
       "      <td>22</td>\n",
       "      <td>0</td>\n",
       "      <td>8.0</td>\n",
       "      <td>156.0</td>\n",
       "      <td>815.0</td>\n",
       "      <td>10</td>\n",
       "      <td>0</td>\n",
       "      <td>0.0</td>\n",
       "      <td>0.7</td>\n",
       "      <td>8</td>\n",
       "      <td>5</td>\n",
       "      <td>53.0</td>\n",
       "      <td>0.77</td>\n",
       "    </tr>\n",
       "    <tr>\n",
       "      <th>4</th>\n",
       "      <td>6</td>\n",
       "      <td>10</td>\n",
       "      <td>-25.0</td>\n",
       "      <td>318.0</td>\n",
       "      <td>1990.0</td>\n",
       "      <td>10</td>\n",
       "      <td>5</td>\n",
       "      <td>0.0</td>\n",
       "      <td>0.1</td>\n",
       "      <td>10</td>\n",
       "      <td>14</td>\n",
       "      <td>160.0</td>\n",
       "      <td>0.89</td>\n",
       "    </tr>\n",
       "  </tbody>\n",
       "</table>\n",
       "</div>"
      ],
      "text/plain": [
       "   crs_dep_time  crs_arr_time  ...  avg_passengers  avg_percent_capacity\n",
       "0            20            21  ...            39.0                  0.77\n",
       "1             8             9  ...            55.0                  0.71\n",
       "2             7             9  ...            41.0                  0.81\n",
       "3            22             0  ...            53.0                  0.77\n",
       "4             6            10  ...           160.0                  0.89\n",
       "\n",
       "[5 rows x 13 columns]"
      ]
     },
     "execution_count": 64,
     "metadata": {},
     "output_type": "execute_result"
    }
   ],
   "source": [
    "df_flights3.head()"
   ]
  },
  {
   "cell_type": "code",
   "execution_count": 83,
   "id": "recognized-priority",
   "metadata": {},
   "outputs": [
    {
     "data": {
      "text/html": [
       "<div>\n",
       "<style scoped>\n",
       "    .dataframe tbody tr th:only-of-type {\n",
       "        vertical-align: middle;\n",
       "    }\n",
       "\n",
       "    .dataframe tbody tr th {\n",
       "        vertical-align: top;\n",
       "    }\n",
       "\n",
       "    .dataframe thead th {\n",
       "        text-align: right;\n",
       "    }\n",
       "</style>\n",
       "<table border=\"1\" class=\"dataframe\">\n",
       "  <thead>\n",
       "    <tr style=\"text-align: right;\">\n",
       "      <th></th>\n",
       "      <th>crs_dep_time</th>\n",
       "      <th>crs_arr_time</th>\n",
       "      <th>arr_delay</th>\n",
       "      <th>crs_elapsed_time</th>\n",
       "      <th>distance</th>\n",
       "      <th>month</th>\n",
       "      <th>weekday</th>\n",
       "      <th>totalSnow_cm</th>\n",
       "      <th>precipMM</th>\n",
       "      <th>visibility</th>\n",
       "      <th>windspeedKmph</th>\n",
       "      <th>avg_passengers</th>\n",
       "      <th>avg_percent_capacity</th>\n",
       "    </tr>\n",
       "  </thead>\n",
       "  <tbody>\n",
       "    <tr>\n",
       "      <th>crs_dep_time</th>\n",
       "      <td>True</td>\n",
       "      <td>False</td>\n",
       "      <td>False</td>\n",
       "      <td>False</td>\n",
       "      <td>False</td>\n",
       "      <td>False</td>\n",
       "      <td>False</td>\n",
       "      <td>False</td>\n",
       "      <td>False</td>\n",
       "      <td>False</td>\n",
       "      <td>False</td>\n",
       "      <td>False</td>\n",
       "      <td>False</td>\n",
       "    </tr>\n",
       "    <tr>\n",
       "      <th>crs_arr_time</th>\n",
       "      <td>False</td>\n",
       "      <td>True</td>\n",
       "      <td>False</td>\n",
       "      <td>False</td>\n",
       "      <td>False</td>\n",
       "      <td>False</td>\n",
       "      <td>False</td>\n",
       "      <td>False</td>\n",
       "      <td>False</td>\n",
       "      <td>False</td>\n",
       "      <td>False</td>\n",
       "      <td>False</td>\n",
       "      <td>False</td>\n",
       "    </tr>\n",
       "    <tr>\n",
       "      <th>arr_delay</th>\n",
       "      <td>False</td>\n",
       "      <td>False</td>\n",
       "      <td>True</td>\n",
       "      <td>False</td>\n",
       "      <td>False</td>\n",
       "      <td>False</td>\n",
       "      <td>False</td>\n",
       "      <td>False</td>\n",
       "      <td>False</td>\n",
       "      <td>False</td>\n",
       "      <td>False</td>\n",
       "      <td>False</td>\n",
       "      <td>False</td>\n",
       "    </tr>\n",
       "    <tr>\n",
       "      <th>crs_elapsed_time</th>\n",
       "      <td>False</td>\n",
       "      <td>False</td>\n",
       "      <td>False</td>\n",
       "      <td>True</td>\n",
       "      <td>True</td>\n",
       "      <td>False</td>\n",
       "      <td>False</td>\n",
       "      <td>False</td>\n",
       "      <td>False</td>\n",
       "      <td>False</td>\n",
       "      <td>False</td>\n",
       "      <td>False</td>\n",
       "      <td>False</td>\n",
       "    </tr>\n",
       "    <tr>\n",
       "      <th>distance</th>\n",
       "      <td>False</td>\n",
       "      <td>False</td>\n",
       "      <td>False</td>\n",
       "      <td>True</td>\n",
       "      <td>True</td>\n",
       "      <td>False</td>\n",
       "      <td>False</td>\n",
       "      <td>False</td>\n",
       "      <td>False</td>\n",
       "      <td>False</td>\n",
       "      <td>False</td>\n",
       "      <td>False</td>\n",
       "      <td>False</td>\n",
       "    </tr>\n",
       "    <tr>\n",
       "      <th>month</th>\n",
       "      <td>False</td>\n",
       "      <td>False</td>\n",
       "      <td>False</td>\n",
       "      <td>False</td>\n",
       "      <td>False</td>\n",
       "      <td>True</td>\n",
       "      <td>False</td>\n",
       "      <td>False</td>\n",
       "      <td>False</td>\n",
       "      <td>False</td>\n",
       "      <td>False</td>\n",
       "      <td>False</td>\n",
       "      <td>False</td>\n",
       "    </tr>\n",
       "    <tr>\n",
       "      <th>weekday</th>\n",
       "      <td>False</td>\n",
       "      <td>False</td>\n",
       "      <td>False</td>\n",
       "      <td>False</td>\n",
       "      <td>False</td>\n",
       "      <td>False</td>\n",
       "      <td>True</td>\n",
       "      <td>False</td>\n",
       "      <td>False</td>\n",
       "      <td>False</td>\n",
       "      <td>False</td>\n",
       "      <td>False</td>\n",
       "      <td>False</td>\n",
       "    </tr>\n",
       "    <tr>\n",
       "      <th>totalSnow_cm</th>\n",
       "      <td>False</td>\n",
       "      <td>False</td>\n",
       "      <td>False</td>\n",
       "      <td>False</td>\n",
       "      <td>False</td>\n",
       "      <td>False</td>\n",
       "      <td>False</td>\n",
       "      <td>True</td>\n",
       "      <td>False</td>\n",
       "      <td>False</td>\n",
       "      <td>False</td>\n",
       "      <td>False</td>\n",
       "      <td>False</td>\n",
       "    </tr>\n",
       "    <tr>\n",
       "      <th>precipMM</th>\n",
       "      <td>False</td>\n",
       "      <td>False</td>\n",
       "      <td>False</td>\n",
       "      <td>False</td>\n",
       "      <td>False</td>\n",
       "      <td>False</td>\n",
       "      <td>False</td>\n",
       "      <td>False</td>\n",
       "      <td>True</td>\n",
       "      <td>False</td>\n",
       "      <td>False</td>\n",
       "      <td>False</td>\n",
       "      <td>False</td>\n",
       "    </tr>\n",
       "    <tr>\n",
       "      <th>visibility</th>\n",
       "      <td>False</td>\n",
       "      <td>False</td>\n",
       "      <td>False</td>\n",
       "      <td>False</td>\n",
       "      <td>False</td>\n",
       "      <td>False</td>\n",
       "      <td>False</td>\n",
       "      <td>False</td>\n",
       "      <td>False</td>\n",
       "      <td>True</td>\n",
       "      <td>False</td>\n",
       "      <td>False</td>\n",
       "      <td>False</td>\n",
       "    </tr>\n",
       "    <tr>\n",
       "      <th>windspeedKmph</th>\n",
       "      <td>False</td>\n",
       "      <td>False</td>\n",
       "      <td>False</td>\n",
       "      <td>False</td>\n",
       "      <td>False</td>\n",
       "      <td>False</td>\n",
       "      <td>False</td>\n",
       "      <td>False</td>\n",
       "      <td>False</td>\n",
       "      <td>False</td>\n",
       "      <td>True</td>\n",
       "      <td>False</td>\n",
       "      <td>False</td>\n",
       "    </tr>\n",
       "    <tr>\n",
       "      <th>avg_passengers</th>\n",
       "      <td>False</td>\n",
       "      <td>False</td>\n",
       "      <td>False</td>\n",
       "      <td>False</td>\n",
       "      <td>False</td>\n",
       "      <td>False</td>\n",
       "      <td>False</td>\n",
       "      <td>False</td>\n",
       "      <td>False</td>\n",
       "      <td>False</td>\n",
       "      <td>False</td>\n",
       "      <td>True</td>\n",
       "      <td>False</td>\n",
       "    </tr>\n",
       "    <tr>\n",
       "      <th>avg_percent_capacity</th>\n",
       "      <td>False</td>\n",
       "      <td>False</td>\n",
       "      <td>False</td>\n",
       "      <td>False</td>\n",
       "      <td>False</td>\n",
       "      <td>False</td>\n",
       "      <td>False</td>\n",
       "      <td>False</td>\n",
       "      <td>False</td>\n",
       "      <td>False</td>\n",
       "      <td>False</td>\n",
       "      <td>False</td>\n",
       "      <td>True</td>\n",
       "    </tr>\n",
       "  </tbody>\n",
       "</table>\n",
       "</div>"
      ],
      "text/plain": [
       "                      crs_dep_time  ...  avg_percent_capacity\n",
       "crs_dep_time                  True  ...                 False\n",
       "crs_arr_time                 False  ...                 False\n",
       "arr_delay                    False  ...                 False\n",
       "crs_elapsed_time             False  ...                 False\n",
       "distance                     False  ...                 False\n",
       "month                        False  ...                 False\n",
       "weekday                      False  ...                 False\n",
       "totalSnow_cm                 False  ...                 False\n",
       "precipMM                     False  ...                 False\n",
       "visibility                   False  ...                 False\n",
       "windspeedKmph                False  ...                 False\n",
       "avg_passengers               False  ...                 False\n",
       "avg_percent_capacity         False  ...                  True\n",
       "\n",
       "[13 rows x 13 columns]"
      ]
     },
     "execution_count": 83,
     "metadata": {},
     "output_type": "execute_result"
    }
   ],
   "source": [
    "df_flights3.corr()>0.7"
   ]
  },
  {
   "cell_type": "code",
   "execution_count": 63,
   "id": "incredible-title",
   "metadata": {},
   "outputs": [],
   "source": [
    "# Trying with no bins as they dont seem to have much importance from above.\n",
    "df_flights3 = df_flights3.drop(['fl_date','op_unique_carrier','origin','dest','crs_dep_bin','crs_arr_bin','departures_performed','payload','seats','passengers','freight','mail','ramp_to_ramp'],axis=1)"
   ]
  },
  {
   "cell_type": "code",
   "execution_count": 65,
   "id": "embedded-internship",
   "metadata": {},
   "outputs": [],
   "source": [
    "X4 = df_flights3.drop(['arr_delay'],axis=1)\n",
    "y4 = df_flights3['arr_delay']"
   ]
  },
  {
   "cell_type": "code",
   "execution_count": 66,
   "id": "alert-stockholm",
   "metadata": {},
   "outputs": [],
   "source": [
    "scaler = StandardScaler()\n",
    "X_scale4 = scaler.fit_transform(X4)\n",
    "X_scale4 = pd.DataFrame(X_scale4,columns=X4.columns)"
   ]
  },
  {
   "cell_type": "code",
   "execution_count": 67,
   "id": "extreme-international",
   "metadata": {},
   "outputs": [],
   "source": [
    "X_train4, X_test4, y_train4, y_test4 = train_test_split(X_scale4,y4,test_size=0.25)"
   ]
  },
  {
   "cell_type": "code",
   "execution_count": 68,
   "id": "moral-garlic",
   "metadata": {},
   "outputs": [],
   "source": [
    "params = {\n",
    "    'n_estimators': [50,100,150,200,250,300],\n",
    "    'max_depth': [1,3,5,7,9]\n",
    "}\n",
    "n=5"
   ]
  },
  {
   "cell_type": "code",
   "execution_count": 69,
   "id": "demonstrated-violin",
   "metadata": {},
   "outputs": [],
   "source": [
    "rf = RandomForestRegressor()\n",
    "grid4 = GridSearchCV(estimator=rf,param_grid=params,cv=n,scoring='r2',verbose=1,n_jobs=-1)"
   ]
  },
  {
   "cell_type": "code",
   "execution_count": 70,
   "id": "intensive-bishop",
   "metadata": {},
   "outputs": [
    {
     "name": "stdout",
     "output_type": "stream",
     "text": [
      "Fitting 5 folds for each of 30 candidates, totalling 150 fits\n"
     ]
    }
   ],
   "source": [
    "grid_results4 = grid4.fit(X_train4,y_train4)"
   ]
  },
  {
   "cell_type": "code",
   "execution_count": 71,
   "id": "sudden-fitting",
   "metadata": {},
   "outputs": [],
   "source": [
    "#save model with pickle\n",
    "# filename4 = 'GridSearchCV4.sav'\n",
    "# pickle.dump(grid4,open(filename4,'wb'))"
   ]
  },
  {
   "cell_type": "code",
   "execution_count": null,
   "id": "cutting-leather",
   "metadata": {},
   "outputs": [],
   "source": [
    "#load model with pickle\n",
    "grid_results4 = pickle.load(open('GridSearchCV4.sav','rb'))"
   ]
  },
  {
   "cell_type": "code",
   "execution_count": 72,
   "id": "distributed-paradise",
   "metadata": {},
   "outputs": [],
   "source": [
    "grid_pred4 = grid_results4.predict(X_test4)"
   ]
  },
  {
   "cell_type": "code",
   "execution_count": 73,
   "id": "silver-parliament",
   "metadata": {},
   "outputs": [
    {
     "name": "stdout",
     "output_type": "stream",
     "text": [
      "28.32346858654559\n"
     ]
    }
   ],
   "source": [
    "rf_rmse4 = np.sqrt(mean_squared_error(y_test4,grid_pred4))\n",
    "print(rf_rmse4)"
   ]
  },
  {
   "cell_type": "code",
   "execution_count": 88,
   "id": "awful-director",
   "metadata": {},
   "outputs": [
    {
     "data": {
      "text/plain": [
       "802.2188727730348"
      ]
     },
     "execution_count": 88,
     "metadata": {},
     "output_type": "execute_result"
    }
   ],
   "source": [
    "mean_squared_error(y_test4,grid_pred4)"
   ]
  },
  {
   "cell_type": "code",
   "execution_count": 74,
   "id": "hawaiian-equation",
   "metadata": {},
   "outputs": [
    {
     "name": "stdout",
     "output_type": "stream",
     "text": [
      "Mean Absolute Error: 18.617014393077834\n"
     ]
    }
   ],
   "source": [
    "rf_mae4 = mean_absolute_error(y_test4,grid_pred4)\n",
    "print(f'Mean Absolute Error: {rf_mae4}')"
   ]
  },
  {
   "cell_type": "code",
   "execution_count": 75,
   "id": "convinced-microwave",
   "metadata": {},
   "outputs": [
    {
     "name": "stdout",
     "output_type": "stream",
     "text": [
      "Best Score: 0.06211315555362242\n",
      "Best Params: {'max_depth': 9, 'n_estimators': 250}\n"
     ]
    }
   ],
   "source": [
    "best_score4 = grid_results4.best_score_\n",
    "best_params4 = grid_results4.best_params_\n",
    "print('Best Score:',best_score4)\n",
    "print('Best Params:',best_params4)"
   ]
  },
  {
   "cell_type": "code",
   "execution_count": 76,
   "id": "waiting-delaware",
   "metadata": {},
   "outputs": [],
   "source": [
    "grid_diff4 = grid_pred4-y_test4\n",
    "grid_df4 = pd.DataFrame({'grid_pred':grid_pred4,\n",
    "                       'y_test':y_test4,\n",
    "                       'difference':grid_diff4})"
   ]
  },
  {
   "cell_type": "code",
   "execution_count": 77,
   "id": "active-replica",
   "metadata": {},
   "outputs": [
    {
     "data": {
      "text/html": [
       "<div>\n",
       "<style scoped>\n",
       "    .dataframe tbody tr th:only-of-type {\n",
       "        vertical-align: middle;\n",
       "    }\n",
       "\n",
       "    .dataframe tbody tr th {\n",
       "        vertical-align: top;\n",
       "    }\n",
       "\n",
       "    .dataframe thead th {\n",
       "        text-align: right;\n",
       "    }\n",
       "</style>\n",
       "<table border=\"1\" class=\"dataframe\">\n",
       "  <thead>\n",
       "    <tr style=\"text-align: right;\">\n",
       "      <th></th>\n",
       "      <th>grid_pred</th>\n",
       "      <th>y_test</th>\n",
       "      <th>difference</th>\n",
       "    </tr>\n",
       "  </thead>\n",
       "  <tbody>\n",
       "    <tr>\n",
       "      <th>count</th>\n",
       "      <td>72140.000000</td>\n",
       "      <td>72140.000000</td>\n",
       "      <td>72140.000000</td>\n",
       "    </tr>\n",
       "    <tr>\n",
       "      <th>mean</th>\n",
       "      <td>1.062228</td>\n",
       "      <td>1.170571</td>\n",
       "      <td>-0.108343</td>\n",
       "    </tr>\n",
       "    <tr>\n",
       "      <th>std</th>\n",
       "      <td>6.896547</td>\n",
       "      <td>29.304007</td>\n",
       "      <td>28.323458</td>\n",
       "    </tr>\n",
       "    <tr>\n",
       "      <th>min</th>\n",
       "      <td>-17.614011</td>\n",
       "      <td>-80.000000</td>\n",
       "      <td>-167.240732</td>\n",
       "    </tr>\n",
       "    <tr>\n",
       "      <th>25%</th>\n",
       "      <td>-3.645195</td>\n",
       "      <td>-15.000000</td>\n",
       "      <td>-6.058266</td>\n",
       "    </tr>\n",
       "    <tr>\n",
       "      <th>50%</th>\n",
       "      <td>-0.742369</td>\n",
       "      <td>-7.000000</td>\n",
       "      <td>6.444146</td>\n",
       "    </tr>\n",
       "    <tr>\n",
       "      <th>75%</th>\n",
       "      <td>3.254403</td>\n",
       "      <td>6.000000</td>\n",
       "      <td>15.619913</td>\n",
       "    </tr>\n",
       "    <tr>\n",
       "      <th>max</th>\n",
       "      <td>62.809375</td>\n",
       "      <td>162.000000</td>\n",
       "      <td>83.598194</td>\n",
       "    </tr>\n",
       "  </tbody>\n",
       "</table>\n",
       "</div>"
      ],
      "text/plain": [
       "          grid_pred        y_test    difference\n",
       "count  72140.000000  72140.000000  72140.000000\n",
       "mean       1.062228      1.170571     -0.108343\n",
       "std        6.896547     29.304007     28.323458\n",
       "min      -17.614011    -80.000000   -167.240732\n",
       "25%       -3.645195    -15.000000     -6.058266\n",
       "50%       -0.742369     -7.000000      6.444146\n",
       "75%        3.254403      6.000000     15.619913\n",
       "max       62.809375    162.000000     83.598194"
      ]
     },
     "execution_count": 77,
     "metadata": {},
     "output_type": "execute_result"
    }
   ],
   "source": [
    "grid_df4.describe()"
   ]
  },
  {
   "cell_type": "code",
   "execution_count": 78,
   "id": "shared-politics",
   "metadata": {},
   "outputs": [],
   "source": [
    "feature_importances4 = grid_results4.best_estimator_.feature_importances_"
   ]
  },
  {
   "cell_type": "code",
   "execution_count": 79,
   "id": "included-velvet",
   "metadata": {},
   "outputs": [],
   "source": [
    "feature_importances4 = {'feature_importance':feature_importances4}\n",
    "features_df4 = pd.DataFrame(feature_importances4,index=X_test4.columns)"
   ]
  },
  {
   "cell_type": "code",
   "execution_count": 80,
   "id": "legal-amsterdam",
   "metadata": {},
   "outputs": [
    {
     "data": {
      "image/png": "[encoded data removed]",
      "text/plain": [
       "<Figure size 864x576 with 1 Axes>"
      ]
     },
     "metadata": {
      "needs_background": "light"
     },
     "output_type": "display_data"
    }
   ],
   "source": [
    "plt.subplots(figsize=(12,8))\n",
    "pyplot.bar(features_df4.index,features_df4['feature_importance'])\n",
    "plt.xticks(rotation=80)\n",
    "\n",
    "pyplot.show()"
   ]
  },
  {
   "cell_type": "markdown",
   "id": "built-amino",
   "metadata": {},
   "source": [
    "\n"
   ]
  },
  {
   "cell_type": "markdown",
   "id": "funny-activation",
   "metadata": {},
   "source": [
    "### Try using labels on origin and carrier"
   ]
  },
  {
   "cell_type": "code",
   "execution_count": 98,
   "id": "grand-shuttle",
   "metadata": {},
   "outputs": [],
   "source": [
    "df_flights4 = pd.read_csv('cleaned_flights_sample2.csv')"
   ]
  },
  {
   "cell_type": "code",
   "execution_count": 101,
   "id": "actual-malpractice",
   "metadata": {},
   "outputs": [
    {
     "data": {
      "text/html": [
       "<div>\n",
       "<style scoped>\n",
       "    .dataframe tbody tr th:only-of-type {\n",
       "        vertical-align: middle;\n",
       "    }\n",
       "\n",
       "    .dataframe tbody tr th {\n",
       "        vertical-align: top;\n",
       "    }\n",
       "\n",
       "    .dataframe thead th {\n",
       "        text-align: right;\n",
       "    }\n",
       "</style>\n",
       "<table border=\"1\" class=\"dataframe\">\n",
       "  <thead>\n",
       "    <tr style=\"text-align: right;\">\n",
       "      <th></th>\n",
       "      <th>op_unique_carrier</th>\n",
       "      <th>origin</th>\n",
       "      <th>crs_dep_time</th>\n",
       "      <th>crs_arr_time</th>\n",
       "      <th>arr_delay</th>\n",
       "      <th>crs_elapsed_time</th>\n",
       "      <th>distance</th>\n",
       "      <th>month</th>\n",
       "      <th>weekday</th>\n",
       "      <th>totalSnow_cm</th>\n",
       "      <th>precipMM</th>\n",
       "      <th>visibility</th>\n",
       "      <th>windspeedKmph</th>\n",
       "      <th>avg_passengers</th>\n",
       "      <th>avg_percent_capacity</th>\n",
       "    </tr>\n",
       "  </thead>\n",
       "  <tbody>\n",
       "    <tr>\n",
       "      <th>0</th>\n",
       "      <td>OO</td>\n",
       "      <td>DTW</td>\n",
       "      <td>20</td>\n",
       "      <td>21</td>\n",
       "      <td>106.0</td>\n",
       "      <td>72.0</td>\n",
       "      <td>243.0</td>\n",
       "      <td>6</td>\n",
       "      <td>1</td>\n",
       "      <td>0.0</td>\n",
       "      <td>0.4</td>\n",
       "      <td>10</td>\n",
       "      <td>8</td>\n",
       "      <td>39.0</td>\n",
       "      <td>0.77</td>\n",
       "    </tr>\n",
       "    <tr>\n",
       "      <th>1</th>\n",
       "      <td>YV</td>\n",
       "      <td>DFW</td>\n",
       "      <td>8</td>\n",
       "      <td>9</td>\n",
       "      <td>46.0</td>\n",
       "      <td>71.0</td>\n",
       "      <td>282.0</td>\n",
       "      <td>7</td>\n",
       "      <td>1</td>\n",
       "      <td>0.0</td>\n",
       "      <td>6.5</td>\n",
       "      <td>9</td>\n",
       "      <td>18</td>\n",
       "      <td>55.0</td>\n",
       "      <td>0.71</td>\n",
       "    </tr>\n",
       "    <tr>\n",
       "      <th>2</th>\n",
       "      <td>ZW</td>\n",
       "      <td>SAV</td>\n",
       "      <td>7</td>\n",
       "      <td>9</td>\n",
       "      <td>19.0</td>\n",
       "      <td>154.0</td>\n",
       "      <td>773.0</td>\n",
       "      <td>10</td>\n",
       "      <td>4</td>\n",
       "      <td>0.0</td>\n",
       "      <td>0.1</td>\n",
       "      <td>10</td>\n",
       "      <td>8</td>\n",
       "      <td>41.0</td>\n",
       "      <td>0.81</td>\n",
       "    </tr>\n",
       "    <tr>\n",
       "      <th>3</th>\n",
       "      <td>OH</td>\n",
       "      <td>CLT</td>\n",
       "      <td>22</td>\n",
       "      <td>0</td>\n",
       "      <td>8.0</td>\n",
       "      <td>156.0</td>\n",
       "      <td>815.0</td>\n",
       "      <td>10</td>\n",
       "      <td>0</td>\n",
       "      <td>0.0</td>\n",
       "      <td>0.7</td>\n",
       "      <td>8</td>\n",
       "      <td>5</td>\n",
       "      <td>53.0</td>\n",
       "      <td>0.77</td>\n",
       "    </tr>\n",
       "    <tr>\n",
       "      <th>4</th>\n",
       "      <td>DL</td>\n",
       "      <td>JFK</td>\n",
       "      <td>6</td>\n",
       "      <td>10</td>\n",
       "      <td>-25.0</td>\n",
       "      <td>318.0</td>\n",
       "      <td>1990.0</td>\n",
       "      <td>10</td>\n",
       "      <td>5</td>\n",
       "      <td>0.0</td>\n",
       "      <td>0.1</td>\n",
       "      <td>10</td>\n",
       "      <td>14</td>\n",
       "      <td>160.0</td>\n",
       "      <td>0.89</td>\n",
       "    </tr>\n",
       "  </tbody>\n",
       "</table>\n",
       "</div>"
      ],
      "text/plain": [
       "  op_unique_carrier origin  ...  avg_passengers  avg_percent_capacity\n",
       "0                OO    DTW  ...            39.0                  0.77\n",
       "1                YV    DFW  ...            55.0                  0.71\n",
       "2                ZW    SAV  ...            41.0                  0.81\n",
       "3                OH    CLT  ...            53.0                  0.77\n",
       "4                DL    JFK  ...           160.0                  0.89\n",
       "\n",
       "[5 rows x 15 columns]"
      ]
     },
     "execution_count": 101,
     "metadata": {},
     "output_type": "execute_result"
    }
   ],
   "source": [
    "df_flights4.head()"
   ]
  },
  {
   "cell_type": "code",
   "execution_count": 100,
   "id": "fleet-sponsorship",
   "metadata": {},
   "outputs": [],
   "source": [
    "df_flights4 = df_flights4.drop(['fl_date','crs_dep_bin','dest','crs_arr_bin','departures_performed','payload','seats','passengers','freight','mail','ramp_to_ramp'],axis=1)"
   ]
  },
  {
   "cell_type": "code",
   "execution_count": 103,
   "id": "magnetic-adult",
   "metadata": {},
   "outputs": [],
   "source": [
    "le = LabelEncoder()"
   ]
  },
  {
   "cell_type": "code",
   "execution_count": 104,
   "id": "diagnostic-minnesota",
   "metadata": {},
   "outputs": [],
   "source": [
    "df_flights4['op_unique_carrier'] = le.fit_transform(df_flights4['op_unique_carrier'])\n",
    "df_flights4['origin'] = le.fit_transform(df_flights4['origin'])"
   ]
  },
  {
   "cell_type": "code",
   "execution_count": 106,
   "id": "compatible-linux",
   "metadata": {},
   "outputs": [],
   "source": [
    "X5 = df_flights4.drop(['arr_delay'],axis=1)\n",
    "y5 = df_flights4['arr_delay']"
   ]
  },
  {
   "cell_type": "code",
   "execution_count": 107,
   "id": "chubby-ranch",
   "metadata": {},
   "outputs": [],
   "source": [
    "scaler = StandardScaler()\n",
    "X_scale5 = scaler.fit_transform(X5)\n",
    "X_scale5 = pd.DataFrame(X_scale5,columns=X5.columns)"
   ]
  },
  {
   "cell_type": "code",
   "execution_count": 108,
   "id": "smart-japan",
   "metadata": {},
   "outputs": [],
   "source": [
    "X_train5, X_test5, y_train5, y_test5 = train_test_split(X_scale5,y5,test_size=0.25)"
   ]
  },
  {
   "cell_type": "code",
   "execution_count": 110,
   "id": "traditional-tracker",
   "metadata": {},
   "outputs": [],
   "source": [
    "params = {\n",
    "    'n_estimators': [230,250,270],\n",
    "    'max_depth': [8,9,10]\n",
    "}\n",
    "n=5"
   ]
  },
  {
   "cell_type": "code",
   "execution_count": 111,
   "id": "brilliant-finger",
   "metadata": {},
   "outputs": [],
   "source": [
    "rf = RandomForestRegressor()\n",
    "grid5 = GridSearchCV(estimator=rf,param_grid=params,cv=n,scoring='r2',verbose=1,n_jobs=-1)"
   ]
  },
  {
   "cell_type": "code",
   "execution_count": 112,
   "id": "accompanied-sailing",
   "metadata": {},
   "outputs": [
    {
     "name": "stdout",
     "output_type": "stream",
     "text": [
      "Fitting 5 folds for each of 9 candidates, totalling 45 fits\n"
     ]
    }
   ],
   "source": [
    "grid_results5 = grid5.fit(X_train5,y_train5)"
   ]
  },
  {
   "cell_type": "code",
   "execution_count": 113,
   "id": "adopted-package",
   "metadata": {},
   "outputs": [],
   "source": [
    "#save model with pickle\n",
    "# filename5 = 'GridSearchCV5.sav'\n",
    "# pickle.dump(grid5,open(filename5,'wb'))"
   ]
  },
  {
   "cell_type": "code",
   "execution_count": null,
   "id": "northern-conference",
   "metadata": {},
   "outputs": [],
   "source": [
    "#load model with pickle\n",
    "grid_results5 = pickle.load(open('GridSearchCV5.sav','rb'))"
   ]
  },
  {
   "cell_type": "code",
   "execution_count": 114,
   "id": "funded-ceramic",
   "metadata": {},
   "outputs": [],
   "source": [
    "grid_pred5 = grid_results5.predict(X_test5)"
   ]
  },
  {
   "cell_type": "code",
   "execution_count": 115,
   "id": "turned-spare",
   "metadata": {},
   "outputs": [
    {
     "name": "stdout",
     "output_type": "stream",
     "text": [
      "27.88720323809875\n"
     ]
    }
   ],
   "source": [
    "rf_rmse5 = np.sqrt(mean_squared_error(y_test5,grid_pred5))\n",
    "print(rf_rmse5)"
   ]
  },
  {
   "cell_type": "code",
   "execution_count": 116,
   "id": "guilty-hanging",
   "metadata": {},
   "outputs": [
    {
     "name": "stdout",
     "output_type": "stream",
     "text": [
      "Mean Absolute Error: 18.41292697884068\n"
     ]
    }
   ],
   "source": [
    "rf_mae5 = mean_absolute_error(y_test5,grid_pred5)\n",
    "print(f'Mean Absolute Error: {rf_mae5}')"
   ]
  },
  {
   "cell_type": "code",
   "execution_count": 117,
   "id": "federal-sister",
   "metadata": {},
   "outputs": [
    {
     "name": "stdout",
     "output_type": "stream",
     "text": [
      "Best Score: 0.0675351600081749\n",
      "Best Params: {'max_depth': 10, 'n_estimators': 250}\n"
     ]
    }
   ],
   "source": [
    "best_score5 = grid_results5.best_score_\n",
    "best_params5 = grid_results5.best_params_\n",
    "print('Best Score:',best_score5)\n",
    "print('Best Params:',best_params5)"
   ]
  },
  {
   "cell_type": "code",
   "execution_count": 118,
   "id": "dominant-bulgaria",
   "metadata": {},
   "outputs": [],
   "source": [
    "grid_diff5 = grid_pred5-y_test5\n",
    "grid_df5 = pd.DataFrame({'grid_pred':grid_pred5,\n",
    "                       'y_test':y_test5,\n",
    "                       'difference':grid_diff5})"
   ]
  },
  {
   "cell_type": "code",
   "execution_count": 119,
   "id": "scenic-terrace",
   "metadata": {},
   "outputs": [
    {
     "data": {
      "text/html": [
       "<div>\n",
       "<style scoped>\n",
       "    .dataframe tbody tr th:only-of-type {\n",
       "        vertical-align: middle;\n",
       "    }\n",
       "\n",
       "    .dataframe tbody tr th {\n",
       "        vertical-align: top;\n",
       "    }\n",
       "\n",
       "    .dataframe thead th {\n",
       "        text-align: right;\n",
       "    }\n",
       "</style>\n",
       "<table border=\"1\" class=\"dataframe\">\n",
       "  <thead>\n",
       "    <tr style=\"text-align: right;\">\n",
       "      <th></th>\n",
       "      <th>grid_pred</th>\n",
       "      <th>y_test</th>\n",
       "      <th>difference</th>\n",
       "    </tr>\n",
       "  </thead>\n",
       "  <tbody>\n",
       "    <tr>\n",
       "      <th>count</th>\n",
       "      <td>72140.000000</td>\n",
       "      <td>72140.000000</td>\n",
       "      <td>72140.000000</td>\n",
       "    </tr>\n",
       "    <tr>\n",
       "      <th>mean</th>\n",
       "      <td>1.073973</td>\n",
       "      <td>1.031536</td>\n",
       "      <td>0.042437</td>\n",
       "    </tr>\n",
       "    <tr>\n",
       "      <th>std</th>\n",
       "      <td>7.102982</td>\n",
       "      <td>28.926971</td>\n",
       "      <td>27.887364</td>\n",
       "    </tr>\n",
       "    <tr>\n",
       "      <th>min</th>\n",
       "      <td>-18.245735</td>\n",
       "      <td>-80.000000</td>\n",
       "      <td>-168.090251</td>\n",
       "    </tr>\n",
       "    <tr>\n",
       "      <th>25%</th>\n",
       "      <td>-3.678189</td>\n",
       "      <td>-15.000000</td>\n",
       "      <td>-6.064748</td>\n",
       "    </tr>\n",
       "    <tr>\n",
       "      <th>50%</th>\n",
       "      <td>-0.732837</td>\n",
       "      <td>-7.000000</td>\n",
       "      <td>6.424758</td>\n",
       "    </tr>\n",
       "    <tr>\n",
       "      <th>75%</th>\n",
       "      <td>3.374572</td>\n",
       "      <td>7.000000</td>\n",
       "      <td>15.559116</td>\n",
       "    </tr>\n",
       "    <tr>\n",
       "      <th>max</th>\n",
       "      <td>87.874980</td>\n",
       "      <td>162.000000</td>\n",
       "      <td>93.026016</td>\n",
       "    </tr>\n",
       "  </tbody>\n",
       "</table>\n",
       "</div>"
      ],
      "text/plain": [
       "          grid_pred        y_test    difference\n",
       "count  72140.000000  72140.000000  72140.000000\n",
       "mean       1.073973      1.031536      0.042437\n",
       "std        7.102982     28.926971     27.887364\n",
       "min      -18.245735    -80.000000   -168.090251\n",
       "25%       -3.678189    -15.000000     -6.064748\n",
       "50%       -0.732837     -7.000000      6.424758\n",
       "75%        3.374572      7.000000     15.559116\n",
       "max       87.874980    162.000000     93.026016"
      ]
     },
     "execution_count": 119,
     "metadata": {},
     "output_type": "execute_result"
    }
   ],
   "source": [
    "grid_df5.describe()"
   ]
  },
  {
   "cell_type": "code",
   "execution_count": 120,
   "id": "pacific-connectivity",
   "metadata": {},
   "outputs": [],
   "source": [
    "feature_importances5 = grid_results5.best_estimator_.feature_importances_"
   ]
  },
  {
   "cell_type": "code",
   "execution_count": 121,
   "id": "stunning-abuse",
   "metadata": {},
   "outputs": [],
   "source": [
    "feature_importances5 = {'feature_importance':feature_importances5}\n",
    "features_df5 = pd.DataFrame(feature_importances5,index=X_test5.columns)"
   ]
  },
  {
   "cell_type": "code",
   "execution_count": 122,
   "id": "cardiovascular-cambodia",
   "metadata": {},
   "outputs": [
    {
     "data": {
      "image/png": "[encoded data removed]",
      "text/plain": [
       "<Figure size 864x576 with 1 Axes>"
      ]
     },
     "metadata": {
      "needs_background": "light"
     },
     "output_type": "display_data"
    }
   ],
   "source": [
    "plt.subplots(figsize=(12,8))\n",
    "pyplot.bar(features_df5.index,features_df5['feature_importance'])\n",
    "plt.xticks(rotation=80)\n",
    "pyplot.show()"
   ]
  },
  {
   "cell_type": "code",
   "execution_count": 165,
   "id": "recognized-manitoba",
   "metadata": {},
   "outputs": [
    {
     "data": {
      "image/png": "[encoded data removed]",
      "text/plain": [
       "<Figure size 1080x720 with 1 Axes>"
      ]
     },
     "metadata": {},
     "output_type": "display_data"
    }
   ],
   "source": [
    "plt.subplots(figsize=(15,10))\n",
    "sns.lineplot(data=grid_df5,y='grid_pred',x='y_test')\n",
    "plt.show()"
   ]
  },
  {
   "cell_type": "code",
   "execution_count": null,
   "id": "fresh-burton",
   "metadata": {},
   "outputs": [],
   "source": []
  }
 ],
 "metadata": {
  "kernelspec": {
   "display_name": "Python 3",
   "language": "python",
   "name": "python3"
  },
  "language_info": {
   "codemirror_mode": {
    "name": "ipython",
    "version": 3
   },
   "file_extension": ".py",
   "mimetype": "text/x-python",
   "name": "python",
   "nbconvert_exporter": "python",
   "pygments_lexer": "ipython3",
   "version": "3.8.5"
  }
 },
 "nbformat": 4,
 "nbformat_minor": 5
}
