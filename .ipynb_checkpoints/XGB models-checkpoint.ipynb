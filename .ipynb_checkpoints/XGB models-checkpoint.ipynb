{
 "cells": [
  {
   "cell_type": "code",
   "execution_count": 27,
   "id": "relevant-proposition",
   "metadata": {},
   "outputs": [],
   "source": [
    "import pandas as pd\n",
    "import numpy as np\n",
    "pd.set_option('display.max_columns',False)\n",
    "import seaborn as sns\n",
    "import matplotlib.pyplot as plt\n",
    "from matplotlib import pyplot\n",
    "from sklearn.metrics import recall_score, precision_score, r2_score, accuracy_score\n",
    "import xgboost as xgb\n",
    "from sklearn.preprocessing import StandardScaler\n",
    "from sklearn import metrics\n",
    "from sklearn.model_selection import train_test_split\n",
    "from sklearn.metrics import confusion_matrix\n",
    "from sklearn.preprocessing import LabelEncoder"
   ]
  },
  {
   "cell_type": "code",
   "execution_count": 2,
   "id": "negative-premiere",
   "metadata": {},
   "outputs": [],
   "source": [
    "df_flights = pd.read_csv('cleaned_flights_300000sample1.csv')"
   ]
  },
  {
   "cell_type": "markdown",
   "id": "marked-commitment",
   "metadata": {},
   "source": [
    "Let's trying turning arr_delay to a logistic model"
   ]
  },
  {
   "cell_type": "code",
   "execution_count": 3,
   "id": "understood-working",
   "metadata": {},
   "outputs": [],
   "source": [
    "df_flights['arr_delay2'] = np.where(df_flights['arr_delay'] > 0, 1,\n",
    "                    np.where(df_flights['arr_delay'] <= 0, 0,0))"
   ]
  },
  {
   "cell_type": "code",
   "execution_count": 4,
   "id": "amber-suggestion",
   "metadata": {},
   "outputs": [
    {
     "data": {
      "text/html": [
       "<div>\n",
       "<style scoped>\n",
       "    .dataframe tbody tr th:only-of-type {\n",
       "        vertical-align: middle;\n",
       "    }\n",
       "\n",
       "    .dataframe tbody tr th {\n",
       "        vertical-align: top;\n",
       "    }\n",
       "\n",
       "    .dataframe thead th {\n",
       "        text-align: right;\n",
       "    }\n",
       "</style>\n",
       "<table border=\"1\" class=\"dataframe\">\n",
       "  <thead>\n",
       "    <tr style=\"text-align: right;\">\n",
       "      <th></th>\n",
       "      <th>fl_date</th>\n",
       "      <th>op_unique_carrier</th>\n",
       "      <th>origin</th>\n",
       "      <th>dest</th>\n",
       "      <th>crs_dep_time</th>\n",
       "      <th>crs_arr_time</th>\n",
       "      <th>arr_delay</th>\n",
       "      <th>crs_elapsed_time</th>\n",
       "      <th>distance</th>\n",
       "      <th>month</th>\n",
       "      <th>weekday</th>\n",
       "      <th>crs_dep_bin</th>\n",
       "      <th>crs_arr_bin</th>\n",
       "      <th>date_time</th>\n",
       "      <th>location</th>\n",
       "      <th>totalSnow_cm</th>\n",
       "      <th>precipMM</th>\n",
       "      <th>visibility</th>\n",
       "      <th>windspeedKmph</th>\n",
       "      <th>arr_delay2</th>\n",
       "    </tr>\n",
       "  </thead>\n",
       "  <tbody>\n",
       "    <tr>\n",
       "      <th>0</th>\n",
       "      <td>2019-06-18</td>\n",
       "      <td>OO</td>\n",
       "      <td>DTW</td>\n",
       "      <td>PLN</td>\n",
       "      <td>20</td>\n",
       "      <td>21</td>\n",
       "      <td>106.0</td>\n",
       "      <td>72.0</td>\n",
       "      <td>243.0</td>\n",
       "      <td>6</td>\n",
       "      <td>1</td>\n",
       "      <td>Night</td>\n",
       "      <td>Night</td>\n",
       "      <td>2019-06-18</td>\n",
       "      <td>DTW</td>\n",
       "      <td>0.0</td>\n",
       "      <td>0.4</td>\n",
       "      <td>10</td>\n",
       "      <td>8</td>\n",
       "      <td>1</td>\n",
       "    </tr>\n",
       "    <tr>\n",
       "      <th>1</th>\n",
       "      <td>2019-07-02</td>\n",
       "      <td>YV</td>\n",
       "      <td>DFW</td>\n",
       "      <td>LBB</td>\n",
       "      <td>8</td>\n",
       "      <td>9</td>\n",
       "      <td>46.0</td>\n",
       "      <td>71.0</td>\n",
       "      <td>282.0</td>\n",
       "      <td>7</td>\n",
       "      <td>1</td>\n",
       "      <td>Afternoon</td>\n",
       "      <td>Afternoon</td>\n",
       "      <td>2019-07-02</td>\n",
       "      <td>DFW</td>\n",
       "      <td>0.0</td>\n",
       "      <td>6.5</td>\n",
       "      <td>9</td>\n",
       "      <td>18</td>\n",
       "      <td>1</td>\n",
       "    </tr>\n",
       "    <tr>\n",
       "      <th>2</th>\n",
       "      <td>2019-10-11</td>\n",
       "      <td>ZW</td>\n",
       "      <td>SAV</td>\n",
       "      <td>ORD</td>\n",
       "      <td>7</td>\n",
       "      <td>9</td>\n",
       "      <td>19.0</td>\n",
       "      <td>154.0</td>\n",
       "      <td>773.0</td>\n",
       "      <td>10</td>\n",
       "      <td>4</td>\n",
       "      <td>Afternoon</td>\n",
       "      <td>Afternoon</td>\n",
       "      <td>2019-10-11</td>\n",
       "      <td>SAV</td>\n",
       "      <td>0.0</td>\n",
       "      <td>0.1</td>\n",
       "      <td>10</td>\n",
       "      <td>8</td>\n",
       "      <td>1</td>\n",
       "    </tr>\n",
       "    <tr>\n",
       "      <th>3</th>\n",
       "      <td>2019-10-14</td>\n",
       "      <td>OH</td>\n",
       "      <td>CLT</td>\n",
       "      <td>DSM</td>\n",
       "      <td>22</td>\n",
       "      <td>0</td>\n",
       "      <td>8.0</td>\n",
       "      <td>156.0</td>\n",
       "      <td>815.0</td>\n",
       "      <td>10</td>\n",
       "      <td>0</td>\n",
       "      <td>Night</td>\n",
       "      <td>Morning</td>\n",
       "      <td>2019-10-14</td>\n",
       "      <td>CLT</td>\n",
       "      <td>0.0</td>\n",
       "      <td>0.7</td>\n",
       "      <td>8</td>\n",
       "      <td>5</td>\n",
       "      <td>1</td>\n",
       "    </tr>\n",
       "    <tr>\n",
       "      <th>4</th>\n",
       "      <td>2019-10-26</td>\n",
       "      <td>DL</td>\n",
       "      <td>JFK</td>\n",
       "      <td>SLC</td>\n",
       "      <td>6</td>\n",
       "      <td>10</td>\n",
       "      <td>-25.0</td>\n",
       "      <td>318.0</td>\n",
       "      <td>1990.0</td>\n",
       "      <td>10</td>\n",
       "      <td>5</td>\n",
       "      <td>Afternoon</td>\n",
       "      <td>Afternoon</td>\n",
       "      <td>2019-10-26</td>\n",
       "      <td>JFK</td>\n",
       "      <td>0.0</td>\n",
       "      <td>0.1</td>\n",
       "      <td>10</td>\n",
       "      <td>14</td>\n",
       "      <td>0</td>\n",
       "    </tr>\n",
       "    <tr>\n",
       "      <th>...</th>\n",
       "      <td>...</td>\n",
       "      <td>...</td>\n",
       "      <td>...</td>\n",
       "      <td>...</td>\n",
       "      <td>...</td>\n",
       "      <td>...</td>\n",
       "      <td>...</td>\n",
       "      <td>...</td>\n",
       "      <td>...</td>\n",
       "      <td>...</td>\n",
       "      <td>...</td>\n",
       "      <td>...</td>\n",
       "      <td>...</td>\n",
       "      <td>...</td>\n",
       "      <td>...</td>\n",
       "      <td>...</td>\n",
       "      <td>...</td>\n",
       "      <td>...</td>\n",
       "      <td>...</td>\n",
       "      <td>...</td>\n",
       "    </tr>\n",
       "    <tr>\n",
       "      <th>288587</th>\n",
       "      <td>2019-04-25</td>\n",
       "      <td>OO</td>\n",
       "      <td>SBN</td>\n",
       "      <td>MSP</td>\n",
       "      <td>7</td>\n",
       "      <td>7</td>\n",
       "      <td>-8.0</td>\n",
       "      <td>115.0</td>\n",
       "      <td>411.0</td>\n",
       "      <td>4</td>\n",
       "      <td>3</td>\n",
       "      <td>Afternoon</td>\n",
       "      <td>Afternoon</td>\n",
       "      <td>2019-04-25</td>\n",
       "      <td>SBN</td>\n",
       "      <td>0.0</td>\n",
       "      <td>3.3</td>\n",
       "      <td>10</td>\n",
       "      <td>7</td>\n",
       "      <td>0</td>\n",
       "    </tr>\n",
       "    <tr>\n",
       "      <th>288588</th>\n",
       "      <td>2019-03-23</td>\n",
       "      <td>EV</td>\n",
       "      <td>TUL</td>\n",
       "      <td>ORD</td>\n",
       "      <td>6</td>\n",
       "      <td>8</td>\n",
       "      <td>4.0</td>\n",
       "      <td>127.0</td>\n",
       "      <td>585.0</td>\n",
       "      <td>3</td>\n",
       "      <td>5</td>\n",
       "      <td>Afternoon</td>\n",
       "      <td>Afternoon</td>\n",
       "      <td>2019-03-23</td>\n",
       "      <td>TUL</td>\n",
       "      <td>0.0</td>\n",
       "      <td>21.7</td>\n",
       "      <td>9</td>\n",
       "      <td>20</td>\n",
       "      <td>1</td>\n",
       "    </tr>\n",
       "    <tr>\n",
       "      <th>288589</th>\n",
       "      <td>2019-01-21</td>\n",
       "      <td>NK</td>\n",
       "      <td>BOS</td>\n",
       "      <td>RSW</td>\n",
       "      <td>6</td>\n",
       "      <td>10</td>\n",
       "      <td>19.0</td>\n",
       "      <td>227.0</td>\n",
       "      <td>1249.0</td>\n",
       "      <td>1</td>\n",
       "      <td>0</td>\n",
       "      <td>Afternoon</td>\n",
       "      <td>Afternoon</td>\n",
       "      <td>2019-01-21</td>\n",
       "      <td>BOS</td>\n",
       "      <td>0.1</td>\n",
       "      <td>0.2</td>\n",
       "      <td>9</td>\n",
       "      <td>30</td>\n",
       "      <td>1</td>\n",
       "    </tr>\n",
       "    <tr>\n",
       "      <th>288590</th>\n",
       "      <td>2019-01-30</td>\n",
       "      <td>WN</td>\n",
       "      <td>DAL</td>\n",
       "      <td>IND</td>\n",
       "      <td>15</td>\n",
       "      <td>18</td>\n",
       "      <td>-16.0</td>\n",
       "      <td>120.0</td>\n",
       "      <td>755.0</td>\n",
       "      <td>1</td>\n",
       "      <td>2</td>\n",
       "      <td>Evening</td>\n",
       "      <td>Night</td>\n",
       "      <td>2019-01-30</td>\n",
       "      <td>DAL</td>\n",
       "      <td>0.0</td>\n",
       "      <td>0.0</td>\n",
       "      <td>10</td>\n",
       "      <td>10</td>\n",
       "      <td>0</td>\n",
       "    </tr>\n",
       "    <tr>\n",
       "      <th>288591</th>\n",
       "      <td>2019-10-03</td>\n",
       "      <td>OO</td>\n",
       "      <td>RDD</td>\n",
       "      <td>SFO</td>\n",
       "      <td>10</td>\n",
       "      <td>11</td>\n",
       "      <td>-16.0</td>\n",
       "      <td>68.0</td>\n",
       "      <td>199.0</td>\n",
       "      <td>10</td>\n",
       "      <td>3</td>\n",
       "      <td>Afternoon</td>\n",
       "      <td>Afternoon</td>\n",
       "      <td>2019-10-03</td>\n",
       "      <td>RDD</td>\n",
       "      <td>0.0</td>\n",
       "      <td>0.0</td>\n",
       "      <td>10</td>\n",
       "      <td>6</td>\n",
       "      <td>0</td>\n",
       "    </tr>\n",
       "  </tbody>\n",
       "</table>\n",
       "<p>288592 rows × 20 columns</p>\n",
       "</div>"
      ],
      "text/plain": [
       "           fl_date op_unique_carrier  ... windspeedKmph arr_delay2\n",
       "0       2019-06-18                OO  ...             8          1\n",
       "1       2019-07-02                YV  ...            18          1\n",
       "2       2019-10-11                ZW  ...             8          1\n",
       "3       2019-10-14                OH  ...             5          1\n",
       "4       2019-10-26                DL  ...            14          0\n",
       "...            ...               ...  ...           ...        ...\n",
       "288587  2019-04-25                OO  ...             7          0\n",
       "288588  2019-03-23                EV  ...            20          1\n",
       "288589  2019-01-21                NK  ...            30          1\n",
       "288590  2019-01-30                WN  ...            10          0\n",
       "288591  2019-10-03                OO  ...             6          0\n",
       "\n",
       "[288592 rows x 20 columns]"
      ]
     },
     "execution_count": 4,
     "metadata": {},
     "output_type": "execute_result"
    }
   ],
   "source": [
    "df_flights"
   ]
  },
  {
   "cell_type": "code",
   "execution_count": 5,
   "id": "together-equality",
   "metadata": {},
   "outputs": [],
   "source": [
    "one_hot = pd.get_dummies(df_flights[['crs_dep_bin','crs_arr_bin']])\n",
    "df_flights = pd.concat([df_flights,one_hot],axis=1)"
   ]
  },
  {
   "cell_type": "code",
   "execution_count": 7,
   "id": "third-candy",
   "metadata": {},
   "outputs": [],
   "source": [
    "df_flights = df_flights.drop(['op_unique_carrier','origin','dest','origin','dest','fl_date','date_time','location','crs_dep_bin','crs_arr_bin','arr_delay'],axis=1)"
   ]
  },
  {
   "cell_type": "code",
   "execution_count": 8,
   "id": "mounted-hobby",
   "metadata": {},
   "outputs": [],
   "source": [
    "X = df_flights.drop(['arr_delay2'],axis=1)\n",
    "y = df_flights['arr_delay2']"
   ]
  },
  {
   "cell_type": "code",
   "execution_count": 9,
   "id": "favorite-gossip",
   "metadata": {},
   "outputs": [],
   "source": [
    "scaler = StandardScaler()\n",
    "X_scale = scaler.fit_transform(X)\n",
    "X_scale = pd.DataFrame(X_scale,columns=X.columns)"
   ]
  },
  {
   "cell_type": "code",
   "execution_count": 10,
   "id": "unlikely-initial",
   "metadata": {},
   "outputs": [],
   "source": [
    "X_train, X_test, y_train, y_test = train_test_split(X_scale,y,test_size=0.3)"
   ]
  },
  {
   "cell_type": "markdown",
   "id": "light-literature",
   "metadata": {},
   "source": [
    "Try with 250 trees and 0.1 learning rate"
   ]
  },
  {
   "cell_type": "code",
   "execution_count": 11,
   "id": "bizarre-organ",
   "metadata": {},
   "outputs": [],
   "source": [
    "xg1 = xgb.XGBClassifier(objective='reg:logistic',colsample_bytree = 0.3, learning_rate = 0.1, max_depth=9,alpha=10,n_estimators=250)"
   ]
  },
  {
   "cell_type": "code",
   "execution_count": 12,
   "id": "authorized-introduction",
   "metadata": {},
   "outputs": [
    {
     "name": "stderr",
     "output_type": "stream",
     "text": [
      "C:\\Users\\Patrick\\anaconda3\\lib\\site-packages\\xgboost\\sklearn.py:888: UserWarning: The use of label encoder in XGBClassifier is deprecated and will be removed in a future release. To remove this warning, do the following: 1) Pass option use_label_encoder=False when constructing XGBClassifier object; and 2) Encode your labels (y) as integers starting with 0, i.e. 0, 1, 2, ..., [num_class - 1].\n",
      "  warnings.warn(label_encoder_deprecation_msg, UserWarning)\n"
     ]
    },
    {
     "data": {
      "text/plain": [
       "XGBClassifier(alpha=10, base_score=0.5, booster='gbtree', colsample_bylevel=1,\n",
       "              colsample_bynode=1, colsample_bytree=0.3, gamma=0, gpu_id=-1,\n",
       "              importance_type='gain', interaction_constraints='',\n",
       "              learning_rate=0.1, max_delta_step=0, max_depth=9,\n",
       "              min_child_weight=1, missing=nan, monotone_constraints='()',\n",
       "              n_estimators=250, n_jobs=4, num_parallel_tree=1,\n",
       "              objective='reg:logistic', random_state=0, reg_alpha=10,\n",
       "              reg_lambda=1, scale_pos_weight=1, subsample=1,\n",
       "              tree_method='exact', validate_parameters=1, verbosity=None)"
      ]
     },
     "execution_count": 12,
     "metadata": {},
     "output_type": "execute_result"
    }
   ],
   "source": [
    "xg1.fit(X_train,y_train)"
   ]
  },
  {
   "cell_type": "code",
   "execution_count": 13,
   "id": "smart-hearing",
   "metadata": {},
   "outputs": [],
   "source": [
    "xg1_pred = xg1.predict(X_test)"
   ]
  },
  {
   "cell_type": "code",
   "execution_count": 14,
   "id": "fantastic-closer",
   "metadata": {},
   "outputs": [],
   "source": [
    "cnf_matrix1 = confusion_matrix(y_test,xg1_pred)"
   ]
  },
  {
   "cell_type": "code",
   "execution_count": 15,
   "id": "streaming-reality",
   "metadata": {},
   "outputs": [
    {
     "data": {
      "image/png": "[encoded data removed]",
      "text/plain": [
       "<Figure size 432x288 with 2 Axes>"
      ]
     },
     "metadata": {
      "needs_background": "light"
     },
     "output_type": "display_data"
    }
   ],
   "source": [
    "class_names=[0,1] # name  of classes\n",
    "fig, ax = plt.subplots()\n",
    "tick_marks = np.arange(len(class_names))\n",
    "plt.xticks(tick_marks, class_names)\n",
    "plt.yticks(tick_marks, class_names)\n",
    "# create heatmap\n",
    "sns.heatmap(pd.DataFrame(cnf_matrix1), annot=True, cmap=\"YlGnBu\" ,fmt='g')\n",
    "ax.xaxis.set_label_position(\"top\")\n",
    "plt.tight_layout()\n",
    "plt.title('Confusion matrix', y=1.1)\n",
    "plt.ylabel('Actual label')\n",
    "plt.xlabel('Predicted label')\n",
    "plt.show()"
   ]
  },
  {
   "cell_type": "code",
   "execution_count": 16,
   "id": "changed-insight",
   "metadata": {},
   "outputs": [
    {
     "name": "stdout",
     "output_type": "stream",
     "text": [
      "Accuracy: 0.6811199149899513\n",
      "Precision: 0.6364068134548501\n",
      "Recall: 0.5521300799617863\n",
      "F1: 0.5260386900681078\n"
     ]
    }
   ],
   "source": [
    "print(\"Accuracy:\",metrics.accuracy_score(y_test, xg1_pred))\n",
    "print(\"Precision:\",metrics.precision_score(y_test, xg1_pred,average='macro'))\n",
    "print(\"Recall:\",metrics.recall_score(y_test, xg1_pred,average='macro'))\n",
    "print(\"F1:\",metrics.f1_score(y_test, xg1_pred,average='macro'))"
   ]
  },
  {
   "cell_type": "markdown",
   "id": "naked-label",
   "metadata": {},
   "source": [
    "### Try with 500 Trees"
   ]
  },
  {
   "cell_type": "code",
   "execution_count": 17,
   "id": "hydraulic-booking",
   "metadata": {},
   "outputs": [
    {
     "name": "stderr",
     "output_type": "stream",
     "text": [
      "C:\\Users\\Patrick\\anaconda3\\lib\\site-packages\\xgboost\\sklearn.py:888: UserWarning: The use of label encoder in XGBClassifier is deprecated and will be removed in a future release. To remove this warning, do the following: 1) Pass option use_label_encoder=False when constructing XGBClassifier object; and 2) Encode your labels (y) as integers starting with 0, i.e. 0, 1, 2, ..., [num_class - 1].\n",
      "  warnings.warn(label_encoder_deprecation_msg, UserWarning)\n"
     ]
    },
    {
     "data": {
      "text/plain": [
       "XGBClassifier(alpha=10, base_score=0.5, booster='gbtree', colsample_bylevel=1,\n",
       "              colsample_bynode=1, colsample_bytree=0.3, gamma=0, gpu_id=-1,\n",
       "              importance_type='gain', interaction_constraints='',\n",
       "              learning_rate=0.1, max_delta_step=0, max_depth=9,\n",
       "              min_child_weight=1, missing=nan, monotone_constraints='()',\n",
       "              n_estimators=500, n_jobs=4, num_parallel_tree=1,\n",
       "              objective='reg:logistic', random_state=0, reg_alpha=10,\n",
       "              reg_lambda=1, scale_pos_weight=1, subsample=1,\n",
       "              tree_method='exact', validate_parameters=1, verbosity=None)"
      ]
     },
     "execution_count": 17,
     "metadata": {},
     "output_type": "execute_result"
    }
   ],
   "source": [
    "xg2 = xgb.XGBClassifier(objective='reg:logistic',colsample_bytree = 0.3, learning_rate = 0.1, max_depth=9,alpha=10,n_estimators=500)\n",
    "xg2.fit(X_train,y_train)"
   ]
  },
  {
   "cell_type": "code",
   "execution_count": 18,
   "id": "excess-premium",
   "metadata": {},
   "outputs": [],
   "source": [
    "xg2_pred = xg2.predict(X_test)"
   ]
  },
  {
   "cell_type": "code",
   "execution_count": 19,
   "id": "quarterly-armenia",
   "metadata": {},
   "outputs": [],
   "source": [
    "cnf_matrix2 = confusion_matrix(y_test,xg2_pred)"
   ]
  },
  {
   "cell_type": "code",
   "execution_count": 20,
   "id": "alike-escape",
   "metadata": {},
   "outputs": [
    {
     "data": {
      "image/png": "[encoded data removed]",
      "text/plain": [
       "<Figure size 432x288 with 2 Axes>"
      ]
     },
     "metadata": {
      "needs_background": "light"
     },
     "output_type": "display_data"
    }
   ],
   "source": [
    "class_names=[0,1] # name  of classes\n",
    "fig, ax = plt.subplots()\n",
    "tick_marks = np.arange(len(class_names))\n",
    "plt.xticks(tick_marks, class_names)\n",
    "plt.yticks(tick_marks, class_names)\n",
    "# create heatmap\n",
    "sns.heatmap(pd.DataFrame(cnf_matrix2), annot=True, cmap=\"YlGnBu\" ,fmt='g')\n",
    "ax.xaxis.set_label_position(\"top\")\n",
    "plt.tight_layout()\n",
    "plt.title('Confusion matrix', y=1.1)\n",
    "plt.ylabel('Actual label')\n",
    "plt.xlabel('Predicted label')\n",
    "plt.show()"
   ]
  },
  {
   "cell_type": "code",
   "execution_count": 21,
   "id": "entitled-grace",
   "metadata": {},
   "outputs": [
    {
     "name": "stdout",
     "output_type": "stream",
     "text": [
      "Accuracy: 0.6817205294647601\n",
      "Precision: 0.6352362394671958\n",
      "Recall: 0.5564382696746452\n",
      "F1: 0.5345806102775245\n"
     ]
    }
   ],
   "source": [
    "print(\"Accuracy:\",metrics.accuracy_score(y_test, xg2_pred))\n",
    "print(\"Precision:\",metrics.precision_score(y_test, xg2_pred,average='macro'))\n",
    "print(\"Recall:\",metrics.recall_score(y_test, xg2_pred,average='macro'))\n",
    "print(\"F1:\",metrics.f1_score(y_test, xg2_pred,average='macro'))"
   ]
  },
  {
   "cell_type": "code",
   "execution_count": null,
   "id": "chronic-maine",
   "metadata": {},
   "outputs": [],
   "source": []
  },
  {
   "cell_type": "markdown",
   "id": "executive-theta",
   "metadata": {},
   "source": [
    "1000 trees and higher learning rate"
   ]
  },
  {
   "cell_type": "code",
   "execution_count": 22,
   "id": "indoor-stack",
   "metadata": {},
   "outputs": [
    {
     "name": "stderr",
     "output_type": "stream",
     "text": [
      "C:\\Users\\Patrick\\anaconda3\\lib\\site-packages\\xgboost\\sklearn.py:888: UserWarning: The use of label encoder in XGBClassifier is deprecated and will be removed in a future release. To remove this warning, do the following: 1) Pass option use_label_encoder=False when constructing XGBClassifier object; and 2) Encode your labels (y) as integers starting with 0, i.e. 0, 1, 2, ..., [num_class - 1].\n",
      "  warnings.warn(label_encoder_deprecation_msg, UserWarning)\n"
     ]
    },
    {
     "data": {
      "text/plain": [
       "XGBClassifier(alpha=10, base_score=0.5, booster='gbtree', colsample_bylevel=1,\n",
       "              colsample_bynode=1, colsample_bytree=0.3, gamma=0, gpu_id=-1,\n",
       "              importance_type='gain', interaction_constraints='',\n",
       "              learning_rate=0.3, max_delta_step=0, max_depth=9,\n",
       "              min_child_weight=1, missing=nan, monotone_constraints='()',\n",
       "              n_estimators=1000, n_jobs=4, num_parallel_tree=1,\n",
       "              objective='reg:logistic', random_state=0, reg_alpha=10,\n",
       "              reg_lambda=1, scale_pos_weight=1, subsample=1,\n",
       "              tree_method='exact', validate_parameters=1, verbosity=None)"
      ]
     },
     "execution_count": 22,
     "metadata": {},
     "output_type": "execute_result"
    }
   ],
   "source": [
    "xg3 = xgb.XGBClassifier(objective='reg:logistic',colsample_bytree = 0.3, learning_rate = 0.3, max_depth=9,alpha=10,n_estimators=1000)\n",
    "xg3.fit(X_train,y_train)"
   ]
  },
  {
   "cell_type": "code",
   "execution_count": 23,
   "id": "employed-waterproof",
   "metadata": {},
   "outputs": [],
   "source": [
    "xg3_pred = xg3.predict(X_test)"
   ]
  },
  {
   "cell_type": "code",
   "execution_count": 24,
   "id": "dense-radiation",
   "metadata": {},
   "outputs": [
    {
     "data": {
      "image/png": "[encoded data removed]",
      "text/plain": [
       "<Figure size 432x288 with 2 Axes>"
      ]
     },
     "metadata": {
      "needs_background": "light"
     },
     "output_type": "display_data"
    }
   ],
   "source": [
    "cnf_matrix3 = confusion_matrix(y_test,xg3_pred)\n",
    "class_names=[0,1] # name  of classes\n",
    "fig, ax = plt.subplots()\n",
    "tick_marks = np.arange(len(class_names))\n",
    "plt.xticks(tick_marks, class_names)\n",
    "plt.yticks(tick_marks, class_names)\n",
    "# create heatmap\n",
    "sns.heatmap(pd.DataFrame(cnf_matrix3), annot=True, cmap=\"YlGnBu\" ,fmt='g')\n",
    "ax.xaxis.set_label_position(\"top\")\n",
    "plt.tight_layout()\n",
    "plt.rcParams['figure.figsize'] = [5,5]\n",
    "plt.title('Confusion matrix', y=1.1)\n",
    "plt.ylabel('Actual label')\n",
    "plt.xlabel('Predicted label')\n",
    "plt.show()"
   ]
  },
  {
   "cell_type": "code",
   "execution_count": 25,
   "id": "announced-failing",
   "metadata": {},
   "outputs": [
    {
     "name": "stdout",
     "output_type": "stream",
     "text": [
      "Accuracy: 0.6741319965811176\n",
      "Precision: 0.6139597361378293\n",
      "Recall: 0.5672534309322252\n",
      "F1: 0.5593521675019155\n"
     ]
    }
   ],
   "source": [
    "print(\"Accuracy:\",metrics.accuracy_score(y_test, xg3_pred))\n",
    "print(\"Precision:\",metrics.precision_score(y_test, xg3_pred,average='macro'))\n",
    "print(\"Recall:\",metrics.recall_score(y_test, xg3_pred,average='macro'))\n",
    "print(\"F1:\",metrics.f1_score(y_test, xg3_pred,average='macro'))"
   ]
  },
  {
   "cell_type": "code",
   "execution_count": 26,
   "id": "primary-scope",
   "metadata": {},
   "outputs": [
    {
     "data": {
      "image/png": "[encoded data removed]",
      "text/plain": [
       "<Figure size 360x360 with 1 Axes>"
      ]
     },
     "metadata": {
      "needs_background": "light"
     },
     "output_type": "display_data"
    }
   ],
   "source": [
    "# Plot XGB Feature Importance\n",
    "# .set_yticklabels(cols)\n",
    "fig = xgb.plot_importance(xg3)\n",
    "#fig.set_yticklabels(cols)\n",
    "plt.rcParams['figure.figsize'] = [10 ,10]\n",
    "plt.show()"
   ]
  },
  {
   "cell_type": "markdown",
   "id": "significant-interstate",
   "metadata": {},
   "source": []
  },
  {
   "cell_type": "markdown",
   "id": "indirect-joint",
   "metadata": {},
   "source": [
    "### Try with label encoder instead of one hot encoding"
   ]
  },
  {
   "cell_type": "code",
   "execution_count": 34,
   "id": "threaded-january",
   "metadata": {},
   "outputs": [],
   "source": [
    "#reload data set\n",
    "df_flights = pd.read_csv('cleaned_flights_300000sample1.csv')"
   ]
  },
  {
   "cell_type": "code",
   "execution_count": 35,
   "id": "chubby-somalia",
   "metadata": {},
   "outputs": [],
   "source": [
    "df_flights['arr_delay2'] = np.where(df_flights['arr_delay'] > 0, 1,\n",
    "                    np.where(df_flights['arr_delay'] <= 0, 0,0))"
   ]
  },
  {
   "cell_type": "code",
   "execution_count": 37,
   "id": "heavy-warren",
   "metadata": {},
   "outputs": [],
   "source": [
    "le = LabelEncoder()"
   ]
  },
  {
   "cell_type": "code",
   "execution_count": 40,
   "id": "neutral-retirement",
   "metadata": {},
   "outputs": [],
   "source": [
    "df_flights['crs_dep_bin'] = le.fit_transform(df_flights['crs_dep_bin'])\n",
    "df_flights['crs_arr_bin'] = le.fit_transform(df_flights['crs_arr_bin'])"
   ]
  },
  {
   "cell_type": "code",
   "execution_count": 44,
   "id": "excess-great",
   "metadata": {},
   "outputs": [],
   "source": [
    "df_flights = df_flights.drop(['op_unique_carrier','origin','dest','origin','dest','fl_date','date_time','location','arr_delay'],axis=1)"
   ]
  },
  {
   "cell_type": "code",
   "execution_count": 45,
   "id": "little-occupation",
   "metadata": {},
   "outputs": [],
   "source": [
    "X = df_flights.drop(['arr_delay2'],axis=1)\n",
    "y = df_flights['arr_delay2']"
   ]
  },
  {
   "cell_type": "code",
   "execution_count": 46,
   "id": "exceptional-bride",
   "metadata": {},
   "outputs": [],
   "source": [
    "scaler = StandardScaler()\n",
    "X_scale = scaler.fit_transform(X)\n",
    "X_scale = pd.DataFrame(X_scale,columns=X.columns)"
   ]
  },
  {
   "cell_type": "code",
   "execution_count": 47,
   "id": "conventional-temple",
   "metadata": {},
   "outputs": [],
   "source": [
    "X_train, X_test, y_train, y_test = train_test_split(X_scale,y,test_size=0.3)"
   ]
  },
  {
   "cell_type": "code",
   "execution_count": 48,
   "id": "embedded-fashion",
   "metadata": {},
   "outputs": [],
   "source": [
    "xg4 = xgb.XGBClassifier(objective='reg:logistic',colsample_bytree = 0.3, learning_rate = 0.3, max_depth=9,alpha=10,n_estimators=500)"
   ]
  },
  {
   "cell_type": "code",
   "execution_count": 49,
   "id": "formal-handbook",
   "metadata": {},
   "outputs": [
    {
     "name": "stderr",
     "output_type": "stream",
     "text": [
      "C:\\Users\\Patrick\\anaconda3\\lib\\site-packages\\xgboost\\sklearn.py:888: UserWarning: The use of label encoder in XGBClassifier is deprecated and will be removed in a future release. To remove this warning, do the following: 1) Pass option use_label_encoder=False when constructing XGBClassifier object; and 2) Encode your labels (y) as integers starting with 0, i.e. 0, 1, 2, ..., [num_class - 1].\n",
      "  warnings.warn(label_encoder_deprecation_msg, UserWarning)\n"
     ]
    },
    {
     "data": {
      "text/plain": [
       "XGBClassifier(alpha=10, base_score=0.5, booster='gbtree', colsample_bylevel=1,\n",
       "              colsample_bynode=1, colsample_bytree=0.3, gamma=0, gpu_id=-1,\n",
       "              importance_type='gain', interaction_constraints='',\n",
       "              learning_rate=0.3, max_delta_step=0, max_depth=9,\n",
       "              min_child_weight=1, missing=nan, monotone_constraints='()',\n",
       "              n_estimators=500, n_jobs=4, num_parallel_tree=1,\n",
       "              objective='reg:logistic', random_state=0, reg_alpha=10,\n",
       "              reg_lambda=1, scale_pos_weight=1, subsample=1,\n",
       "              tree_method='exact', validate_parameters=1, verbosity=None)"
      ]
     },
     "execution_count": 49,
     "metadata": {},
     "output_type": "execute_result"
    }
   ],
   "source": [
    "xg4.fit(X_train,y_train)"
   ]
  },
  {
   "cell_type": "code",
   "execution_count": 51,
   "id": "comprehensive-distributor",
   "metadata": {},
   "outputs": [],
   "source": [
    "xg4_pred = xg4.predict(X_test)"
   ]
  },
  {
   "cell_type": "code",
   "execution_count": 52,
   "id": "massive-momentum",
   "metadata": {},
   "outputs": [],
   "source": [
    "cnf_matrix4 = confusion_matrix(y_test,xg4_pred)"
   ]
  },
  {
   "cell_type": "code",
   "execution_count": 53,
   "id": "electoral-infection",
   "metadata": {},
   "outputs": [
    {
     "data": {
      "image/png": "[encoded data removed]",
      "text/plain": [
       "<Figure size 432x288 with 2 Axes>"
      ]
     },
     "metadata": {
      "needs_background": "light"
     },
     "output_type": "display_data"
    }
   ],
   "source": [
    "class_names=[0,1] # name  of classes\n",
    "fig, ax = plt.subplots()\n",
    "tick_marks = np.arange(len(class_names))\n",
    "plt.xticks(tick_marks, class_names)\n",
    "plt.yticks(tick_marks, class_names)\n",
    "# create heatmap\n",
    "sns.heatmap(pd.DataFrame(cnf_matrix4), annot=True, cmap=\"YlGnBu\" ,fmt='g')\n",
    "ax.xaxis.set_label_position(\"top\")\n",
    "plt.tight_layout()\n",
    "plt.title('Confusion matrix', y=1.1)\n",
    "plt.ylabel('Actual label')\n",
    "plt.xlabel('Predicted label')\n",
    "plt.show()"
   ]
  },
  {
   "cell_type": "code",
   "execution_count": 54,
   "id": "gentle-panic",
   "metadata": {},
   "outputs": [
    {
     "name": "stdout",
     "output_type": "stream",
     "text": [
      "Accuracy: 0.6704092184960851\n",
      "Precision: 0.6239151180478065\n",
      "Recall: 0.5684584835616993\n",
      "F1: 0.5565307276146938\n"
     ]
    }
   ],
   "source": [
    "print(\"Accuracy:\",metrics.accuracy_score(y_test, xg4_pred))\n",
    "print(\"Precision:\",metrics.precision_score(y_test, xg4_pred,average='macro'))\n",
    "print(\"Recall:\",metrics.recall_score(y_test, xg5_pred,average='macro'))\n",
    "print(\"F1:\",metrics.f1_score(y_test, xg4_pred,average='macro'))"
   ]
  },
  {
   "cell_type": "code",
   "execution_count": 56,
   "id": "motivated-belle",
   "metadata": {},
   "outputs": [
    {
     "data": {
      "image/png": "[encoded data removed]",
      "text/plain": [
       "<Figure size 720x720 with 1 Axes>"
      ]
     },
     "metadata": {
      "needs_background": "light"
     },
     "output_type": "display_data"
    }
   ],
   "source": [
    "# Plot XGB Feature Importance\n",
    "# .set_yticklabels(cols)\n",
    "fig = xgb.plot_importance(xg4)\n",
    "#fig.set_yticklabels(cols)\n",
    "plt.rcParams['figure.figsize'] = [8,8]\n",
    "plt.show()\n",
    "\n"
   ]
  },
  {
   "cell_type": "markdown",
   "id": "julian-stroke",
   "metadata": {},
   "source": [
    "### Testing with new dataset, 1000 trees 0.3 learning rate"
   ]
  },
  {
   "cell_type": "code",
   "execution_count": 39,
   "id": "medical-squad",
   "metadata": {},
   "outputs": [],
   "source": [
    "df_flights2 = pd.read_csv('cleaned_flights_sample2.csv')"
   ]
  },
  {
   "cell_type": "code",
   "execution_count": 40,
   "id": "incorporated-accused",
   "metadata": {},
   "outputs": [],
   "source": [
    "df_flights2['arr_delay2'] = np.where(df_flights2['arr_delay'] > 0, 1,\n",
    "                    np.where(df_flights2['arr_delay'] <= 0, 0,0))"
   ]
  },
  {
   "cell_type": "code",
   "execution_count": 47,
   "id": "medium-inflation",
   "metadata": {},
   "outputs": [],
   "source": [
    "df_flights2 = df_flights2.drop(['arr_delay'],axis=1)"
   ]
  },
  {
   "cell_type": "code",
   "execution_count": 41,
   "id": "female-notion",
   "metadata": {},
   "outputs": [],
   "source": [
    "# Trying with no bins as they dont seem to have much importance from above.\n",
    "df_flights2 = df_flights2.drop(['fl_date','op_unique_carrier','origin','dest','crs_dep_bin','crs_arr_bin','departures_performed','payload','seats','passengers','freight','mail','ramp_to_ramp'],axis=1)"
   ]
  },
  {
   "cell_type": "code",
   "execution_count": 42,
   "id": "indian-format",
   "metadata": {},
   "outputs": [],
   "source": [
    "months = ['Jan','Feb','Mar','Apr','May','June','July','Aug','Sep','Oct','Nov','Dec']\n",
    "days = ['Mon','Tue','Wed','Thu','Fri','Sat','Sun']"
   ]
  },
  {
   "cell_type": "code",
   "execution_count": 43,
   "id": "wireless-numbers",
   "metadata": {},
   "outputs": [],
   "source": [
    "# One hot encode months and weekday\n",
    "one_month = pd.get_dummies(df_flights2['month'],columns=months)\n",
    "one_month.columns=[months]\n",
    "one_days = pd.get_dummies(df_flights2['weekday'],columns=months)\n",
    "one_days.columns=[days]"
   ]
  },
  {
   "cell_type": "code",
   "execution_count": 44,
   "id": "australian-syria",
   "metadata": {},
   "outputs": [],
   "source": [
    "df_flights2 = pd.concat([df_flights2,one_month,one_days],axis=1)"
   ]
  },
  {
   "cell_type": "code",
   "execution_count": 45,
   "id": "asian-birthday",
   "metadata": {},
   "outputs": [],
   "source": [
    "# Drop original date columns\n",
    "df_flights2 = df_flights2.drop(['month','weekday'],axis=1)"
   ]
  },
  {
   "cell_type": "code",
   "execution_count": 48,
   "id": "growing-recorder",
   "metadata": {},
   "outputs": [
    {
     "data": {
      "text/html": [
       "<div>\n",
       "<style scoped>\n",
       "    .dataframe tbody tr th:only-of-type {\n",
       "        vertical-align: middle;\n",
       "    }\n",
       "\n",
       "    .dataframe tbody tr th {\n",
       "        vertical-align: top;\n",
       "    }\n",
       "\n",
       "    .dataframe thead th {\n",
       "        text-align: right;\n",
       "    }\n",
       "</style>\n",
       "<table border=\"1\" class=\"dataframe\">\n",
       "  <thead>\n",
       "    <tr style=\"text-align: right;\">\n",
       "      <th></th>\n",
       "      <th>crs_dep_time</th>\n",
       "      <th>crs_arr_time</th>\n",
       "      <th>crs_elapsed_time</th>\n",
       "      <th>distance</th>\n",
       "      <th>totalSnow_cm</th>\n",
       "      <th>precipMM</th>\n",
       "      <th>visibility</th>\n",
       "      <th>windspeedKmph</th>\n",
       "      <th>avg_passengers</th>\n",
       "      <th>avg_percent_capacity</th>\n",
       "      <th>arr_delay2</th>\n",
       "      <th>(Jan,)</th>\n",
       "      <th>(Feb,)</th>\n",
       "      <th>(Mar,)</th>\n",
       "      <th>(Apr,)</th>\n",
       "      <th>(May,)</th>\n",
       "      <th>(June,)</th>\n",
       "      <th>(July,)</th>\n",
       "      <th>(Aug,)</th>\n",
       "      <th>(Sep,)</th>\n",
       "      <th>(Oct,)</th>\n",
       "      <th>(Nov,)</th>\n",
       "      <th>(Dec,)</th>\n",
       "      <th>(Mon,)</th>\n",
       "      <th>(Tue,)</th>\n",
       "      <th>(Wed,)</th>\n",
       "      <th>(Thu,)</th>\n",
       "      <th>(Fri,)</th>\n",
       "      <th>(Sat,)</th>\n",
       "      <th>(Sun,)</th>\n",
       "    </tr>\n",
       "  </thead>\n",
       "  <tbody>\n",
       "    <tr>\n",
       "      <th>0</th>\n",
       "      <td>20</td>\n",
       "      <td>21</td>\n",
       "      <td>72.0</td>\n",
       "      <td>243.0</td>\n",
       "      <td>0.0</td>\n",
       "      <td>0.4</td>\n",
       "      <td>10</td>\n",
       "      <td>8</td>\n",
       "      <td>39.0</td>\n",
       "      <td>0.77</td>\n",
       "      <td>1</td>\n",
       "      <td>0</td>\n",
       "      <td>0</td>\n",
       "      <td>0</td>\n",
       "      <td>0</td>\n",
       "      <td>0</td>\n",
       "      <td>1</td>\n",
       "      <td>0</td>\n",
       "      <td>0</td>\n",
       "      <td>0</td>\n",
       "      <td>0</td>\n",
       "      <td>0</td>\n",
       "      <td>0</td>\n",
       "      <td>0</td>\n",
       "      <td>1</td>\n",
       "      <td>0</td>\n",
       "      <td>0</td>\n",
       "      <td>0</td>\n",
       "      <td>0</td>\n",
       "      <td>0</td>\n",
       "    </tr>\n",
       "    <tr>\n",
       "      <th>1</th>\n",
       "      <td>8</td>\n",
       "      <td>9</td>\n",
       "      <td>71.0</td>\n",
       "      <td>282.0</td>\n",
       "      <td>0.0</td>\n",
       "      <td>6.5</td>\n",
       "      <td>9</td>\n",
       "      <td>18</td>\n",
       "      <td>55.0</td>\n",
       "      <td>0.71</td>\n",
       "      <td>1</td>\n",
       "      <td>0</td>\n",
       "      <td>0</td>\n",
       "      <td>0</td>\n",
       "      <td>0</td>\n",
       "      <td>0</td>\n",
       "      <td>0</td>\n",
       "      <td>1</td>\n",
       "      <td>0</td>\n",
       "      <td>0</td>\n",
       "      <td>0</td>\n",
       "      <td>0</td>\n",
       "      <td>0</td>\n",
       "      <td>0</td>\n",
       "      <td>1</td>\n",
       "      <td>0</td>\n",
       "      <td>0</td>\n",
       "      <td>0</td>\n",
       "      <td>0</td>\n",
       "      <td>0</td>\n",
       "    </tr>\n",
       "    <tr>\n",
       "      <th>2</th>\n",
       "      <td>7</td>\n",
       "      <td>9</td>\n",
       "      <td>154.0</td>\n",
       "      <td>773.0</td>\n",
       "      <td>0.0</td>\n",
       "      <td>0.1</td>\n",
       "      <td>10</td>\n",
       "      <td>8</td>\n",
       "      <td>41.0</td>\n",
       "      <td>0.81</td>\n",
       "      <td>1</td>\n",
       "      <td>0</td>\n",
       "      <td>0</td>\n",
       "      <td>0</td>\n",
       "      <td>0</td>\n",
       "      <td>0</td>\n",
       "      <td>0</td>\n",
       "      <td>0</td>\n",
       "      <td>0</td>\n",
       "      <td>0</td>\n",
       "      <td>1</td>\n",
       "      <td>0</td>\n",
       "      <td>0</td>\n",
       "      <td>0</td>\n",
       "      <td>0</td>\n",
       "      <td>0</td>\n",
       "      <td>0</td>\n",
       "      <td>1</td>\n",
       "      <td>0</td>\n",
       "      <td>0</td>\n",
       "    </tr>\n",
       "    <tr>\n",
       "      <th>3</th>\n",
       "      <td>22</td>\n",
       "      <td>0</td>\n",
       "      <td>156.0</td>\n",
       "      <td>815.0</td>\n",
       "      <td>0.0</td>\n",
       "      <td>0.7</td>\n",
       "      <td>8</td>\n",
       "      <td>5</td>\n",
       "      <td>53.0</td>\n",
       "      <td>0.77</td>\n",
       "      <td>1</td>\n",
       "      <td>0</td>\n",
       "      <td>0</td>\n",
       "      <td>0</td>\n",
       "      <td>0</td>\n",
       "      <td>0</td>\n",
       "      <td>0</td>\n",
       "      <td>0</td>\n",
       "      <td>0</td>\n",
       "      <td>0</td>\n",
       "      <td>1</td>\n",
       "      <td>0</td>\n",
       "      <td>0</td>\n",
       "      <td>1</td>\n",
       "      <td>0</td>\n",
       "      <td>0</td>\n",
       "      <td>0</td>\n",
       "      <td>0</td>\n",
       "      <td>0</td>\n",
       "      <td>0</td>\n",
       "    </tr>\n",
       "    <tr>\n",
       "      <th>4</th>\n",
       "      <td>6</td>\n",
       "      <td>10</td>\n",
       "      <td>318.0</td>\n",
       "      <td>1990.0</td>\n",
       "      <td>0.0</td>\n",
       "      <td>0.1</td>\n",
       "      <td>10</td>\n",
       "      <td>14</td>\n",
       "      <td>160.0</td>\n",
       "      <td>0.89</td>\n",
       "      <td>0</td>\n",
       "      <td>0</td>\n",
       "      <td>0</td>\n",
       "      <td>0</td>\n",
       "      <td>0</td>\n",
       "      <td>0</td>\n",
       "      <td>0</td>\n",
       "      <td>0</td>\n",
       "      <td>0</td>\n",
       "      <td>0</td>\n",
       "      <td>1</td>\n",
       "      <td>0</td>\n",
       "      <td>0</td>\n",
       "      <td>0</td>\n",
       "      <td>0</td>\n",
       "      <td>0</td>\n",
       "      <td>0</td>\n",
       "      <td>0</td>\n",
       "      <td>1</td>\n",
       "      <td>0</td>\n",
       "    </tr>\n",
       "  </tbody>\n",
       "</table>\n",
       "</div>"
      ],
      "text/plain": [
       "   crs_dep_time  crs_arr_time  crs_elapsed_time  ...  (Fri,)  (Sat,)  (Sun,)\n",
       "0            20            21              72.0  ...       0       0       0\n",
       "1             8             9              71.0  ...       0       0       0\n",
       "2             7             9             154.0  ...       1       0       0\n",
       "3            22             0             156.0  ...       0       0       0\n",
       "4             6            10             318.0  ...       0       1       0\n",
       "\n",
       "[5 rows x 30 columns]"
      ]
     },
     "execution_count": 48,
     "metadata": {},
     "output_type": "execute_result"
    }
   ],
   "source": [
    "df_flights2.head()"
   ]
  },
  {
   "cell_type": "code",
   "execution_count": 49,
   "id": "spiritual-circular",
   "metadata": {},
   "outputs": [],
   "source": [
    "X2 = df_flights2.drop(['arr_delay2'],axis=1)\n",
    "y2 = df_flights2['arr_delay2']"
   ]
  },
  {
   "cell_type": "code",
   "execution_count": 50,
   "id": "psychological-falls",
   "metadata": {},
   "outputs": [],
   "source": [
    "scaler = StandardScaler()\n",
    "X_scale2 = scaler.fit_transform(X2)\n",
    "X_scale2 = pd.DataFrame(X_scale2,columns=X2.columns)"
   ]
  },
  {
   "cell_type": "code",
   "execution_count": 51,
   "id": "female-mounting",
   "metadata": {},
   "outputs": [],
   "source": [
    "X_train2, X_test2, y_train2, y_test2 = train_test_split(X_scale2,y2,test_size=0.3)"
   ]
  },
  {
   "cell_type": "code",
   "execution_count": 52,
   "id": "chinese-plymouth",
   "metadata": {},
   "outputs": [],
   "source": [
    "xg5 = xgb.XGBClassifier(objective='reg:logistic',colsample_bytree = 0.3, learning_rate = 0.3, max_depth=9,alpha=10,n_estimators=1000)"
   ]
  },
  {
   "cell_type": "code",
   "execution_count": 53,
   "id": "injured-command",
   "metadata": {},
   "outputs": [
    {
     "name": "stderr",
     "output_type": "stream",
     "text": [
      "C:\\Users\\Patrick\\anaconda3\\lib\\site-packages\\xgboost\\sklearn.py:888: UserWarning: The use of label encoder in XGBClassifier is deprecated and will be removed in a future release. To remove this warning, do the following: 1) Pass option use_label_encoder=False when constructing XGBClassifier object; and 2) Encode your labels (y) as integers starting with 0, i.e. 0, 1, 2, ..., [num_class - 1].\n",
      "  warnings.warn(label_encoder_deprecation_msg, UserWarning)\n"
     ]
    },
    {
     "data": {
      "text/plain": [
       "XGBClassifier(alpha=10, base_score=0.5, booster='gbtree', colsample_bylevel=1,\n",
       "              colsample_bynode=1, colsample_bytree=0.3, gamma=0, gpu_id=-1,\n",
       "              importance_type='gain', interaction_constraints='',\n",
       "              learning_rate=0.3, max_delta_step=0, max_depth=9,\n",
       "              min_child_weight=1, missing=nan, monotone_constraints='()',\n",
       "              n_estimators=1000, n_jobs=4, num_parallel_tree=1,\n",
       "              objective='reg:logistic', random_state=0, reg_alpha=10,\n",
       "              reg_lambda=1, scale_pos_weight=1, subsample=1,\n",
       "              tree_method='exact', validate_parameters=1, verbosity=None)"
      ]
     },
     "execution_count": 53,
     "metadata": {},
     "output_type": "execute_result"
    }
   ],
   "source": [
    "xg5.fit(X_train2,y_train2)"
   ]
  },
  {
   "cell_type": "code",
   "execution_count": 54,
   "id": "amateur-excellence",
   "metadata": {},
   "outputs": [],
   "source": [
    "xg5_pred = xg5.predict(X_test2)"
   ]
  },
  {
   "cell_type": "code",
   "execution_count": 55,
   "id": "hearing-breath",
   "metadata": {},
   "outputs": [],
   "source": [
    "cnf_matrix5 = confusion_matrix(y_test2,xg5_pred)"
   ]
  },
  {
   "cell_type": "code",
   "execution_count": 61,
   "id": "adjusted-musician",
   "metadata": {},
   "outputs": [
    {
     "data": {
      "image/png": "[encoded data removed]",
      "text/plain": [
       "<Figure size 576x576 with 2 Axes>"
      ]
     },
     "metadata": {
      "needs_background": "light"
     },
     "output_type": "display_data"
    }
   ],
   "source": [
    "class_names=[0,1] # name  of classes\n",
    "fig, ax = plt.subplots()\n",
    "tick_marks = np.arange(len(class_names))\n",
    "plt.xticks(tick_marks, class_names)\n",
    "plt.yticks(tick_marks, class_names)\n",
    "# create heatmap\n",
    "sns.heatmap(pd.DataFrame(cnf_matrix5), annot=True, cmap=\"YlGnBu\" ,fmt='g')\n",
    "ax.xaxis.set_label_position(\"top\")\n",
    "plt.tight_layout()\n",
    "plt.title('Confusion matrix', y=1.1)\n",
    "plt.ylabel('Actual label')\n",
    "plt.xlabel('Predicted label')\n",
    "plt.show()"
   ]
  },
  {
   "cell_type": "code",
   "execution_count": 57,
   "id": "historic-amino",
   "metadata": {},
   "outputs": [
    {
     "name": "stdout",
     "output_type": "stream",
     "text": [
      "Accuracy: 0.6703054246372794\n",
      "Precision: 0.6078915011972861\n",
      "Recall: 0.5707116803248685\n",
      "F1: 0.5665557214065059\n"
     ]
    }
   ],
   "source": [
    "print(\"Accuracy:\",metrics.accuracy_score(y_test2, xg5_pred))\n",
    "print(\"Precision:\",metrics.precision_score(y_test2, xg5_pred,average='macro'))\n",
    "print(\"Recall:\",metrics.recall_score(y_test2, xg5_pred,average='macro'))\n",
    "print(\"F1:\",metrics.f1_score(y_test2, xg5_pred,average='macro'))"
   ]
  },
  {
   "cell_type": "code",
   "execution_count": 60,
   "id": "cheap-walnut",
   "metadata": {},
   "outputs": [
    {
     "data": {
      "image/png": "[encoded data removed]",
      "text/plain": [
       "<Figure size 1080x1080 with 1 Axes>"
      ]
     },
     "metadata": {
      "needs_background": "light"
     },
     "output_type": "display_data"
    }
   ],
   "source": [
    "# Plot XGB Feature Importance\n",
    "# .set_yticklabels(cols)\n",
    "fig = xgb.plot_importance(xg5)\n",
    "#fig.set_yticklabels(cols)\n",
    "plt.rcParams['figure.figsize'] = [8 ,8]\n",
    "plt.show()"
   ]
  },
  {
   "cell_type": "markdown",
   "id": "later-civilian",
   "metadata": {},
   "source": [
    "### Testing with new dataset, remove bins."
   ]
  },
  {
   "cell_type": "code",
   "execution_count": null,
   "id": "another-oxide",
   "metadata": {},
   "outputs": [],
   "source": []
  },
  {
   "cell_type": "code",
   "execution_count": null,
   "id": "important-damages",
   "metadata": {},
   "outputs": [],
   "source": []
  },
  {
   "cell_type": "code",
   "execution_count": null,
   "id": "breeding-manchester",
   "metadata": {},
   "outputs": [],
   "source": []
  }
 ],
 "metadata": {
  "kernelspec": {
   "display_name": "Python 3",
   "language": "python",
   "name": "python3"
  },
  "language_info": {
   "codemirror_mode": {
    "name": "ipython",
    "version": 3
   },
   "file_extension": ".py",
   "mimetype": "text/x-python",
   "name": "python",
   "nbconvert_exporter": "python",
   "pygments_lexer": "ipython3",
   "version": "3.8.5"
  }
 },
 "nbformat": 4,
 "nbformat_minor": 5
}
