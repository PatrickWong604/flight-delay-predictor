{
 "cells": [
  {
   "cell_type": "code",
   "execution_count": 1,
   "id": "toxic-entrance",
   "metadata": {},
   "outputs": [],
   "source": [
    "import pandas as pd\n",
    "import numpy as np\n",
    "pd.set_option('display.max_columns',False)\n",
    "import seaborn as sns\n",
    "import matplotlib.pyplot as plt\n",
    "from matplotlib import pyplot\n",
    "from sklearn.metrics import recall_score, precision_score, r2_score, accuracy_score, mean_absolute_error\n",
    "import pickle\n",
    "from sklearn.model_selection import train_test_split\n",
    "from sklearn.ensemble import RandomForestRegressor\n",
    "from sklearn.preprocessing import StandardScaler\n",
    "from sklearn import metrics\n",
    "from sklearn.metrics import mean_squared_error\n",
    "from sklearn.model_selection import GridSearchCV\n",
    "from sklearn.preprocessing import LabelEncoder\n",
    "sns.set_style(\"darkgrid\")"
   ]
  },
  {
   "cell_type": "markdown",
   "id": "congressional-cookie",
   "metadata": {},
   "source": [
    "Import cleaned data"
   ]
  },
  {
   "cell_type": "code",
   "execution_count": 2,
   "id": "african-friendship",
   "metadata": {},
   "outputs": [],
   "source": [
    "df_flights = pd.read_csv('cleaned_flights_sample2.csv')"
   ]
  },
  {
   "cell_type": "code",
   "execution_count": 5,
   "id": "rental-lemon",
   "metadata": {},
   "outputs": [],
   "source": [
    "df_flights = df_flights.drop(['fl_date','crs_dep_bin','dest','crs_arr_bin','departures_performed','payload','seats','passengers','freight','mail','ramp_to_ramp'],axis=1)"
   ]
  },
  {
   "cell_type": "code",
   "execution_count": 8,
   "id": "baking-compact",
   "metadata": {},
   "outputs": [],
   "source": [
    "# label encode the carrier and origin\n",
    "le = LabelEncoder()\n",
    "df_flights['op_unique_carrier'] = le.fit_transform(df_flights['op_unique_carrier'])\n",
    "df_flights['origin'] = le.fit_transform(df_flights['origin'])"
   ]
  },
  {
   "cell_type": "code",
   "execution_count": 9,
   "id": "worth-column",
   "metadata": {},
   "outputs": [],
   "source": [
    "X = df_flights.drop(['arr_delay'],axis=1)\n",
    "y = df_flights['arr_delay']"
   ]
  },
  {
   "cell_type": "code",
   "execution_count": 12,
   "id": "medium-representation",
   "metadata": {},
   "outputs": [],
   "source": [
    "# Scale the data\n",
    "scaler = StandardScaler()\n",
    "X_scale = scaler.fit_transform(X)\n",
    "X_scale = pd.DataFrame(X_scale,columns=X.columns)"
   ]
  },
  {
   "cell_type": "markdown",
   "id": "unknown-vermont",
   "metadata": {},
   "source": [
    "Using our entire dataset to train the model to predict the first 7 days of January"
   ]
  },
  {
   "cell_type": "code",
   "execution_count": 13,
   "id": "biological-press",
   "metadata": {},
   "outputs": [],
   "source": [
    "params = {\n",
    "    'n_estimators': [230,250,270],\n",
    "    'max_depth': [8,9,10]\n",
    "}\n",
    "n=5"
   ]
  },
  {
   "cell_type": "code",
   "execution_count": 14,
   "id": "hollow-walker",
   "metadata": {},
   "outputs": [],
   "source": [
    "rf = RandomForestRegressor()\n",
    "grid = GridSearchCV(estimator=rf,param_grid=params,cv=n,scoring='r2',verbose=1,n_jobs=-1)"
   ]
  },
  {
   "cell_type": "code",
   "execution_count": 16,
   "id": "recovered-validity",
   "metadata": {},
   "outputs": [
    {
     "name": "stdout",
     "output_type": "stream",
     "text": [
      "Fitting 5 folds for each of 9 candidates, totalling 45 fits\n"
     ]
    }
   ],
   "source": [
    "grid_results = grid.fit(X,y)"
   ]
  },
  {
   "cell_type": "code",
   "execution_count": 17,
   "id": "thorough-opening",
   "metadata": {},
   "outputs": [],
   "source": [
    "#save model with pickle\n",
    "# filename = 'final_gridsearch.sav'\n",
    "# pickle.dump(grid,open(filename,'wb'))"
   ]
  },
  {
   "cell_type": "markdown",
   "id": "romantic-sewing",
   "metadata": {},
   "source": [
    "### Load test data"
   ]
  },
  {
   "cell_type": "code",
   "execution_count": 24,
   "id": "recorded-order",
   "metadata": {},
   "outputs": [],
   "source": [
    "df_test = pd.read_csv('test_sample_cleaned.csv')"
   ]
  },
  {
   "cell_type": "code",
   "execution_count": 27,
   "id": "daily-missile",
   "metadata": {},
   "outputs": [],
   "source": [
    "df_test.rename(columns={'distance_x':'distance'},inplace=True)"
   ]
  },
  {
   "cell_type": "code",
   "execution_count": 31,
   "id": "accompanied-bleeding",
   "metadata": {},
   "outputs": [],
   "source": [
    "df_test = df_test.drop(['fl_date','dest','crs_dep_bin','crs_arr_bin'],axis=1)"
   ]
  },
  {
   "cell_type": "code",
   "execution_count": 35,
   "id": "appropriate-intensity",
   "metadata": {},
   "outputs": [],
   "source": [
    "# label encode the carrier and origin\n",
    "le = LabelEncoder()\n",
    "df_test['op_unique_carrier'] = le.fit_transform(df_test['op_unique_carrier'])\n",
    "df_test['origin'] = le.fit_transform(df_test['origin'])"
   ]
  },
  {
   "cell_type": "code",
   "execution_count": 36,
   "id": "circular-crossing",
   "metadata": {},
   "outputs": [
    {
     "data": {
      "text/html": [
       "<div>\n",
       "<style scoped>\n",
       "    .dataframe tbody tr th:only-of-type {\n",
       "        vertical-align: middle;\n",
       "    }\n",
       "\n",
       "    .dataframe tbody tr th {\n",
       "        vertical-align: top;\n",
       "    }\n",
       "\n",
       "    .dataframe thead th {\n",
       "        text-align: right;\n",
       "    }\n",
       "</style>\n",
       "<table border=\"1\" class=\"dataframe\">\n",
       "  <thead>\n",
       "    <tr style=\"text-align: right;\">\n",
       "      <th></th>\n",
       "      <th>op_unique_carrier</th>\n",
       "      <th>origin</th>\n",
       "      <th>crs_dep_time</th>\n",
       "      <th>crs_arr_time</th>\n",
       "      <th>crs_elapsed_time</th>\n",
       "      <th>distance</th>\n",
       "      <th>month</th>\n",
       "      <th>weekday</th>\n",
       "      <th>totalSnow_cm</th>\n",
       "      <th>precipMM</th>\n",
       "      <th>visibility</th>\n",
       "      <th>windspeedKmph</th>\n",
       "      <th>avg_passengers</th>\n",
       "      <th>avg_percent_capacity</th>\n",
       "    </tr>\n",
       "  </thead>\n",
       "  <tbody>\n",
       "    <tr>\n",
       "      <th>0</th>\n",
       "      <td>21</td>\n",
       "      <td>246</td>\n",
       "      <td>18</td>\n",
       "      <td>19</td>\n",
       "      <td>95</td>\n",
       "      <td>363</td>\n",
       "      <td>1</td>\n",
       "      <td>2</td>\n",
       "      <td>0.0</td>\n",
       "      <td>0.0</td>\n",
       "      <td>10</td>\n",
       "      <td>4</td>\n",
       "      <td>96.666077</td>\n",
       "      <td>0.755158</td>\n",
       "    </tr>\n",
       "    <tr>\n",
       "      <th>1</th>\n",
       "      <td>21</td>\n",
       "      <td>246</td>\n",
       "      <td>11</td>\n",
       "      <td>13</td>\n",
       "      <td>90</td>\n",
       "      <td>363</td>\n",
       "      <td>1</td>\n",
       "      <td>2</td>\n",
       "      <td>0.0</td>\n",
       "      <td>0.0</td>\n",
       "      <td>10</td>\n",
       "      <td>4</td>\n",
       "      <td>96.666077</td>\n",
       "      <td>0.755158</td>\n",
       "    </tr>\n",
       "    <tr>\n",
       "      <th>2</th>\n",
       "      <td>21</td>\n",
       "      <td>246</td>\n",
       "      <td>20</td>\n",
       "      <td>21</td>\n",
       "      <td>70</td>\n",
       "      <td>333</td>\n",
       "      <td>1</td>\n",
       "      <td>2</td>\n",
       "      <td>0.0</td>\n",
       "      <td>0.0</td>\n",
       "      <td>10</td>\n",
       "      <td>4</td>\n",
       "      <td>104.000000</td>\n",
       "      <td>0.720000</td>\n",
       "    </tr>\n",
       "    <tr>\n",
       "      <th>3</th>\n",
       "      <td>21</td>\n",
       "      <td>246</td>\n",
       "      <td>13</td>\n",
       "      <td>14</td>\n",
       "      <td>75</td>\n",
       "      <td>333</td>\n",
       "      <td>1</td>\n",
       "      <td>2</td>\n",
       "      <td>0.0</td>\n",
       "      <td>0.0</td>\n",
       "      <td>10</td>\n",
       "      <td>4</td>\n",
       "      <td>104.000000</td>\n",
       "      <td>0.720000</td>\n",
       "    </tr>\n",
       "    <tr>\n",
       "      <th>4</th>\n",
       "      <td>21</td>\n",
       "      <td>246</td>\n",
       "      <td>9</td>\n",
       "      <td>10</td>\n",
       "      <td>80</td>\n",
       "      <td>333</td>\n",
       "      <td>1</td>\n",
       "      <td>2</td>\n",
       "      <td>0.0</td>\n",
       "      <td>0.0</td>\n",
       "      <td>10</td>\n",
       "      <td>4</td>\n",
       "      <td>104.000000</td>\n",
       "      <td>0.720000</td>\n",
       "    </tr>\n",
       "    <tr>\n",
       "      <th>...</th>\n",
       "      <td>...</td>\n",
       "      <td>...</td>\n",
       "      <td>...</td>\n",
       "      <td>...</td>\n",
       "      <td>...</td>\n",
       "      <td>...</td>\n",
       "      <td>...</td>\n",
       "      <td>...</td>\n",
       "      <td>...</td>\n",
       "      <td>...</td>\n",
       "      <td>...</td>\n",
       "      <td>...</td>\n",
       "      <td>...</td>\n",
       "      <td>...</td>\n",
       "    </tr>\n",
       "    <tr>\n",
       "      <th>150618</th>\n",
       "      <td>0</td>\n",
       "      <td>99</td>\n",
       "      <td>17</td>\n",
       "      <td>19</td>\n",
       "      <td>117</td>\n",
       "      <td>509</td>\n",
       "      <td>1</td>\n",
       "      <td>1</td>\n",
       "      <td>0.0</td>\n",
       "      <td>0.0</td>\n",
       "      <td>10</td>\n",
       "      <td>16</td>\n",
       "      <td>57.000000</td>\n",
       "      <td>0.750000</td>\n",
       "    </tr>\n",
       "    <tr>\n",
       "      <th>150619</th>\n",
       "      <td>0</td>\n",
       "      <td>141</td>\n",
       "      <td>6</td>\n",
       "      <td>7</td>\n",
       "      <td>119</td>\n",
       "      <td>610</td>\n",
       "      <td>1</td>\n",
       "      <td>1</td>\n",
       "      <td>0.0</td>\n",
       "      <td>4.2</td>\n",
       "      <td>10</td>\n",
       "      <td>10</td>\n",
       "      <td>69.000000</td>\n",
       "      <td>0.910000</td>\n",
       "    </tr>\n",
       "    <tr>\n",
       "      <th>150620</th>\n",
       "      <td>0</td>\n",
       "      <td>20</td>\n",
       "      <td>17</td>\n",
       "      <td>18</td>\n",
       "      <td>121</td>\n",
       "      <td>589</td>\n",
       "      <td>1</td>\n",
       "      <td>1</td>\n",
       "      <td>0.0</td>\n",
       "      <td>0.8</td>\n",
       "      <td>10</td>\n",
       "      <td>18</td>\n",
       "      <td>53.000000</td>\n",
       "      <td>0.720000</td>\n",
       "    </tr>\n",
       "    <tr>\n",
       "      <th>150621</th>\n",
       "      <td>0</td>\n",
       "      <td>358</td>\n",
       "      <td>18</td>\n",
       "      <td>21</td>\n",
       "      <td>114</td>\n",
       "      <td>589</td>\n",
       "      <td>1</td>\n",
       "      <td>1</td>\n",
       "      <td>0.0</td>\n",
       "      <td>0.0</td>\n",
       "      <td>10</td>\n",
       "      <td>13</td>\n",
       "      <td>50.000000</td>\n",
       "      <td>0.680000</td>\n",
       "    </tr>\n",
       "    <tr>\n",
       "      <th>150622</th>\n",
       "      <td>0</td>\n",
       "      <td>283</td>\n",
       "      <td>6</td>\n",
       "      <td>7</td>\n",
       "      <td>101</td>\n",
       "      <td>269</td>\n",
       "      <td>1</td>\n",
       "      <td>1</td>\n",
       "      <td>0.0</td>\n",
       "      <td>0.0</td>\n",
       "      <td>10</td>\n",
       "      <td>11</td>\n",
       "      <td>61.000000</td>\n",
       "      <td>0.850000</td>\n",
       "    </tr>\n",
       "  </tbody>\n",
       "</table>\n",
       "<p>150623 rows × 14 columns</p>\n",
       "</div>"
      ],
      "text/plain": [
       "        op_unique_carrier  origin  ...  avg_passengers  avg_percent_capacity\n",
       "0                      21     246  ...       96.666077              0.755158\n",
       "1                      21     246  ...       96.666077              0.755158\n",
       "2                      21     246  ...      104.000000              0.720000\n",
       "3                      21     246  ...      104.000000              0.720000\n",
       "4                      21     246  ...      104.000000              0.720000\n",
       "...                   ...     ...  ...             ...                   ...\n",
       "150618                  0      99  ...       57.000000              0.750000\n",
       "150619                  0     141  ...       69.000000              0.910000\n",
       "150620                  0      20  ...       53.000000              0.720000\n",
       "150621                  0     358  ...       50.000000              0.680000\n",
       "150622                  0     283  ...       61.000000              0.850000\n",
       "\n",
       "[150623 rows x 14 columns]"
      ]
     },
     "execution_count": 36,
     "metadata": {},
     "output_type": "execute_result"
    }
   ],
   "source": [
    "df_test"
   ]
  },
  {
   "cell_type": "code",
   "execution_count": 37,
   "id": "alien-state",
   "metadata": {},
   "outputs": [],
   "source": [
    "# Run the model to predict the test data\n",
    "grid_pred = grid_results.predict(df_test)"
   ]
  },
  {
   "cell_type": "code",
   "execution_count": 53,
   "id": "understood-indie",
   "metadata": {},
   "outputs": [],
   "source": [
    "submission = pd.read_csv('flights_test.csv')"
   ]
  },
  {
   "cell_type": "code",
   "execution_count": 54,
   "id": "systematic-reputation",
   "metadata": {},
   "outputs": [],
   "source": [
    "submission['predicted_delay'] = grid_pred"
   ]
  },
  {
   "cell_type": "code",
   "execution_count": 57,
   "id": "geographic-superior",
   "metadata": {},
   "outputs": [],
   "source": [
    "submission = submission[['fl_date','mkt_carrier','mkt_carrier_fl_num','origin','dest','predicted_delay']]"
   ]
  },
  {
   "cell_type": "code",
   "execution_count": 59,
   "id": "specified-gospel",
   "metadata": {},
   "outputs": [],
   "source": [
    "submission.to_csv('final_submission.csv',index=False)"
   ]
  }
 ],
 "metadata": {
  "kernelspec": {
   "display_name": "Python 3",
   "language": "python",
   "name": "python3"
  },
  "language_info": {
   "codemirror_mode": {
    "name": "ipython",
    "version": 3
   },
   "file_extension": ".py",
   "mimetype": "text/x-python",
   "name": "python",
   "nbconvert_exporter": "python",
   "pygments_lexer": "ipython3",
   "version": "3.8.5"
  }
 },
 "nbformat": 4,
 "nbformat_minor": 5
}
